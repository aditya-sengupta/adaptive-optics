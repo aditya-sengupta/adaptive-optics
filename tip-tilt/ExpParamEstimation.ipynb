{
 "cells": [
  {
   "cell_type": "code",
   "execution_count": 11,
   "metadata": {},
   "outputs": [
    {
     "data": {
      "text/plain": [
       "[<matplotlib.lines.Line2D at 0x7efd990c0668>]"
      ]
     },
     "execution_count": 11,
     "metadata": {},
     "output_type": "execute_result"
    },
    {
     "data": {
      "image/png": "[encoded data removed]",
      "text/plain": [
       "<Figure size 432x288 with 1 Axes>"
      ]
     },
     "metadata": {
      "needs_background": "light"
     },
     "output_type": "display_data"
    }
   ],
   "source": [
    "# Reference: https://hal.inria.fr/inria-00179732/document\n",
    "\n",
    "import numpy as np\n",
    "from scipy import integrate\n",
    "import sympy\n",
    "from matplotlib import pyplot as plt\n",
    "from IPython.display import display\n",
    "\n",
    "%matplotlib inline\n",
    "\n",
    "# set up a sum of coefficients to estimate\n",
    "\n",
    "N = 1\n",
    "T = 10\n",
    "alpha_real = [-0.2, -0.2]\n",
    "alpha_imag = [0.9, -0.9]\n",
    "times = np.linspace(0, T, 10000)\n",
    "signal = sum([np.exp((alpha_real[i] + 1j * alpha_imag[i]) * times) for i in range(N)])\n",
    "plt.plot(times, signal.real)"
   ]
  },
  {
   "cell_type": "code",
   "execution_count": 12,
   "metadata": {},
   "outputs": [],
   "source": [
    "# set up Laplace domain matrix equations\n",
    "\n",
    "s = sympy.Symbol('s')\n",
    "y = sympy.Function('y')(s)\n",
    "v = sympy.Symbol('v')\n",
    "\n",
    "fn_d = lambda s, y: (s**(N+1) * y)\n",
    "fn_d_ij = lambda i, j: sympy.diff(fn_d(s, y), s, N+i+1)\n",
    "fn_a = lambda j: lambda s, y: (s**(N-j) * y)\n",
    "fn_a_ij = lambda i, j: sympy.diff(fn_a(j)(s, y), s, N+i+1)\n",
    "\n",
    "D = (sympy.expand(sympy.Matrix(N, 1, fn_d_ij)/s**v))\n",
    "A = (sympy.expand(sympy.Matrix(N, N, fn_a_ij)/s**v))"
   ]
  },
  {
   "cell_type": "code",
   "execution_count": 13,
   "metadata": {},
   "outputs": [
    {
     "data": {
      "text/plain": [
       "'s*s**(-v)*Derivative(y(s), (s, 2)) + 2*s**(-v)*Derivative(y(s), s)'"
      ]
     },
     "execution_count": 13,
     "metadata": {},
     "output_type": "execute_result"
    }
   ],
   "source": [
    "repr(A[0])"
   ]
  },
  {
   "cell_type": "code",
   "execution_count": 14,
   "metadata": {},
   "outputs": [],
   "source": [
    "def ilaplace(sym):\n",
    "    # takes in a symbolic of the form s^(j-v) y^(i)\n",
    "    # returns a function that takes in the time-domain signal and returns \n",
    "    return"
   ]
  },
  {
   "cell_type": "code",
   "execution_count": 17,
   "metadata": {},
   "outputs": [
    {
     "data": {
      "text/plain": [
       "<matplotlib.legend.Legend at 0x7efd98f1d710>"
      ]
     },
     "execution_count": 17,
     "metadata": {},
     "output_type": "execute_result"
    },
    {
     "data": {
      "image/png": "[encoded data removed]",
      "text/plain": [
       "<Figure size 432x288 with 1 Axes>"
      ]
     },
     "metadata": {
      "needs_background": "light"
     },
     "output_type": "display_data"
    }
   ],
   "source": [
    "# set up and solve the matrix equation\n",
    "\n",
    "fact = np.math.factorial\n",
    "\n",
    "A = np.zeros((N, N), dtype='complex')\n",
    "d = np.zeros(N, dtype='complex')\n",
    "\n",
    "v = N+2\n",
    "\n",
    "def permute(n, k):\n",
    "    # useful because it's the coefficient on the 'k'th derivative of s^n\n",
    "    assert n >= k, \"permute got a bad value\"\n",
    "    return fact(n)/fact(n - k)\n",
    "\n",
    "def choose(n, k):\n",
    "    # useful because product rule works\n",
    "    assert n >= k, \"choose got a bad value\"\n",
    "    return fact(n)/(fact(k)*fact(n - k))\n",
    "\n",
    "# set up d\n",
    "\n",
    "for i in range(1,N+1):\n",
    "    for k in range(N+2):\n",
    "        to_integrate = (T - times)**(v-N+k-2) * times**(N+i-k) * signal\n",
    "        integral = integrate.simps(to_integrate, times)\n",
    "        d[i-1] += choose(N+i, k) * permute(N+1, k) * (-1)**(N+i-k)/fact(v-N+k-2) * integral\n",
    "        \n",
    "# set up A\n",
    "for i in range(1,N+1):\n",
    "    for j in range(1,N+1):\n",
    "        for k in range(N+2-j):\n",
    "            to_integrate = (T - times)**(v-N+j+k-2) * times**(N+i-k) * signal\n",
    "            integral = integrate.simps(to_integrate, times)\n",
    "            A[i-1][j-1] += choose(N+i, k) * permute(N+1-j, k) * (-1)**(N+i-k)/fact(v-N+j+k-2) * integral\n",
    "            \n",
    "# d = A*theta\n",
    "theta = np.linalg.inv(A).dot(d)\n",
    "theta = np.hstack((1, -theta))\n",
    "alpha = np.roots(theta)\n",
    "\n",
    "reconstructed = sum([np.exp(alpha[i] * times) for i in range(N)])\n",
    "\n",
    "plt.plot(times, signal.real, label='True')\n",
    "plt.plot(times, reconstructed.real, label='Reconstructed')\n",
    "plt.legend()"
   ]
  },
  {
   "cell_type": "code",
   "execution_count": null,
   "metadata": {},
   "outputs": [],
   "source": []
  }
 ],
 "metadata": {
  "kernelspec": {
   "display_name": "Python 3",
   "language": "python",
   "name": "python3"
  },
  "language_info": {
   "codemirror_mode": {
    "name": "ipython",
    "version": 3
   },
   "file_extension": ".py",
   "mimetype": "text/x-python",
   "name": "python",
   "nbconvert_exporter": "python",
   "pygments_lexer": "ipython3",
   "version": "3.6.8"
  }
 },
 "nbformat": 4,
 "nbformat_minor": 2
}
