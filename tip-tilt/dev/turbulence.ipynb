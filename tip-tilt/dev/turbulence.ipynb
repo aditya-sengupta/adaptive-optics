{
 "cells": [
  {
   "cell_type": "code",
   "execution_count": 1,
   "metadata": {},
   "outputs": [],
   "source": [
    "import sys\n",
    "sys.path.append(\"..\")\n",
    "from hcipy.hcipy import *\n",
    "import numpy as np\n",
    "from matplotlib import pyplot as plt\n",
    "%matplotlib inline"
   ]
  },
  {
   "cell_type": "code",
   "execution_count": 2,
   "metadata": {},
   "outputs": [
    {
     "data": {
      "text/plain": [
       "<matplotlib.colorbar.Colorbar at 0x118c8f518>"
      ]
     },
     "execution_count": 2,
     "metadata": {},
     "output_type": "execute_result"
    },
    {
     "data": {
      "image/png": "[encoded data removed]",
      "text/plain": [
       "<Figure size 432x288 with 2 Axes>"
      ]
     },
     "metadata": {
      "needs_background": "light"
     },
     "output_type": "display_data"
    }
   ],
   "source": [
    "# visualizations of the mode basis elements\n",
    "imshow_field(zernike(*ansi_to_zernike(1))(make_pupil_grid(21)))\n",
    "plt.colorbar()"
   ]
  },
  {
   "cell_type": "code",
   "execution_count": 3,
   "metadata": {},
   "outputs": [
    {
     "data": {
      "text/plain": [
       "<matplotlib.image.NonUniformImage at 0x118e58630>"
      ]
     },
     "execution_count": 3,
     "metadata": {},
     "output_type": "execute_result"
    },
    {
     "data": {
      "image/png": "[encoded data removed]",
      "text/plain": [
       "<Figure size 432x288 with 1 Axes>"
      ]
     },
     "metadata": {
      "needs_background": "light"
     },
     "output_type": "display_data"
    }
   ],
   "source": [
    "imshow_field(zernike(*ansi_to_zernike(2))(make_pupil_grid(21)))"
   ]
  },
  {
   "cell_type": "code",
   "execution_count": 4,
   "metadata": {},
   "outputs": [],
   "source": [
    "def pupil(N):\n",
    "\n",
    "    p = np.zeros([N,N])\n",
    "\n",
    "    radius = N/2.\n",
    "    [X,Y] = np.meshgrid(np.linspace(-(N-1)/2.,(N-1)/2.,N),np.linspace(-(N-1)/2.,(N-1)/2.,N))\n",
    "    R = np.sqrt(pow(X,2)+pow(Y,2))\n",
    "    p[R<=radius] = 1\n",
    "    \n",
    "    return p\n",
    "\n",
    "def projectOntoDM(Z,nAct,wL):\n",
    "\n",
    "    # Convert phase to optical path length and halve to\n",
    "    # compensate for double pass of DM\n",
    "    Z_DM = Z*wL/(2*np.pi)\n",
    "\n",
    "    # Set commands only for valid actuators\n",
    "    p = pupil(nAct)==1\n",
    "\n",
    "    # Scale commands for Keck DM (1V = 0.6u)\n",
    "    scale = 0.6e-6\n",
    "    Z_coefs = Z_DM[p]/scale\n",
    "\n",
    "    # Remove piston (average)\n",
    "    #Z_coeffs = Z_coefs - np.mean(Z_coefs)\n",
    "\n",
    "    return Z_coefs"
   ]
  },
  {
   "cell_type": "code",
   "execution_count": 48,
   "metadata": {},
   "outputs": [],
   "source": [
    "wavelength = 5e-7\n",
    "dt    = 1/1000\n",
    "T     = 1\n",
    "nAct  = 21\n",
    "D     = 10.95\n",
    "r0    = 16.5e-2   \n",
    "k     = 2 * np.pi / wavelength\n",
    "scale = 0.6e-6\n",
    "Z_DM = np.zeros([nAct,nAct])\n",
    "pup  = pupil(nAct) == 1\n",
    "binning_factor = 8\n",
    "pupil_grid     = make_pupil_grid(nAct*binning_factor, D)\n",
    "\n",
    "t = np.arange(0, T, dt)\n",
    "\n",
    "## Define Zernike basis set\n",
    "## We're planning to subtract the first 3 modes: piston, tip, and tilt\n",
    "mode_basis = make_zernike_basis(num_modes=3, D=D, grid=pupil_grid)\n",
    "tip = mode_basis[1:2]\n",
    "tilt = mode_basis[2:3]"
   ]
  },
  {
   "cell_type": "code",
   "execution_count": 50,
   "metadata": {},
   "outputs": [
    {
     "data": {
      "image/png": "[encoded data removed]",
      "text/plain": [
       "<Figure size 432x288 with 2 Axes>"
      ]
     },
     "metadata": {
      "needs_background": "light"
     },
     "output_type": "display_data"
    },
    {
     "data": {
      "image/png": "[encoded data removed]",
      "text/plain": [
       "<Figure size 432x288 with 2 Axes>"
      ]
     },
     "metadata": {
      "needs_background": "light"
     },
     "output_type": "display_data"
    }
   ],
   "source": [
    "outer_scale   = 20 \n",
    "wind_velocity = 15\n",
    "Cn2           = r0**(-5. / 3) / (0.423 * k**2)\n",
    "\n",
    "def sim_turbulence(controlled_modes):\n",
    "    single_layer_atmos = InfiniteAtmosphericLayer(pupil_grid,  Cn_squared=Cn2, L0=outer_scale, \n",
    "                                                  velocity=wind_velocity, use_interpolation=True)\n",
    "    modal_layer = ModalAdaptiveOpticsLayer(layer=single_layer_atmos, controlled_modes=controlled_modes, lag=0)\n",
    "    coeff_size = np.count_nonzero(pupil(nAct))\n",
    "    single_layer_turb = np.zeros((t.size, coeff_size))\n",
    "    for n in range(t.size):\n",
    "        modal_layer.evolve_until(t[n])\n",
    "        thephase = modal_layer.phase_for(wavelength)\n",
    "        thephase_binned = thephase.reshape(nAct,binning_factor, nAct, binning_factor).mean(axis=3).mean(axis=1)\n",
    "        # dimensions nAct x nAct\n",
    "\n",
    "        ## Remove piston\n",
    "        Z = thephase_binned * pup\n",
    "        Z[Z == 0] = np.nan\n",
    "        #Z = Z - np.nanmean(Z)\n",
    "\n",
    "        Z_coeffs = projectOntoDM(Z, nAct, wavelength)\n",
    "        single_layer_turb[n,:] = Z_coeffs\n",
    "    imshow_field(Field(modal_layer.phase_subtraction(5e-7), make_pupil_grid(168)))\n",
    "    plt.colorbar()\n",
    "    plt.show()\n",
    "    return single_layer_turb\n",
    "\n",
    "#np.save('./single_layer_turb_volts.npy', single_layer_turb)\n",
    "turbulence_tip, turbulence_tilt = sim_turbulence(tip), sim_turbulence(tilt)"
   ]
  },
  {
   "cell_type": "code",
   "execution_count": 7,
   "metadata": {},
   "outputs": [
    {
     "ename": "NameError",
     "evalue": "name 'turbulence_all' is not defined",
     "output_type": "error",
     "traceback": [
      "\u001b[0;31m---------------------------------------------------------------------------\u001b[0m",
      "\u001b[0;31mNameError\u001b[0m                                 Traceback (most recent call last)",
      "\u001b[0;32m<ipython-input-7-62592e1c969a>\u001b[0m in \u001b[0;36m<module>\u001b[0;34m\u001b[0m\n\u001b[0;32m----> 1\u001b[0;31m \u001b[0maberrations_all_var\u001b[0m \u001b[0;34m=\u001b[0m \u001b[0mnp\u001b[0m\u001b[0;34m.\u001b[0m\u001b[0msqrt\u001b[0m\u001b[0;34m(\u001b[0m\u001b[0;34m(\u001b[0m\u001b[0mturbulence_all\u001b[0m\u001b[0;34m**\u001b[0m\u001b[0;36m2\u001b[0m\u001b[0;34m)\u001b[0m\u001b[0;34m.\u001b[0m\u001b[0mmean\u001b[0m\u001b[0;34m(\u001b[0m\u001b[0maxis\u001b[0m\u001b[0;34m=\u001b[0m\u001b[0;36m1\u001b[0m\u001b[0;34m)\u001b[0m\u001b[0;34m)\u001b[0m\u001b[0;34m\u001b[0m\u001b[0;34m\u001b[0m\u001b[0m\n\u001b[0m\u001b[1;32m      2\u001b[0m \u001b[0maberrations_all_orig\u001b[0m \u001b[0;34m=\u001b[0m \u001b[0mturbulence_all\u001b[0m\u001b[0;34m.\u001b[0m\u001b[0mmean\u001b[0m\u001b[0;34m(\u001b[0m\u001b[0maxis\u001b[0m\u001b[0;34m=\u001b[0m\u001b[0;36m1\u001b[0m\u001b[0;34m)\u001b[0m\u001b[0;34m\u001b[0m\u001b[0;34m\u001b[0m\u001b[0m\n\u001b[1;32m      3\u001b[0m \u001b[0maberrations_tt_var\u001b[0m \u001b[0;34m=\u001b[0m \u001b[0mnp\u001b[0m\u001b[0;34m.\u001b[0m\u001b[0msqrt\u001b[0m\u001b[0;34m(\u001b[0m\u001b[0;34m(\u001b[0m\u001b[0mturbulence_tt\u001b[0m\u001b[0;34m**\u001b[0m\u001b[0;36m2\u001b[0m\u001b[0;34m)\u001b[0m\u001b[0;34m.\u001b[0m\u001b[0mmean\u001b[0m\u001b[0;34m(\u001b[0m\u001b[0maxis\u001b[0m\u001b[0;34m=\u001b[0m\u001b[0;36m1\u001b[0m\u001b[0;34m)\u001b[0m\u001b[0;34m)\u001b[0m\u001b[0;34m\u001b[0m\u001b[0;34m\u001b[0m\u001b[0m\n\u001b[1;32m      4\u001b[0m \u001b[0maberrations_tt_orig\u001b[0m \u001b[0;34m=\u001b[0m \u001b[0mturbulence_tt\u001b[0m\u001b[0;34m.\u001b[0m\u001b[0mmean\u001b[0m\u001b[0;34m(\u001b[0m\u001b[0maxis\u001b[0m\u001b[0;34m=\u001b[0m\u001b[0;36m1\u001b[0m\u001b[0;34m)\u001b[0m\u001b[0;34m\u001b[0m\u001b[0;34m\u001b[0m\u001b[0m\n\u001b[1;32m      5\u001b[0m \u001b[0mplt\u001b[0m\u001b[0;34m.\u001b[0m\u001b[0mfigure\u001b[0m\u001b[0;34m(\u001b[0m\u001b[0mfigsize\u001b[0m\u001b[0;34m=\u001b[0m\u001b[0;34m(\u001b[0m\u001b[0;36m10\u001b[0m\u001b[0;34m,\u001b[0m\u001b[0;36m10\u001b[0m\u001b[0;34m)\u001b[0m\u001b[0;34m)\u001b[0m\u001b[0;34m\u001b[0m\u001b[0;34m\u001b[0m\u001b[0m\n",
      "\u001b[0;31mNameError\u001b[0m: name 'turbulence_all' is not defined"
     ]
    }
   ],
   "source": [
    "aberrations_all_var = np.sqrt((turbulence_all**2).mean(axis=1))\n",
    "aberrations_all_orig = turbulence_all.mean(axis=1)\n",
    "aberrations_tt_var = np.sqrt((turbulence_tt**2).mean(axis=1))\n",
    "aberrations_tt_orig = turbulence_tt.mean(axis=1)\n",
    "plt.figure(figsize=(10,10)) \n",
    "plt.plot(t, aberrations_all_orig, label='All modes controlled')\n",
    "plt.plot(t, aberrations_tt_orig, label='TT controlled')\n",
    "lim = np.max(np.abs(aberrations_tt_orig))\n",
    "plt.ylim(-lim,lim)\n",
    "plt.xlabel(\"Time (s)\")\n",
    "plt.ylabel(\"Aberration (mas)\")\n",
    "plt.title(\"Aberrations over time with all modes vs only TT controlled\")\n",
    "plt.legend()"
   ]
  },
  {
   "cell_type": "code",
   "execution_count": null,
   "metadata": {},
   "outputs": [],
   "source": [
    "plt.figure(figsize=(10,10))\n",
    "plt.plot(t, aberrations_all_var, label='All modes controlled')\n",
    "plt.plot(t, aberrations_tt_var, label='TT controlled')\n",
    "lim = np.max(np.abs(aberrations_tt_var))\n",
    "plt.ylim(-lim,lim)\n",
    "plt.xlabel(\"Time (s)\")\n",
    "plt.ylabel(\"Aberration (mas)\")\n",
    "plt.title(\"Magnitude of aberrations over time with all modes vs only TT controlled\")\n",
    "plt.legend()"
   ]
  },
  {
   "cell_type": "code",
   "execution_count": null,
   "metadata": {},
   "outputs": [],
   "source": []
  }
 ],
 "metadata": {
  "kernelspec": {
   "display_name": "Python 3",
   "language": "python",
   "name": "python3"
  },
  "language_info": {
   "codemirror_mode": {
    "name": "ipython",
    "version": 3
   },
   "file_extension": ".py",
   "mimetype": "text/x-python",
   "name": "python",
   "nbconvert_exporter": "python",
   "pygments_lexer": "ipython3",
   "version": "3.7.3"
  }
 },
 "nbformat": 4,
 "nbformat_minor": 2
}
