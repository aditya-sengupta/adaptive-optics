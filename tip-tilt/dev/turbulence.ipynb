{
 "cells": [
  {
   "cell_type": "code",
   "execution_count": 1,
   "metadata": {},
   "outputs": [],
   "source": [
    "import sys\n",
    "sys.path.append(\"..\")\n",
    "from hcipy.hcipy import *\n",
    "import numpy as np\n",
    "from matplotlib import pyplot as plt\n",
    "%matplotlib inline"
   ]
  },
  {
   "cell_type": "code",
   "execution_count": 2,
   "metadata": {},
   "outputs": [],
   "source": [
    "def pupil(N):\n",
    "\n",
    "    p = np.zeros([N,N])\n",
    "\n",
    "    radius = N/2.\n",
    "    [X,Y] = np.meshgrid(np.linspace(-(N-1)/2.,(N-1)/2.,N),np.linspace(-(N-1)/2.,(N-1)/2.,N))\n",
    "    R = np.sqrt(pow(X,2)+pow(Y,2))\n",
    "    p[R<=radius] = 1\n",
    "    \n",
    "    return p\n",
    "\n",
    "def projectOntoDM(Z,nAct,wL):\n",
    "\n",
    "    # Convert phase to optical path length and halve to\n",
    "    # compensate for double pass of DM\n",
    "    Z_DM = Z*wL/(2*np.pi)\n",
    "\n",
    "    # Set commands only for valid actuators\n",
    "    p = pupil(nAct)==1\n",
    "\n",
    "    # Scale commands for Keck DM (1V = 0.6u)\n",
    "    scale = 0.6e-6\n",
    "    Z_coefs = Z_DM[p]/scale\n",
    "\n",
    "    # Remove piston (average)\n",
    "    #Z_coeffs = Z_coefs - np.mean(Z_coefs)\n",
    "\n",
    "    return Z_coefs"
   ]
  },
  {
   "cell_type": "code",
   "execution_count": 3,
   "metadata": {},
   "outputs": [],
   "source": [
    "wavelength = 5e-7\n",
    "dt    = 1/1000\n",
    "T     = 1\n",
    "nAct  = 21\n",
    "D     = 10.95\n",
    "r0    = 16.5e-2   \n",
    "k     = 2 * np.pi / wavelength\n",
    "scale = 0.6e-6\n",
    "Z_DM = np.zeros([nAct,nAct])\n",
    "pup  = pupil(nAct) == 1\n",
    "binning_factor = 8\n",
    "pupil_grid     = make_pupil_grid(nAct*binning_factor, D)\n",
    "\n",
    "t = np.arange(0, T, dt)\n",
    "\n",
    "## Define Zernike basis set\n",
    "## We're planning to subtract the first 3 modes: piston, tip, and tilt\n",
    "mode_basis = make_zernike_basis(num_modes=3, D=D, grid=pupil_grid)\n",
    "tiptilt = mode_basis[1:3] # the mode basis for just controlling tip and tilt\n",
    "piston = mode_basis[:2] # the mode basis for just controlling piston"
   ]
  },
  {
   "cell_type": "code",
   "execution_count": 7,
   "metadata": {},
   "outputs": [],
   "source": [
    "outer_scale   = 20 \n",
    "wind_velocity = 15\n",
    "Cn2           = r0**(-5. / 3) / (0.423 * k**2)\n",
    "single_layer_atmos = InfiniteAtmosphericLayer(pupil_grid,  Cn_squared=Cn2, L0=outer_scale, \n",
    "                                              velocity=wind_velocity, use_interpolation=True)\n",
    "single_modal_layer_atmos = ModalAdaptiveOpticsLayer(layer=single_layer_atmos, controlled_modes=mode_basis, lag=0) \n",
    "coeff_size = np.count_nonzero(pupil(nAct))\n",
    "single_layer_turb = np.zeros((t.size, coeff_size))\n",
    "for n in range(t.size):\n",
    "    single_modal_layer_atmos.evolve_until(t[n])\n",
    "    thephase = single_modal_layer_atmos.phase_for(wavelength)\n",
    "    thephase_binned = thephase.reshape(nAct,binning_factor, nAct, binning_factor).mean(axis=3).mean(axis=1)\n",
    "    # dimensions nAct x nAct\n",
    "    \n",
    "    ## Remove piston\n",
    "    Z = thephase_binned * pup\n",
    "    Z[Z==0] = np.nan\n",
    "    #Z = Z - np.nanmean(Z)\n",
    "    \n",
    "\n",
    "    Z_coeffs = projectOntoDM(Z,nAct,wavelength)\n",
    "    single_layer_turb[n,:] = Z_coeffs\n",
    "\n",
    "#np.save('./single_layer_turb_volts.npy', single_layer_turb)"
   ]
  },
  {
   "cell_type": "code",
   "execution_count": 11,
   "metadata": {},
   "outputs": [
    {
     "data": {
      "text/plain": [
       "[<matplotlib.lines.Line2D at 0x11915c128>]"
      ]
     },
     "execution_count": 11,
     "metadata": {},
     "output_type": "execute_result"
    },
    {
     "data": {
      "image/png": "[encoded data removed]",
      "text/plain": [
       "<Figure size 432x288 with 1 Axes>"
      ]
     },
     "metadata": {
      "needs_background": "light"
     },
     "output_type": "display_data"
    }
   ],
   "source": [
    "aberrations_var = np.sqrt((single_layer_turb**2).mean(axis=1))\n",
    "aberrations_orig = single_layer_turb.mean(axis=1)\n",
    "plt.plot(t, aberrations_orig)\n",
    "plt.xlabel(\"Time (s)\")\n",
    "plt.ylabel(\"Aberration (mas)\") # I assume this is sqrt(dx^2 + dy^2)?"
   ]
  },
  {
   "cell_type": "code",
   "execution_count": null,
   "metadata": {},
   "outputs": [],
   "source": [
    "aberrations_var = np.sqrt((single_layer_turb**2).mean(axis=1))\n",
    "aberrations_orig = single_layer_turb.mean(axis=1)\n",
    "plt.plot(t, aberrations_orig)\n",
    "plt.xlabel(\"Time (s)\")\n",
    "plt.ylabel(\"Aberration (mas)\") # I assume this is sqrt(dx^2 + dy^2)?"
   ]
  }
 ],
 "metadata": {
  "kernelspec": {
   "display_name": "Python 3",
   "language": "python",
   "name": "python3"
  },
  "language_info": {
   "codemirror_mode": {
    "name": "ipython",
    "version": 3
   },
   "file_extension": ".py",
   "mimetype": "text/x-python",
   "name": "python",
   "nbconvert_exporter": "python",
   "pygments_lexer": "ipython3",
   "version": "3.7.3"
  }
 },
 "nbformat": 4,
 "nbformat_minor": 2
}
