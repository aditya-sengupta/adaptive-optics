{
 "cells": [
  {
   "cell_type": "code",
   "execution_count": 26,
   "metadata": {},
   "outputs": [
    {
     "name": "stdout",
     "output_type": "stream",
     "text": [
      "0.06205431282578728\n",
      "0.058653702746920326\n",
      "0.04221454033787108\n"
     ]
    }
   ],
   "source": [
    "# please say if you kfilter Robo-AO predictions that are off from truth by some white noise with the regular\n",
    "# measurements, you get good filtering\n",
    "\n",
    "import numpy as np\n",
    "from observer import *\n",
    "\n",
    "f_sampling = 8.6\n",
    "lim = 1000\n",
    "\n",
    "x_file = './roboao_tt/lx_all_library.txt'\n",
    "x_tt = np.genfromtxt(x_file).flatten()[:lim] * 0.0175797 * 2\n",
    "\n",
    "states_kf = np.zeros(lim)\n",
    "physics_predictions = x_tt + np.random.normal(0, 0.06, size=x_tt.size)\n",
    "measurements = x_tt + np.random.normal(0, 0.06, size=x_tt.size)\n",
    "\n",
    "P = np.array([0])\n",
    "Q = np.array([0.06])\n",
    "R = np.array([0.06])\n",
    "H = np.array([1])\n",
    "\n",
    "for i in range(lim):\n",
    "    x = physics_predictions[i]\n",
    "    P = x**2 * P + Q\n",
    "    error = x - measurements[i]\n",
    "    K = P.dot(H.T.dot(1/(H.dot(P.dot(H.T)) + R)))\n",
    "    x = x - K.dot(error)\n",
    "    states_kf[i] = x\n",
    "    \n",
    "rms = lambda data: np.sqrt(np.mean(data ** 2))\n",
    "print(rms(physics_predictions - x_tt))\n",
    "print(rms(measurements - x_tt))\n",
    "print(rms(states_kf - x_tt))"
   ]
  },
  {
   "cell_type": "code",
   "execution_count": null,
   "metadata": {},
   "outputs": [],
   "source": []
  }
 ],
 "metadata": {
  "kernelspec": {
   "display_name": "Python 3",
   "language": "python",
   "name": "python3"
  },
  "language_info": {
   "codemirror_mode": {
    "name": "ipython",
    "version": 3
   },
   "file_extension": ".py",
   "mimetype": "text/x-python",
   "name": "python",
   "nbconvert_exporter": "python",
   "pygments_lexer": "ipython3",
   "version": "3.7.4"
  }
 },
 "nbformat": 4,
 "nbformat_minor": 2
}
