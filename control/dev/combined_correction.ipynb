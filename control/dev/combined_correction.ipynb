{
 "cells": [
  {
   "cell_type": "code",
   "execution_count": null,
   "metadata": {},
   "outputs": [],
   "source": [
    "from aberrations import make_atm_data, make_1D_vibe_data, make_vibe_params\n",
    "from observer import make_state_transition_vibe, make_kfilter_vibe, KFilter, make_impulse_from_tt, make_kfilter_turb\n",
    "from matplotlib import pyplot as plt\n",
    "import numpy as np\n",
    "from scipy import signal, linalg\n",
    "from copy import deepcopy\n",
    "%matplotlib inline\n",
    "\n",
    "f_sampling = 1000\n",
    "N_vibe = 5\n",
    "use_turb = False\n",
    "steps = 5000\n",
    "noise = 0.06\n",
    "delay = 1\n",
    "\n",
    "rms = lambda data: np.sqrt(np.mean(data ** 2))"
   ]
  },
  {
   "cell_type": "code",
   "execution_count": null,
   "metadata": {},
   "outputs": [],
   "source": [
    "if use_turb:\n",
    "    turb = make_atm_data(steps)[:,0]"
   ]
  },
  {
   "cell_type": "code",
   "execution_count": null,
   "metadata": {},
   "outputs": [],
   "source": [
    "true_vibes = np.zeros((N_vibe, steps))\n",
    "vibe_errs = np.zeros((N_vibe, steps))\n",
    "vibe_params = np.zeros((N_vibe, 4))\n",
    "# let's add in process noise so that there's something for Q to fit to!\n",
    "process_vars = (10**-np.random.uniform(2, 3, (N_vibe,)))**2"
   ]
  },
  {
   "cell_type": "code",
   "execution_count": null,
   "metadata": {},
   "outputs": [],
   "source": [
    "process_vars"
   ]
  },
  {
   "cell_type": "code",
   "execution_count": null,
   "metadata": {},
   "outputs": [],
   "source": [
    "for i in range(N_vibe):\n",
    "    pars = make_vibe_params(N=1)\n",
    "    true_vibes[i] = make_1D_vibe_data(steps, vib_params=pars, N=1)\n",
    "    vibe_errs[i] = np.random.normal(0, process_vars[i], (steps,))\n",
    "    vibe_params[i] = pars\n",
    "    \n",
    "vibes = true_vibes + vibe_errs"
   ]
  },
  {
   "cell_type": "code",
   "execution_count": null,
   "metadata": {},
   "outputs": [],
   "source": [
    "if use_turb:\n",
    "    truths = np.sum(vibes, axis=0) + turb\n",
    "else:\n",
    "    truths = np.sum(vibes, axis=0)\n",
    "    \n",
    "measurements = truths + np.random.normal(0, noise, (truths.size,))"
   ]
  },
  {
   "cell_type": "code",
   "execution_count": null,
   "metadata": {},
   "outputs": [],
   "source": [
    "plt.semilogy(*signal.periodogram(truths, fs=f_sampling))\n",
    "plt.ylim(1e-7)"
   ]
  },
  {
   "cell_type": "code",
   "execution_count": null,
   "metadata": {},
   "outputs": [],
   "source": [
    "kfilter_v = make_kfilter_vibe(vibe_params[:,1:3], process_vars)\n",
    "#kfilter_t = make_kfilter_turb(make_impulse_from_tt(truths[:500] + np.random.normal(0, 0.06, (500,))))\n",
    "#kfilter_t.iters = max(kfilter_t.iters, 500)"
   ]
  },
  {
   "cell_type": "code",
   "execution_count": null,
   "metadata": {},
   "outputs": [],
   "source": [
    "kfilter = kfilter_v# + kfilter_t"
   ]
  },
  {
   "cell_type": "code",
   "execution_count": null,
   "metadata": {},
   "outputs": [],
   "source": [
    "# something seems very wrong with my control code, so I'm just ditching it.\n",
    "\n",
    "actions = np.zeros(steps - kfilter.iters,)\n",
    "for i in range(kfilter.iters, steps - 1):\n",
    "    kfilter.update(measurements[i])\n",
    "    actions[i - kfilter.iters + delay] = kfilter.H.dot((kfilter.A**(delay)).dot(kfilter.state))\n",
    "    kfilter.predict()"
   ]
  },
  {
   "cell_type": "code",
   "execution_count": null,
   "metadata": {},
   "outputs": [],
   "source": [
    "print(rms(measurements))\n",
    "print(rms(actions - truths[kfilter.iters:]))"
   ]
  },
  {
   "cell_type": "code",
   "execution_count": null,
   "metadata": {},
   "outputs": [],
   "source": [
    "ft, Pt = signal.periodogram(truths, fs=f_sampling)\n",
    "fres, Pres = signal.periodogram(truths[kfilter.iters:] - actions, fs=f_sampling)\n",
    "plt.semilogy(ft, Pt)\n",
    "plt.semilogy(fres, Pres)\n",
    "plt.show()"
   ]
  },
  {
   "cell_type": "code",
   "execution_count": null,
   "metadata": {},
   "outputs": [],
   "source": []
  }
 ],
 "metadata": {
  "kernelspec": {
   "display_name": "Python 3",
   "language": "python",
   "name": "python3"
  },
  "language_info": {
   "codemirror_mode": {
    "name": "ipython",
    "version": 3
   },
   "file_extension": ".py",
   "mimetype": "text/x-python",
   "name": "python",
   "nbconvert_exporter": "python",
   "pygments_lexer": "ipython3",
   "version": "3.7.4"
  }
 },
 "nbformat": 4,
 "nbformat_minor": 2
}
