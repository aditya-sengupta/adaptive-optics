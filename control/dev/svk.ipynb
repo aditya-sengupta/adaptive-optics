{
 "cells": [
  {
   "cell_type": "markdown",
   "metadata": {},
   "source": [
    "# Aim\n",
    "\n",
    "Attempting to implement the Support Vector Kalman method, as described at http://citeseerx.ist.psu.edu/viewdoc/download?doi=10.1.1.672.2696&rep=rep1&type=pdf.\n"
   ]
  },
  {
   "cell_type": "code",
   "execution_count": null,
   "metadata": {},
   "outputs": [],
   "source": [
    "from sklearn import svm\n",
    "from sklearn.model_selection import KFold\n",
    "import numpy as np\n",
    "from aberrations import make_vibe_params, make_vibe_data, make_noisy_data, measurement_noise\n",
    "from observer import make_kfilter, vibe_fit_freq, get_psd, predict, update, noise_filter\n",
    "from matplotlib import pyplot as plt\n",
    "from copy import deepcopy\n",
    "%matplotlib inline"
   ]
  },
  {
   "cell_type": "code",
   "execution_count": null,
   "metadata": {},
   "outputs": [],
   "source": [
    "from aberrations import time_id, f_sampling, f_1, times\n",
    "W = 10\n",
    "N = 10\n",
    "steps = int(f_sampling * time_id)\n",
    "times = np.arange(0, time_id, 1 / f_sampling)"
   ]
  },
  {
   "cell_type": "code",
   "execution_count": null,
   "metadata": {},
   "outputs": [],
   "source": [
    "# set up state training data\n",
    "truth = make_vibe_data(times=times,N=N)\n",
    "measurements = make_noisy_data(truth)"
   ]
  },
  {
   "cell_type": "code",
   "execution_count": null,
   "metadata": {},
   "outputs": [],
   "source": [
    "# first, let's run the Kalman filter for half a second normally\n",
    "state, A, P, Q, H, R = make_kfilter(*vibe_fit_freq(noise_filter(get_psd(measurements)), N=N))\n",
    "states_freq = np.zeros((steps, state.size))\n",
    "for k in range(steps):\n",
    "    state, P = update(H, P, R, state, measurements[k])\n",
    "    states_freq[k] = state\n",
    "    state, P = predict(A, P, Q, state)\n",
    "    \n",
    "pos_freq = np.array([H.dot(state) for state in states_freq]).flatten()\n",
    "\n",
    "plt.figure(figsize=(10,10))\n",
    "plt.plot(times, truth, label='Truth')\n",
    "plt.plot(times, pos_freq, label='Freq filter')\n",
    "plt.legend()"
   ]
  },
  {
   "cell_type": "code",
   "execution_count": null,
   "metadata": {},
   "outputs": [],
   "source": [
    "def make_svk_state_transition(x_training, y_training):\n",
    "    # normalize and rescale\n",
    "    x_recentering = (np.min(x_training, axis=0) + np.max(x_training, axis=0))/2\n",
    "    y_recentering = (np.min(y_training, axis=1) + np.max(y_training, axis=1))/2\n",
    "    x_training -= np.tile(x_recentering, (W+1, 1))\n",
    "    y_training -= np.repeat(y_recentering, W+1).reshape(state.size,W+1)\n",
    "    x_scales = (np.max(x_training, axis=0) - np.min(x_training, axis=0))/2\n",
    "    y_scales = (np.max(y_training, axis=1) - np.min(y_training, axis=1))/2\n",
    "    x_training /= np.tile(x_scales, (W+1, 1))\n",
    "    y_training /= np.repeat(y_scales, W+1).reshape(state.size,W+1)\n",
    "    A = np.zeros((STATE_SIZE, STATE_SIZE))\n",
    "    svk = [svm.SVR(kernel='linear',gamma='scale', C=1, epsilon=0.2)] * N\n",
    "    for i in range(N):\n",
    "        # help out the SVK by telling it the only state elements that matter\n",
    "        # we know this is the case because we ran in frequency mode for half a second\n",
    "        x_training_i = x_training[:,2*i:2*i+2]\n",
    "        svk[i].fit(x_training_i, y_training[2*i])\n",
    "        predictions = np.array([svk[i].predict(np.array([[1, 0]]))[0], \n",
    "                                svk[i].predict(np.array([[0, 1]]))[0]])\n",
    "        A[2*i][2*i], A[2*i][2*i+1] = predictions * (y_scales/x_scales)[2*i:2*i+2]\n",
    "        A[2*i+1][2*i] = 1\n",
    "    return A\n",
    "\n",
    "def make_svk_process_covariance(x_training, y_training):\n",
    "    kfold = KFold(W)"
   ]
  },
  {
   "cell_type": "code",
   "execution_count": null,
   "metadata": {},
   "outputs": [],
   "source": [
    "# evolve states based on this A. Note that the SVRs are getting trained but A itself isn't. May add KF for A later.\n",
    "refresh_frame = 300\n",
    "state = states_freq[refresh_frame]\n",
    "states_svk = np.zeros(states_freq.shape)\n",
    "states_svk[:refresh_frame] = states_freq[:refresh_frame]"
   ]
  },
  {
   "cell_type": "code",
   "execution_count": null,
   "metadata": {},
   "outputs": [],
   "source": [
    "#plt.plot(times, np.array([H.dot(state) for state in states_svk]).flatten())"
   ]
  },
  {
   "cell_type": "code",
   "execution_count": null,
   "metadata": {},
   "outputs": [],
   "source": [
    "STATE_SIZE = 2*N\n",
    "k = refresh_frame\n",
    "while k < steps:\n",
    "    # Assumed k > W + 1, and theoretically we need at least k = 2/f_1 (though apparently 1/f_1 is working fine)\n",
    "    if k == refresh_frame:\n",
    "        print(\"Refreshing the model at timestep\", k)\n",
    "        x_training = deepcopy(states_svk[k-W-2:k-1]) # a row is the state at a specific timestep: size (W+1, state.size)\n",
    "        y_training = deepcopy(states_svk[k-W-1:k].T) # a row is a state variable over the W timesteps: size (state.size, W+1)\n",
    "        A = make_svk_state_transition(x_training, y_training)\n",
    "    state, P = update(H, P, R, state, measurements[k])\n",
    "    states_svk[k] = state\n",
    "    state, P = predict(A, P, Q, state)\n",
    "    k += 1\n",
    "\n",
    "#plt.plot(times, np.array([H.dot(state) for state in states_svk]).flatten())"
   ]
  },
  {
   "cell_type": "code",
   "execution_count": null,
   "metadata": {},
   "outputs": [],
   "source": [
    "pos_svk = np.array([H.dot(state) for state in states_svk]).flatten()"
   ]
  },
  {
   "cell_type": "code",
   "execution_count": null,
   "metadata": {},
   "outputs": [],
   "source": [
    "plt.figure(figsize=(10,10))\n",
    "lim = np.max(np.abs(truth))\n",
    "plt.plot(times, truth, label='Truth')\n",
    "plt.plot(times, pos_svk, label='SVK')\n",
    "plt.legend()\n",
    "plt.ylim(-lim, lim)"
   ]
  },
  {
   "cell_type": "code",
   "execution_count": null,
   "metadata": {},
   "outputs": [],
   "source": [
    "plt.figure(figsize=(10,10))\n",
    "res_svk = np.abs(pos_svk - truth)\n",
    "res_freq = np.abs(pos_freq - truth)\n",
    "plt.plot(times, res_freq, label='Freq residual: avg = ' \n",
    "         + str(np.round(np.mean(res_freq[refresh_frame:]), 3)))\n",
    "plt.plot(times, res_svk, label='SVK residual: avg = ' \n",
    "         + str(np.round(np.mean(res_svk[refresh_frame:]), 3)))\n",
    "plt.legend()\n",
    "plt.xlabel(\"Time (s)\")\n",
    "plt.ylabel(\"Residual (mas)\")\n",
    "plt.title(\"Residuals of frequency fit and Support Vector Kalman\")\n",
    "plt.ylim(0, 1)"
   ]
  },
  {
   "cell_type": "code",
   "execution_count": null,
   "metadata": {},
   "outputs": [],
   "source": []
  }
 ],
 "metadata": {
  "kernelspec": {
   "display_name": "Python 3",
   "language": "python",
   "name": "python3"
  },
  "language_info": {
   "codemirror_mode": {
    "name": "ipython",
    "version": 3
   },
   "file_extension": ".py",
   "mimetype": "text/x-python",
   "name": "python",
   "nbconvert_exporter": "python",
   "pygments_lexer": "ipython3",
   "version": "3.7.4"
  }
 },
 "nbformat": 4,
 "nbformat_minor": 2
}
