{
 "cells": [
  {
   "cell_type": "markdown",
   "metadata": {},
   "source": [
    "# Aim\n",
    "\n",
    "Attempting to implement the Support Vector Kalman method, as described at http://citeseerx.ist.psu.edu/viewdoc/download?doi=10.1.1.672.2696&rep=rep1&type=pdf.\n"
   ]
  },
  {
   "cell_type": "code",
   "execution_count": 1,
   "metadata": {},
   "outputs": [],
   "source": [
    "from sklearn import svm\n",
    "import numpy as np\n",
    "from aberrations import make_vibe_params, make_vibe_data, make_noisy_data, measurement_noise, f_1\n",
    "from observer import make_kfilter, vibe_fit_freq, get_psd, predict, update"
   ]
  },
  {
   "cell_type": "code",
   "execution_count": 2,
   "metadata": {},
   "outputs": [],
   "source": [
    "from aberrations import time_id, f_sampling, f_1, times\n",
    "W = int(f_sampling/f_1 * 2) # do I really understand how Nyquist works\n",
    "N = 3\n",
    "time_id /= 2 # half of it in regular KF time, half in SVK mode\n",
    "steps = int(f_sampling * time_id)"
   ]
  },
  {
   "cell_type": "code",
   "execution_count": 3,
   "metadata": {},
   "outputs": [],
   "source": [
    "# set up state training data\n",
    "vib_freqs, vib_amps, vib_phase, vib_damping = make_vibe_params(N)\n",
    "truth_states = np.array([make_vibe_data((vib_freqs[i:i+1], vib_amps[i:i+1], vib_phase[i:i+1], vib_damping[i:i+1])) \n",
    "                  for i in range(N)])\n",
    "truth = make_vibe_data((vib_freqs, vib_amps, vib_phase, vib_damping))\n",
    "noise = np.random.normal(0, measurement_noise, (N, times.size))\n",
    "noisy_states = truth_states + noise\n",
    "measurements = truth + np.sum(noise, axis=0)"
   ]
  },
  {
   "cell_type": "code",
   "execution_count": 4,
   "metadata": {},
   "outputs": [],
   "source": [
    "# first, let's run the Kalman filter for half a second normally\n",
    "state, A, P, Q, H, R = make_kfilter(*vibe_fit_freq(get_psd(measurements[:steps]), N=N))\n",
    "states_r = np.zeros((steps, state.size))\n",
    "for k in range(steps):\n",
    "    state, P = update(H, P, R, state, measurements[k])\n",
    "    states_r[k] = state\n",
    "    state, P = predict(A, P, Q, state)"
   ]
  },
  {
   "cell_type": "code",
   "execution_count": 5,
   "metadata": {},
   "outputs": [
    {
     "name": "stdout",
     "output_type": "stream",
     "text": [
      "\n",
      "position  1\n",
      "Actual         0.2545099581135131\n",
      "SVM prediction -0.1606310640130696\n",
      "\n",
      "velocity  1\n",
      "Actual         -19.982458638334688\n",
      "SVM prediction 13.14407108713626\n",
      "\n",
      "position  2\n",
      "Actual         -0.0475298530825966\n",
      "SVM prediction 0.03429019629789061\n",
      "\n",
      "velocity  2\n",
      "Actual         25.734405856451165\n",
      "SVM prediction 5.095255021415934\n",
      "\n",
      "position  3\n",
      "Actual         -0.019344321691011447\n",
      "SVM prediction -0.018273291624174508\n",
      "\n",
      "velocity  3\n",
      "Actual         1.1972442307243496\n",
      "SVM prediction -5.760749485973628\n"
     ]
    }
   ],
   "source": [
    "# now, for the next half-second, we're going to use SVR\n",
    "x_training = states_r[steps-W-2:steps-1] # a row is the state at a specific timestep\n",
    "y_training = states_r[steps-W-1:steps].T # a row is a state variable over the W+1 timesteps\n",
    "\n",
    "svk = svm.SVR(gamma='scale', C=1.0, epsilon=0) # to be edited!\n",
    "for i in range(2*N):\n",
    "    # help out the SVK by telling it the only state elements that matter\n",
    "    # we know this is the case because we ran in frequency mode for half a second\n",
    "    if i % 2 == 0:\n",
    "        # we are at a position state variable\n",
    "        print(\"\\nposition \", i//2 + 1)\n",
    "        x_training_i = x_training[:,i:i+2]\n",
    "    else:\n",
    "        # we are at a velocity state variable\n",
    "        print(\"\\nvelocity \", i//2 + 1)\n",
    "        x_training_i = x_training[:,i-1:i+1]\n",
    "    print(\"Actual        \", y_training[i][0])\n",
    "    svk.fit(x_training_i, y_training[i])\n",
    "    print(\"SVM prediction\", svk.predict(x_training_i[0].reshape(1, -1))[0])"
   ]
  },
  {
   "cell_type": "code",
   "execution_count": null,
   "metadata": {},
   "outputs": [],
   "source": []
  }
 ],
 "metadata": {
  "kernelspec": {
   "display_name": "Python 3",
   "language": "python",
   "name": "python3"
  },
  "language_info": {
   "codemirror_mode": {
    "name": "ipython",
    "version": 3
   },
   "file_extension": ".py",
   "mimetype": "text/x-python",
   "name": "python",
   "nbconvert_exporter": "python",
   "pygments_lexer": "ipython3",
   "version": "3.7.4"
  }
 },
 "nbformat": 4,
 "nbformat_minor": 2
}
