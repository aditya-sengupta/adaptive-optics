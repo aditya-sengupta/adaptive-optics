{
 "cells": [
  {
   "cell_type": "code",
   "execution_count": 5,
   "metadata": {},
   "outputs": [],
   "source": [
    "import numpy as np\n",
    "from matplotlib import pyplot as plt\n",
    "%matplotlib inline\n",
    "from scipy import signal, optimize, stats\n",
    "from observer import make_kfilter, vibe_fit_freq, get_psd, predict, update, noise_filter\n",
    "from aberrations import make_1D_vibe_data"
   ]
  },
  {
   "cell_type": "code",
   "execution_count": 6,
   "metadata": {},
   "outputs": [],
   "source": [
    "T = 1\n",
    "f_sampling = 1000\n",
    "steps = T * f_sampling\n",
    "times = np.arange(0, steps/f_sampling, 1/f_sampling)\n",
    "\n",
    "vibe = make_1D_vibe_data(N=5)\n",
    "commands = np.zeros(steps)\n",
    "centroid = np.zeros(steps+1)\n",
    "\n",
    "for i in range(steps):\n",
    "    if i >= 3:\n",
    "        commands[i] = 0.6*commands[i-1] + 0.32*commands[i-2] + 0.08*commands[i-3] + 0.1*centroid[i]\n",
    "    centroid[i+1] = vibe[i] - commands[i]"
   ]
  },
  {
   "cell_type": "code",
   "execution_count": 7,
   "metadata": {},
   "outputs": [],
   "source": [
    "centroid_kalman = np.zeros(steps)\n",
    "\n",
    "state, A, P, Q, H, R = make_kfilter(*vibe_fit_freq(noise_filter(get_psd(vibe)), N=10))\n",
    "states_freq = np.zeros((steps, state.size))\n",
    "for k in range(steps):\n",
    "    state, P = update(H, P, R, state, vibe[k])\n",
    "    states_freq[k] = state\n",
    "    state, P = predict(A, P, Q, state)\n",
    "    centroid_kalman[k] = vibe[k] - H.dot(A.dot(states_freq[k]))\n",
    "    \n",
    "pos_freq = np.array([H.dot(state) for state in states_freq]).flatten()"
   ]
  },
  {
   "cell_type": "code",
   "execution_count": 8,
   "metadata": {},
   "outputs": [
    {
     "name": "stdout",
     "output_type": "stream",
     "text": [
      "Average deviation in x, open loop:  0.6816061378268371\n",
      "Average deviation in x, standard integrator:  0.685989358613586\n",
      "Average deviation in x, Kalman filter:  0.5593753378177407\n"
     ]
    }
   ],
   "source": [
    "print(\"Average deviation in x, open loop: \", sum([np.mean(vibe**2)]))\n",
    "print(\"Average deviation in x, standard integrator: \", sum([np.mean(centroid**2)]))\n",
    "print(\"Average deviation in x, Kalman filter: \", sum([np.mean(pos_freq**2)]))"
   ]
  }
 ],
 "metadata": {
  "kernelspec": {
   "display_name": "Python 3",
   "language": "python",
   "name": "python3"
  },
  "language_info": {
   "codemirror_mode": {
    "name": "ipython",
    "version": 3
   },
   "file_extension": ".py",
   "mimetype": "text/x-python",
   "name": "python",
   "nbconvert_exporter": "python",
   "pygments_lexer": "ipython3",
   "version": "3.7.4"
  }
 },
 "nbformat": 4,
 "nbformat_minor": 2
}
