{
 "cells": [
  {
   "cell_type": "markdown",
   "metadata": {},
   "source": [
    "# Aim\n",
    "\n",
    "In trying to build a simulation of atmospheric tip-tilts to correct using a Kalman-LQG controller, I've run into problems separating out tip and tilt from a phase screen, and in creating a specified tip or tilt in the focal plane intensity based on the phase at the pupil plane. This notebook demonstrates these problems."
   ]
  },
  {
   "cell_type": "code",
   "execution_count": 30,
   "metadata": {},
   "outputs": [],
   "source": [
    "# imports and setup\n",
    "\n",
    "# I have hcipy as a submodule, so this import may vary\n",
    "import sys\n",
    "sys.path.append(\"..\")\n",
    "from hcipy.hcipy import *\n",
    "\n",
    "import numpy as np\n",
    "import matplotlib.pyplot as plt\n",
    "%matplotlib inline\n",
    "from scipy import ndimage, signal\n",
    "\n",
    "D = 10.95 #m\n",
    "pupil_size = 40\n",
    "focal_samples = 20 # samples per lambda over D\n",
    "focal_width = 20 # the number of lambda over Ds\n",
    "\n",
    "wavelength = 500e-9 # m\n",
    "f_sampling = 1000\n",
    "T = 1\n",
    "times = np.arange(0, T, 1/f_sampling)\n",
    "pupil_grid = make_pupil_grid(pupil_size)\n",
    "focal_grid = make_focal_grid_from_pupil_grid(pupil_grid, focal_samples, focal_width, wavelength=wavelength)\n",
    "prop = FraunhoferPropagator(pupil_grid, focal_grid)\n",
    "aperture = circular_aperture(1)(pupil_grid)\n",
    "fried_parameter = 0.2 # meter\n",
    "outer_scale = 20 # meter\n",
    "velocity = 10 # meter/sec\n",
    "Cn_squared = Cn_squared_from_fried_parameter(fried_parameter, wavelength)\n",
    "layer = InfiniteAtmosphericLayer(pupil_grid, Cn_squared, outer_scale, velocity, use_interpolation=True)"
   ]
  },
  {
   "cell_type": "code",
   "execution_count": 34,
   "metadata": {},
   "outputs": [
    {
     "data": {
      "image/png": "[encoded data removed]",
      "text/plain": [
       "<Figure size 432x288 with 1 Axes>"
      ]
     },
     "metadata": {
      "needs_background": "light"
     },
     "output_type": "display_data"
    },
    {
     "data": {
      "image/png": "[encoded data removed]",
      "text/plain": [
       "<Figure size 432x288 with 1 Axes>"
      ]
     },
     "metadata": {
      "needs_background": "light"
     },
     "output_type": "display_data"
    }
   ],
   "source": [
    "# first, I want to generate one unit of movement in both x and y\n",
    "\n",
    "tt = [zernike(*ansi_to_zernike(i), 1)(pupil_grid) for i in (2, 1)] # tip-tilt phase basis\n",
    "tt_weights = (5, 0) # number of lambda-over-Ds I want to move the CM\n",
    "tt_wf = Wavefront(aperture * np.exp(1j * np.pi * sum([w * z for w, z in zip(tt_weights, tt)])), wavelength)\n",
    "tt_img = prop(tt_wf).intensity\n",
    "tt_img_ab = prop(Wavefront(tt_wf.electric_field * np.exp(1j * layer.phase_for(wavelength)), wavelength)).intensity\n",
    "imshow_field(tt_img)\n",
    "plt.title(\"One unit of tip-tilt movement, unaberrated\")\n",
    "plt.show()\n",
    "imshow_field(tt_img_ab)\n",
    "plt.title(\"One unit of tip-tilt movement, aberrated\")\n",
    "plt.show()"
   ]
  },
  {
   "cell_type": "code",
   "execution_count": 35,
   "metadata": {},
   "outputs": [
    {
     "name": "stdout",
     "output_type": "stream",
     "text": [
      "Unaberrated CM [98. -0.]\n",
      "Aberrated CM [100.   7.]\n"
     ]
    }
   ],
   "source": [
    "def center_of_mass(f):\n",
    "    dims = np.array([np.max(f.grid.x) - np.min(f.grid.x), np.max(f.grid.y) - np.min(f.grid.y)])\n",
    "    average = np.array([(f.grid.x * f).sum(), (f.grid.y * f).sum()]) / (f.sum())\n",
    "    return np.round(average * focal_width * focal_samples / dims)\n",
    "\n",
    "unaberrated_cm = center_of_mass(tt_img)\n",
    "aberrated_cm = center_of_mass(tt_img_ab)\n",
    "print(\"Unaberrated CM\", unaberrated_cm)\n",
    "print(\"Aberrated CM\", aberrated_cm)"
   ]
  },
  {
   "cell_type": "code",
   "execution_count": 5,
   "metadata": {},
   "outputs": [],
   "source": [
    "# I want to simulate only TT not being controlled. First I'll use a ModalAOLayer.\n",
    "corrected_layer = ModalAdaptiveOpticsLayer(layer, controlled_modes=ModeBasis(tt), lag=0)"
   ]
  },
  {
   "cell_type": "code",
   "execution_count": 6,
   "metadata": {},
   "outputs": [],
   "source": [
    "def correction_for(self, wavelength):\n",
    "    return self.transformation_matrix.dot(self.corrected_coeffs[0] / wavelength)\n",
    "\n",
    "def correct_until(self, t):\n",
    "    self.layer.evolve_until(t)\n",
    "\n",
    "    if len(self.corrected_coeffs) > 0:\n",
    "        coeffs = self.transformation_matrix_inverse.dot(self.correction_for(1))\n",
    "    else:\n",
    "        coeffs = self.transformation_matrix_inverse.dot(self.layer.phase_for(1))\n",
    "    if len(self.corrected_coeffs) > self.lag:\n",
    "        self.corrected_coeffs.pop(0)\n",
    "    self.corrected_coeffs.append(coeffs)\n",
    "    \n",
    "ModalAdaptiveOpticsLayer.correction_for = correction_for\n",
    "ModalAdaptiveOpticsLayer.correct_until = correct_until"
   ]
  },
  {
   "cell_type": "code",
   "execution_count": 7,
   "metadata": {},
   "outputs": [
    {
     "ename": "KeyboardInterrupt",
     "evalue": "",
     "output_type": "error",
     "traceback": [
      "\u001b[0;31m---------------------------------------------------------------------------\u001b[0m",
      "\u001b[0;31mKeyboardInterrupt\u001b[0m                         Traceback (most recent call last)",
      "\u001b[0;32m<ipython-input-7-30df22f2276e>\u001b[0m in \u001b[0;36m<module>\u001b[0;34m\u001b[0m\n\u001b[1;32m      6\u001b[0m \u001b[0;34m\u001b[0m\u001b[0m\n\u001b[1;32m      7\u001b[0m     \u001b[0mwf\u001b[0m \u001b[0;34m=\u001b[0m \u001b[0mWavefront\u001b[0m\u001b[0;34m(\u001b[0m\u001b[0maperture\u001b[0m \u001b[0;34m*\u001b[0m \u001b[0mcorrected_layer\u001b[0m\u001b[0;34m.\u001b[0m\u001b[0mphase_for\u001b[0m\u001b[0;34m(\u001b[0m\u001b[0mwavelength\u001b[0m\u001b[0;34m)\u001b[0m\u001b[0;34m,\u001b[0m \u001b[0mwavelength\u001b[0m\u001b[0;34m)\u001b[0m\u001b[0;34m\u001b[0m\u001b[0;34m\u001b[0m\u001b[0m\n\u001b[0;32m----> 8\u001b[0;31m     \u001b[0mtotal_intensity\u001b[0m \u001b[0;34m=\u001b[0m \u001b[0mprop\u001b[0m\u001b[0;34m(\u001b[0m\u001b[0mwf\u001b[0m\u001b[0;34m)\u001b[0m\u001b[0;34m.\u001b[0m\u001b[0mintensity\u001b[0m\u001b[0;34m\u001b[0m\u001b[0;34m\u001b[0m\u001b[0m\n\u001b[0m\u001b[1;32m      9\u001b[0m     \u001b[0mtt_cms\u001b[0m\u001b[0;34m[\u001b[0m\u001b[0mn\u001b[0m\u001b[0;34m]\u001b[0m \u001b[0;34m=\u001b[0m \u001b[0mcenter_of_mass\u001b[0m\u001b[0;34m(\u001b[0m\u001b[0mtotal_intensity\u001b[0m\u001b[0;34m)\u001b[0m\u001b[0;34m\u001b[0m\u001b[0;34m\u001b[0m\u001b[0m\n\u001b[1;32m     10\u001b[0m \u001b[0;34m\u001b[0m\u001b[0m\n",
      "\u001b[0;32m~/projects/adaptive-optics/control/hcipy/hcipy/optics/wavefront.py\u001b[0m in \u001b[0;36mintensity\u001b[0;34m(self)\u001b[0m\n\u001b[1;32m     42\u001b[0m         \u001b[0;34m@\u001b[0m\u001b[0mproperty\u001b[0m\u001b[0;34m\u001b[0m\u001b[0;34m\u001b[0m\u001b[0m\n\u001b[1;32m     43\u001b[0m         \u001b[0;32mdef\u001b[0m \u001b[0mintensity\u001b[0m\u001b[0;34m(\u001b[0m\u001b[0mself\u001b[0m\u001b[0;34m)\u001b[0m\u001b[0;34m:\u001b[0m\u001b[0;34m\u001b[0m\u001b[0;34m\u001b[0m\u001b[0m\n\u001b[0;32m---> 44\u001b[0;31m                 \u001b[0;32mreturn\u001b[0m \u001b[0mnp\u001b[0m\u001b[0;34m.\u001b[0m\u001b[0mabs\u001b[0m\u001b[0;34m(\u001b[0m\u001b[0mself\u001b[0m\u001b[0;34m.\u001b[0m\u001b[0melectric_field\u001b[0m\u001b[0;34m)\u001b[0m\u001b[0;34m**\u001b[0m\u001b[0;36m2\u001b[0m\u001b[0;34m\u001b[0m\u001b[0;34m\u001b[0m\u001b[0m\n\u001b[0m\u001b[1;32m     45\u001b[0m \u001b[0;34m\u001b[0m\u001b[0m\n\u001b[1;32m     46\u001b[0m         \u001b[0;34m@\u001b[0m\u001b[0mproperty\u001b[0m\u001b[0;34m\u001b[0m\u001b[0;34m\u001b[0m\u001b[0m\n",
      "\u001b[0;31mKeyboardInterrupt\u001b[0m: "
     ]
    }
   ],
   "source": [
    "conversion = (wavelength / D) * 206265000 / focal_samples\n",
    "\n",
    "tt_cms = np.zeros((f_sampling * T, 2))\n",
    "for n in range(f_sampling * T):\n",
    "    corrected_layer.correct_until(times[n]) \n",
    "    \n",
    "    wf = Wavefront(aperture * corrected_layer.phase_for(wavelength), wavelength)\n",
    "    total_intensity = prop(wf).intensity\n",
    "    tt_cms[n] = center_of_mass(total_intensity)\n",
    "    \n",
    "tt_cms *= conversion # pixels to mas"
   ]
  },
  {
   "cell_type": "code",
   "execution_count": null,
   "metadata": {},
   "outputs": [],
   "source": [
    "plt.figure(figsize=(10,10))\n",
    "plt.plot(tt_cms[:,0], tt_cms[:,1], 'ko-')\n",
    "plt.xlabel(\"x deviations (mas)\")\n",
    "plt.ylabel(\"y deviations (mas)\")\n",
    "plt.title(\"Atmospheric tip-tilts\")"
   ]
  },
  {
   "cell_type": "code",
   "execution_count": null,
   "metadata": {},
   "outputs": [],
   "source": [
    "# plotting the PSD of just one dimension, expecting an f^-2 power law\n",
    "plt.figure(figsize=(10,10))\n",
    "plt.semilogy(*signal.periodogram(tt_cms[:,1], f_sampling))\n",
    "plt.ylim(1e-7)"
   ]
  },
  {
   "cell_type": "code",
   "execution_count": null,
   "metadata": {},
   "outputs": [],
   "source": []
  }
 ],
 "metadata": {
  "kernelspec": {
   "display_name": "Python 3",
   "language": "python",
   "name": "python3"
  },
  "language_info": {
   "codemirror_mode": {
    "name": "ipython",
    "version": 3
   },
   "file_extension": ".py",
   "mimetype": "text/x-python",
   "name": "python",
   "nbconvert_exporter": "python",
   "pygments_lexer": "ipython3",
   "version": "3.7.4"
  }
 },
 "nbformat": 4,
 "nbformat_minor": 2
}
