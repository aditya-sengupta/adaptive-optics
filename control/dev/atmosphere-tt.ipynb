{
 "cells": [
  {
   "cell_type": "markdown",
   "metadata": {},
   "source": [
    "# Aim\n",
    "\n",
    "In trying to build a simulation of atmospheric tip-tilts to correct using a Kalman-LQG controller, I've run into problems separating out tip and tilt from a phase screen, and in creating a specified tip or tilt in the focal plane intensity based on the phase at the pupil plane. This notebook demonstrates these problems."
   ]
  },
  {
   "cell_type": "code",
   "execution_count": 43,
   "metadata": {},
   "outputs": [],
   "source": [
    "# imports and setup\n",
    "\n",
    "# I have hcipy as a submodule, so this import may vary\n",
    "import sys\n",
    "sys.path.append(\"..\")\n",
    "from hcipy.hcipy import *\n",
    "\n",
    "import numpy as np\n",
    "import matplotlib.pyplot as plt\n",
    "%matplotlib inline\n",
    "from scipy import ndimage, signal, optimize\n",
    "\n",
    "pupil_size = 16\n",
    "focal_samples = 8 # samples per lambda over D\n",
    "focal_width = 8 # half the number of lambda over Ds\n",
    "wavelength = 500e-9 # m\n",
    "f_sampling = 1000\n",
    "T = 1\n",
    "times = np.arange(0, T, 1/f_sampling)\n",
    "pupil_grid = make_pupil_grid(pupil_size, 1)\n",
    "focal_grid = make_focal_grid_from_pupil_grid(pupil_grid, q=focal_samples, num_airy=focal_width)\n",
    "prop = FraunhoferPropagator(pupil_grid, focal_grid, wavelength=wavelength)\n",
    "aperture = circular_aperture(1)(pupil_grid)\n",
    "fried_parameter = 0.2 # meter\n",
    "outer_scale = 20 # meter\n",
    "velocity = 10 # meter/sec\n",
    "Cn_squared = Cn_squared_from_fried_parameter(fried_parameter, wavelength)\n",
    "#layer = InfiniteAtmosphericLayer(pupil_grid, Cn_squared, outer_scale, velocity, use_interpolation=True)"
   ]
  },
  {
   "cell_type": "code",
   "execution_count": 44,
   "metadata": {},
   "outputs": [
    {
     "data": {
      "image/png": "[encoded data removed]",
      "text/plain": [
       "<Figure size 432x288 with 1 Axes>"
      ]
     },
     "metadata": {
      "needs_background": "light"
     },
     "output_type": "display_data"
    },
    {
     "data": {
      "text/plain": [
       "'imshow_field(tt_img_ab)\\nplt.title(\"One unit of tip-tilt movement, aberrated\")\\nplt.show()'"
      ]
     },
     "execution_count": 44,
     "metadata": {},
     "output_type": "execute_result"
    }
   ],
   "source": [
    "# first, I want to generate one unit of movement in both x and y\n",
    "\n",
    "tt = [zernike(*ansi_to_zernike(i), 1)(pupil_grid) for i in (1, 2)] # tip-tilt phase basis\n",
    "tt_weights = (10, 0) # number of lambda-over-Ds I want to move the CM\n",
    "tt_wf = Wavefront(aperture * np.exp(1j * 2 * np.pi * sum([w * z for w, z in zip(tt_weights, tt)])), wavelength)\n",
    "tt_img = prop(tt_wf).intensity\n",
    "#tt_img_ab = prop(Wavefront(tt_wf.electric_field * np.exp(1j * layer.phase_for(wavelength)), wavelength)).intensity\n",
    "imshow_field(tt_img)\n",
    "plt.title(\"One unit of tip-tilt movement, unaberrated\")\n",
    "plt.show()\n",
    "'''imshow_field(tt_img_ab)\n",
    "plt.title(\"One unit of tip-tilt movement, aberrated\")\n",
    "plt.show()'''"
   ]
  },
  {
   "cell_type": "code",
   "execution_count": 45,
   "metadata": {},
   "outputs": [
    {
     "name": "stdout",
     "output_type": "stream",
     "text": [
      "Unaberrated CM [-0.00393701  0.11045303]\n"
     ]
    }
   ],
   "source": [
    "def center_of_mass(f):\n",
    "    dims = np.array([np.max(f.grid.x) - np.min(f.grid.x), np.max(f.grid.y) - np.min(f.grid.y)])\n",
    "    average = np.array([(f.grid.x * f).sum(), (f.grid.y * f).sum()]) / (f.sum())\n",
    "    return average / dims\n",
    "\n",
    "# expected: only values between -1 and +1\n",
    "\n",
    "unaberrated_cm = center_of_mass(tt_img)\n",
    "#aberrated_cm = center_of_mass(tt_img_ab)\n",
    "print(\"Unaberrated CM\", unaberrated_cm)\n",
    "#print(\"Aberrated CM\", aberrated_cm)"
   ]
  },
  {
   "cell_type": "code",
   "execution_count": null,
   "metadata": {},
   "outputs": [],
   "source": [
    "# I want to simulate only TT not being controlled. First I'll use a ModalAOLayer.\n",
    "corrected_layer = ModalAdaptiveOpticsLayer(layer, controlled_modes=ModeBasis(tt), lag=0)"
   ]
  },
  {
   "cell_type": "markdown",
   "metadata": {},
   "source": [
    "Next, we run atmosphere tip-tilt in a loop so that its time-series and PSD can be examined. First, let's figure out dimensions: the output plane is in pixels that I can translate to lambda-over-Ds by scaling by focal_samples. lambda/D is rad: 1 lambda over D is about 500e-9/10 = 5e-8 = 10.313 mas, so one px is 0.10313 mas.\n",
    "\n",
    "Note that below I use a method that I wrote into ModalAdaptiveOpticsLayer.py to just get the correction for a mode basis, instead of the residual of the correction. This is equivalent (I think) to just having a ModeBasis with all modes that aren't tip and tilt."
   ]
  },
  {
   "cell_type": "code",
   "execution_count": null,
   "metadata": {},
   "outputs": [],
   "source": [
    "def correction_for(self, wavelength):\n",
    "    return self.transformation_matrix.dot(self.corrected_coeffs[0] / wavelength)\n",
    "\n",
    "def correct_until(self, t):\n",
    "    self.layer.evolve_until(t)\n",
    "\n",
    "    if len(self.corrected_coeffs) > 0:\n",
    "        coeffs = self.transformation_matrix_inverse.dot(self.correction_for(1))\n",
    "    else:\n",
    "        coeffs = self.transformation_matrix_inverse.dot(self.layer.phase_for(1))\n",
    "    if len(self.corrected_coeffs) > self.lag:\n",
    "        self.corrected_coeffs.pop(0)\n",
    "    self.corrected_coeffs.append(coeffs)\n",
    "    \n",
    "ModalAdaptiveOpticsLayer.correction_for = correction_for\n",
    "ModalAdaptiveOpticsLayer.correct_until = correct_until"
   ]
  },
  {
   "cell_type": "code",
   "execution_count": null,
   "metadata": {},
   "outputs": [],
   "source": [
    "conversion = (wavelength / D) * 206265000 / focal_samples\n",
    "\n",
    "tt_cms = np.zeros((f_sampling * T, 2))\n",
    "for n in range(f_sampling * T):\n",
    "    corrected_layer.correct_until(times[n]) \n",
    "    wf = Wavefront(aperture * np.exp(1j * corrected_layer.phase_for(wavelength)), wavelength)\n",
    "    total_intensity = prop(wf).intensity\n",
    "    tt_cms[n] = center_of_mass(total_intensity)\n",
    "    \n",
    "tt_cms *= conversion # pixels to mas"
   ]
  },
  {
   "cell_type": "code",
   "execution_count": null,
   "metadata": {},
   "outputs": [],
   "source": [
    "plt.figure(figsize=(10,10))\n",
    "plt.plot(tt_cms[:,0], tt_cms[:,1], 'ko-')\n",
    "plt.xlabel(\"x deviations (mas)\")\n",
    "plt.ylabel(\"y deviations (mas)\")\n",
    "plt.title(\"Atmospheric tip-tilts\")"
   ]
  },
  {
   "cell_type": "code",
   "execution_count": null,
   "metadata": {},
   "outputs": [],
   "source": [
    "# plotting the PSD of just one dimension, expecting an f^-2 power law\n",
    "plt.figure(figsize=(10,10))\n",
    "freqs, power = signal.periodogram(tt_cms[:,1], f_sampling)\n",
    "power_law_to_fit = np.vectorize(lambda f, a, b, c: a/(f + b)**2 + c)\n",
    "par0 = [1, 1, 0]\n",
    "par, cov = optimize.curve_fit(power_law_to_fit, freqs, power, par0)\n",
    "print(par)\n",
    "plt.loglog(freqs, power, label='Actual')\n",
    "plt.loglog(freqs, power_law_to_fit(freqs, *par0))\n",
    "plt.ylim(1e-7)"
   ]
  },
  {
   "cell_type": "code",
   "execution_count": null,
   "metadata": {},
   "outputs": [],
   "source": []
  }
 ],
 "metadata": {
  "kernelspec": {
   "display_name": "Python 3",
   "language": "python",
   "name": "python3"
  },
  "language_info": {
   "codemirror_mode": {
    "name": "ipython",
    "version": 3
   },
   "file_extension": ".py",
   "mimetype": "text/x-python",
   "name": "python",
   "nbconvert_exporter": "python",
   "pygments_lexer": "ipython3",
   "version": "3.7.4"
  }
 },
 "nbformat": 4,
 "nbformat_minor": 2
}
