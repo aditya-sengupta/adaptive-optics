{
 "cells": [
  {
   "cell_type": "markdown",
   "metadata": {},
   "source": [
    "# Model Predictive Control\n",
    "\n",
    "An entire marathon! Trying to make model predictive control (slightly more advanced than LQG) work. Main reference: https://ieeexplore-ieee-org.libproxy.berkeley.edu/stamp/stamp.jsp?tp=&arnumber=8511551\n",
    "\n",
    "Steps:\n",
    "\n",
    "1. Keck mirror finite-element analysis: find its $\\omega_D, \\omega_T, d$. Will just skip over this. \n",
    "2. Convert TF to SS and augment to make $C_i, B_i$.\n",
    "3. Augment with turbulence and vibrations to make $A_i$ and $C_0$.\n",
    "4. Pick $R_y, R_u, u_{max}$.\n",
    "5. Solve the quadratic system!"
   ]
  },
  {
   "cell_type": "code",
   "execution_count": 1,
   "metadata": {},
   "outputs": [],
   "source": [
    "import numpy as np\n",
    "from matplotlib import pyplot as plt\n",
    "from scipy import signal, io, linalg\n",
    "from cvxopt import solvers, matrix\n",
    "\n",
    "from aberrations import *\n",
    "from observer import *\n",
    "from controller import *\n",
    "from fractal_deriv import design_filt\n",
    "from utils import *\n",
    "\n",
    "f_sampling = 1000\n",
    "rms = lambda data: np.sqrt(np.mean(data ** 2))\n",
    "eps = 1e-8\n",
    "process_noise = 0.01\n",
    "measurement_noise = 0.06\n",
    "\n",
    "N_delay = 2"
   ]
  },
  {
   "cell_type": "code",
   "execution_count": 2,
   "metadata": {},
   "outputs": [
    {
     "name": "stderr",
     "output_type": "stream",
     "text": [
      "/usr/local/lib/python3.7/site-packages/scipy/signal/filter_design.py:1619: BadCoefficients: Badly conditioned filter coefficients (numerator): the results may be meaningless\n",
      "  \"results may be meaningless\", BadCoefficients)\n"
     ]
    }
   ],
   "source": [
    "# step 1: Keck mirror FEA results.\n",
    "\n",
    "# These are completely random numbers. \n",
    "\n",
    "w_TT = 100\n",
    "z_TT = 1\n",
    "\n",
    "def make_impulse(w, z, T=np.arange(0, 1, 0.001)):\n",
    "    num = [w**2]\n",
    "    den = [1, 2 * w * z, w**2]\n",
    "    tf = signal.TransferFunction(num, den)\n",
    "    impulse = signal.impulse(tf, T=T)\n",
    "    return impulse[0], impulse[1] / sum(impulse[1])\n",
    "\n",
    "num, den = signal.cont2discrete(([w_TT ** 2], [1, 2 * w_TT * z_TT, w_TT ** 2]), dt=1/f_sampling)[:2]\n",
    "A_TT, B_TT, C_TT, D_TT = signal.tf2ss(num, den)"
   ]
  },
  {
   "cell_type": "code",
   "execution_count": 7,
   "metadata": {},
   "outputs": [
    {
     "name": "stdout",
     "output_type": "stream",
     "text": [
      "Took 69 iterations to get steady-state covariance.\n"
     ]
    }
   ],
   "source": [
    "size = 5000\n",
    "N_vibe = 3\n",
    "params = make_vibe_params(N=N_vibe)\n",
    "vibe = make_1D_vibe_data(steps=size, N=N_vibe) + np.random.normal(0, process_noise * N_vibe, (size,))\n",
    "pol = vibe\n",
    "variances = np.array([process_noise] * N_vibe)\n",
    "kfilter_vibe = make_kfilter_vibe(np.vstack((params[1:3])).T, variances)"
   ]
  },
  {
   "cell_type": "code",
   "execution_count": 8,
   "metadata": {},
   "outputs": [],
   "source": [
    "res, phy = kfilter_vibe.run(vibe + np.random.normal(0, measurement_noise, vibe.size), save_physics=True)"
   ]
  },
  {
   "cell_type": "code",
   "execution_count": 9,
   "metadata": {},
   "outputs": [
    {
     "data": {
      "text/plain": [
       "[<matplotlib.lines.Line2D at 0x11fd7bb90>]"
      ]
     },
     "execution_count": 9,
     "metadata": {},
     "output_type": "execute_result"
    },
    {
     "data": {
      "image/png": "[encoded data removed]",
      "text/plain": [
       "<Figure size 432x288 with 1 Axes>"
      ]
     },
     "metadata": {
      "needs_background": "light"
     },
     "output_type": "display_data"
    }
   ],
   "source": [
    "plt.plot(res)\n",
    "plt.plot(vibe)"
   ]
  },
  {
   "cell_type": "code",
   "execution_count": 11,
   "metadata": {},
   "outputs": [],
   "source": [
    "N = 2 * N_vibe + N_delay"
   ]
  },
  {
   "cell_type": "code",
   "execution_count": 12,
   "metadata": {},
   "outputs": [],
   "source": [
    "A = np.zeros((N, N))\n",
    "for i in range(2 * N_vibe):\n",
    "    for j in range(2 * N_vibe):\n",
    "        A[i][j] = kfilter_vibe.A[i][j]\n",
    "        \n",
    "for i in range(N_vibe):\n",
    "    A[2 * N_vibe][2 * i] = 1\n",
    "    A[2 * N_vibe][2 * i + 1] = -1\n",
    "    \n",
    "A[2 * N_vibe][2 * N_vibe] = 1\n",
    "for i in range(1, N_delay):\n",
    "    A[2 * N_vibe + i][2 * N_vibe + i - 1] = 1"
   ]
  },
  {
   "cell_type": "code",
   "execution_count": 13,
   "metadata": {},
   "outputs": [],
   "source": [
    "B = np.zeros((N,1))\n",
    "B[2 * N_vibe] = 1\n",
    "C = np.zeros((1,N))\n",
    "C[0][2 * N_vibe + N_delay - 1] = 1\n",
    "\n",
    "Q = np.zeros((N,N))\n",
    "for i in range(N_vibe):\n",
    "    Q[2 * i][2 * i] = process_noise\n",
    "\n",
    "R = np.array([measurement_noise])"
   ]
  },
  {
   "cell_type": "code",
   "execution_count": 14,
   "metadata": {},
   "outputs": [
    {
     "name": "stdout",
     "output_type": "stream",
     "text": [
      "Took 57 iterations to get steady-state covariance.\n"
     ]
    }
   ],
   "source": [
    "kfilter = KFilter(np.zeros(N,), A, B, Q, C, R, has_input=True)"
   ]
  },
  {
   "cell_type": "code",
   "execution_count": 15,
   "metadata": {},
   "outputs": [],
   "source": [
    "N_frames = 5\n",
    "y, u = 50, 1\n",
    "R_y = np.identity(N_frames) * y\n",
    "R_u = np.identity(N_frames) * u\n",
    "C_0 = np.vstack(([kfilter.H] + [kfilter.H.dot(kfilter.A ** i) for i in range(1, N_frames)]))\n",
    "D_0 = np.zeros((N_frames,N_frames))\n",
    "for i in range(N_frames):\n",
    "    for j in range(i):\n",
    "        if i - j - 1 == 0:\n",
    "            D_0[i][j] = kfilter.H.dot(kfilter.B)\n",
    "        else:\n",
    "            D_0[i][j] = kfilter.H.dot(kfilter.A ** (i - j - 1)).dot(kfilter.B)"
   ]
  },
  {
   "cell_type": "code",
   "execution_count": 16,
   "metadata": {},
   "outputs": [],
   "source": [
    "kfilter.state = np.zeros(kfilter.A.shape[0],)\n",
    "H2 = 2 * kfilter.state.T.dot(C_0.T.dot(R_y).dot(D_0))\n",
    "H3 = D_0.dot(R_y).dot(D_0.T) + R_u\n",
    "u_max = float(max(np.diff(pol[:5000]))) # arbitrary\n",
    "G = np.identity(N_frames)\n",
    "G = np.vstack((np.identity(N_frames), -np.identity(N_frames)))\n",
    "h = np.vstack([u_max] * (2 * N_frames))"
   ]
  },
  {
   "cell_type": "code",
   "execution_count": 17,
   "metadata": {},
   "outputs": [
    {
     "data": {
      "text/plain": [
       "array([[0., 0., 0., 0., 0.],\n",
       "       [0., 0., 0., 0., 0.],\n",
       "       [1., 0., 0., 0., 0.],\n",
       "       [1., 1., 0., 0., 0.],\n",
       "       [1., 1., 1., 0., 0.]])"
      ]
     },
     "execution_count": 17,
     "metadata": {},
     "output_type": "execute_result"
    }
   ],
   "source": [
    "D_0"
   ]
  },
  {
   "cell_type": "code",
   "execution_count": 18,
   "metadata": {},
   "outputs": [
    {
     "name": "stdout",
     "output_type": "stream",
     "text": [
      "     pcost       dcost       gap    pres   dres\n",
      " 0:  0.0000e+00 -1.9056e+01  2e+01  0e+00  0e+00\n",
      " 1:  0.0000e+00 -1.9056e-01  2e-01  5e-16  0e+00\n",
      " 2:  0.0000e+00 -1.9056e-03  2e-03  0e+00  0e+00\n",
      " 3:  0.0000e+00 -1.9056e-05  2e-05  0e+00  0e+00\n",
      " 4:  0.0000e+00 -1.9056e-07  2e-07  0e+00  0e+00\n",
      " 5:  0.0000e+00 -1.9056e-09  2e-09  0e+00  0e+00\n",
      "Optimal solution found.\n"
     ]
    }
   ],
   "source": [
    "solution = solvers.qp(matrix(H3), matrix(H2), matrix(G), matrix(h, tc='d'), solver='qpOASES')['x']"
   ]
  },
  {
   "cell_type": "code",
   "execution_count": 19,
   "metadata": {},
   "outputs": [
    {
     "data": {
      "text/plain": [
       "array([[0.],\n",
       "       [0.],\n",
       "       [0.],\n",
       "       [0.],\n",
       "       [0.]])"
      ]
     },
     "execution_count": 19,
     "metadata": {},
     "output_type": "execute_result"
    }
   ],
   "source": [
    "np.array(solution) # should be zero or almost zero, because the state's zero"
   ]
  },
  {
   "cell_type": "code",
   "execution_count": 20,
   "metadata": {},
   "outputs": [],
   "source": [
    "kfilter.state = np.zeros(kfilter.A.shape[0],)\n",
    "delay = 2\n",
    "\n",
    "shifts = np.diff(pol)\n",
    "res_control = np.zeros(pol.shape)\n",
    "res_control[0] = pol[0]\n",
    "actions = np.zeros(pol.shape)\n",
    "for i in range(size):\n",
    "    try:\n",
    "        if i > 0:\n",
    "            res_control[i] = res_control[i - 1] + shifts[i - 1] + actions[i - 1]\n",
    "        measurement = res_control[i] + np.random.normal(0, 0.06)\n",
    "        kfilter.update(measurement)\n",
    "        \n",
    "        if i < pol.size - N_frames - 1 and i % N_frames == 0:\n",
    "            H2 = 2 * kfilter.state.T.dot(C_0.T.dot(R_y).dot(D_0))\n",
    "            solvers.options['show_progress'] = False\n",
    "            solution = solvers.qp(matrix(H3), matrix(H2), matrix(G), matrix(h, tc='d'), solver='cvxopt')['x']\n",
    "            for j in range(i, i + N_frames):\n",
    "                actions[j] = -solution[j - i]\n",
    "        \n",
    "        kfilter.predict(actions[i - 1])\n",
    "        \n",
    "    except:\n",
    "        print(i)\n",
    "        raise"
   ]
  },
  {
   "cell_type": "code",
   "execution_count": 21,
   "metadata": {},
   "outputs": [
    {
     "data": {
      "text/plain": [
       "0.639953962749036"
      ]
     },
     "execution_count": 21,
     "metadata": {},
     "output_type": "execute_result"
    }
   ],
   "source": [
    "rms(pol[kfilter.iters:])"
   ]
  },
  {
   "cell_type": "code",
   "execution_count": 22,
   "metadata": {},
   "outputs": [
    {
     "data": {
      "text/plain": [
       "2776.284074752971"
      ]
     },
     "execution_count": 22,
     "metadata": {},
     "output_type": "execute_result"
    }
   ],
   "source": [
    "rms(res_control[kfilter.iters:])"
   ]
  },
  {
   "cell_type": "code",
   "execution_count": 23,
   "metadata": {},
   "outputs": [
    {
     "data": {
      "text/plain": [
       "(1e-10, 789406629.0524534)"
      ]
     },
     "execution_count": 23,
     "metadata": {},
     "output_type": "execute_result"
    },
    {
     "data": {
      "image/png": "[encoded data removed]",
      "text/plain": [
       "<Figure size 432x288 with 1 Axes>"
      ]
     },
     "metadata": {
      "needs_background": "light"
     },
     "output_type": "display_data"
    }
   ],
   "source": [
    "plt.semilogy(*signal.periodogram(pol, fs=f_sampling))\n",
    "plt.semilogy(*signal.periodogram(res_control, fs=f_sampling))\n",
    "# plt.semilogy(*signal.periodogram(actions, fs=f_sampling))\n",
    "plt.ylim(1e-10)"
   ]
  },
  {
   "cell_type": "code",
   "execution_count": 24,
   "metadata": {},
   "outputs": [
    {
     "data": {
      "image/png": "[encoded data removed]",
      "text/plain": [
       "<Figure size 720x720 with 1 Axes>"
      ]
     },
     "metadata": {
      "needs_background": "light"
     },
     "output_type": "display_data"
    }
   ],
   "source": [
    "plt.figure(figsize=(10,10))\n",
    "plt.plot(np.arange(kfilter.iters / f_sampling, size / f_sampling, 1 / f_sampling), pol[kfilter.iters:], label='Pseudo open-loops')\n",
    "plt.plot(np.arange(kfilter.iters / f_sampling, size / f_sampling, 1 / f_sampling), res_control[kfilter.iters:] - np.mean(res_control[kfilter.iters:]), label='Control residual')\n",
    "plt.xlabel(\"Time (ms)\")\n",
    "plt.ylabel(\"Tip position (mas)\")\n",
    "plt.legend()\n",
    "plt.show()"
   ]
  }
 ],
 "metadata": {
  "kernelspec": {
   "display_name": "Python 3",
   "language": "python",
   "name": "python3"
  },
  "language_info": {
   "codemirror_mode": {
    "name": "ipython",
    "version": 3
   },
   "file_extension": ".py",
   "mimetype": "text/x-python",
   "name": "python",
   "nbconvert_exporter": "python",
   "pygments_lexer": "ipython3",
   "version": "3.7.4"
  }
 },
 "nbformat": 4,
 "nbformat_minor": 2
}
