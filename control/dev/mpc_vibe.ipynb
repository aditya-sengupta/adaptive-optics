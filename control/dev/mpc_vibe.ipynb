{
 "cells": [
  {
   "cell_type": "markdown",
   "metadata": {},
   "source": [
    "# Model Predictive Control\n",
    "\n",
    "An entire marathon! Trying to make model predictive control (slightly more advanced than LQG) work. Main reference: https://ieeexplore-ieee-org.libproxy.berkeley.edu/stamp/stamp.jsp?tp=&arnumber=8511551\n",
    "\n",
    "Steps:\n",
    "\n",
    "1. Keck mirror finite-element analysis: find its $\\omega_D, \\omega_T, d$. Will just skip over this. \n",
    "2. Convert TF to SS and augment to make $C_i, B_i$.\n",
    "3. Augment with turbulence and vibrations to make $A_i$ and $C_0$.\n",
    "4. Pick $R_y, R_u, u_{max}$.\n",
    "5. Solve the quadratic system!\n",
    "\n",
    "This is possibly the worst structured code I've ever written, sorry!"
   ]
  },
  {
   "cell_type": "code",
   "execution_count": 1,
   "metadata": {},
   "outputs": [],
   "source": [
    "import numpy as np\n",
    "from matplotlib import pyplot as plt\n",
    "from scipy import signal, io, linalg\n",
    "from cvxopt import solvers, matrix\n",
    "\n",
    "from aberrations import *\n",
    "from observer import *\n",
    "from controller import *\n",
    "from fractal_deriv import design_filt\n",
    "from utils import *\n",
    "\n",
    "f_sampling = 1000\n",
    "rms = lambda data: np.sqrt(np.mean(data ** 2))\n",
    "eps = 1e-8"
   ]
  },
  {
   "cell_type": "code",
   "execution_count": 2,
   "metadata": {},
   "outputs": [],
   "source": [
    "# step 1: Keck mirror FEA results.\n",
    "\n",
    "# These are completely random numbers. \n",
    "\n",
    "w_TT = 100\n",
    "z_TT = 1\n",
    "\n",
    "def make_impulse(w, z, T=np.arange(0, 1, 0.001)):\n",
    "    num = [w**2]\n",
    "    den = [1, 2 * w * z, w**2]\n",
    "    tf = signal.TransferFunction(num, den)\n",
    "    impulse = signal.impulse(tf, T=T)\n",
    "    return impulse[0], impulse[1] / sum(impulse[1])"
   ]
  },
  {
   "cell_type": "code",
   "execution_count": 3,
   "metadata": {},
   "outputs": [
    {
     "data": {
      "text/plain": [
       "<matplotlib.legend.Legend at 0x11f157150>"
      ]
     },
     "execution_count": 3,
     "metadata": {},
     "output_type": "execute_result"
    },
    {
     "data": {
      "image/png": "[encoded data removed]",
      "text/plain": [
       "<Figure size 432x288 with 1 Axes>"
      ]
     },
     "metadata": {
      "needs_background": "light"
     },
     "output_type": "display_data"
    }
   ],
   "source": [
    "time, imp = make_impulse(w_TT, z_TT)\n",
    "plt.plot(time, imp, label=\"TT\")\n",
    "plt.legend() "
   ]
  },
  {
   "cell_type": "code",
   "execution_count": 4,
   "metadata": {},
   "outputs": [
    {
     "name": "stderr",
     "output_type": "stream",
     "text": [
      "/usr/local/lib/python3.7/site-packages/scipy/signal/filter_design.py:1619: BadCoefficients: Badly conditioned filter coefficients (numerator): the results may be meaningless\n",
      "  \"results may be meaningless\", BadCoefficients)\n"
     ]
    }
   ],
   "source": [
    "num, den = signal.cont2discrete(([w_TT ** 2], [1, 2 * w_TT * z_TT, w_TT ** 2]), dt=1/f_sampling)[:2]\n",
    "A_TT, B_TT, C_TT, D_TT = signal.tf2ss(num, den)"
   ]
  },
  {
   "cell_type": "code",
   "execution_count": 5,
   "metadata": {},
   "outputs": [
    {
     "data": {
      "text/plain": [
       "(array([[ 1.80967484, -0.81873075],\n",
       "        [ 1.        ,  0.        ]]), array([[1.],\n",
       "        [0.]]), array([[0.00467884, 0.00437708]]), array([[0.]]))"
      ]
     },
     "execution_count": 5,
     "metadata": {},
     "output_type": "execute_result"
    }
   ],
   "source": [
    "A_TT, B_TT, C_TT, D_TT"
   ]
  },
  {
   "cell_type": "code",
   "execution_count": 6,
   "metadata": {},
   "outputs": [],
   "source": [
    "Q_TT = 1e-4 * np.array([[1, 0], [0, 0]]) # mas^2, arbitrary"
   ]
  },
  {
   "cell_type": "code",
   "execution_count": 7,
   "metadata": {},
   "outputs": [
    {
     "name": "stdout",
     "output_type": "stream",
     "text": [
      "Took 316 iterations to get steady-state covariance.\n"
     ]
    }
   ],
   "source": [
    "# now, let's import the usual Kalman filter! at first, no vibrations.\n",
    "\n",
    "size = 5000\n",
    "vibe = make_1D_vibe_data(steps=size, N=1)\n",
    "pol = vibe\n",
    "kfilter_vibe = make_kfilter_vibe(*vibe_fit_freq(get_psd(vibe[:1000]), N=1))"
   ]
  },
  {
   "cell_type": "code",
   "execution_count": 8,
   "metadata": {},
   "outputs": [
    {
     "data": {
      "text/plain": [
       "[<matplotlib.lines.Line2D at 0x11f404ed0>]"
      ]
     },
     "execution_count": 8,
     "metadata": {},
     "output_type": "execute_result"
    },
    {
     "data": {
      "image/png": "[encoded data removed]",
      "text/plain": [
       "<Figure size 432x288 with 1 Axes>"
      ]
     },
     "metadata": {
      "needs_background": "light"
     },
     "output_type": "display_data"
    }
   ],
   "source": [
    "plt.plot(vibe)"
   ]
  },
  {
   "cell_type": "code",
   "execution_count": 9,
   "metadata": {},
   "outputs": [
    {
     "data": {
      "text/plain": [
       "False"
      ]
     },
     "execution_count": 9,
     "metadata": {},
     "output_type": "execute_result"
    }
   ],
   "source": [
    "hasattr(kfilter_vibe, \"B\")"
   ]
  },
  {
   "cell_type": "code",
   "execution_count": 40,
   "metadata": {},
   "outputs": [],
   "source": [
    "res, phy = kfilter_vibe.run(vibe + np.random.normal(0, 0.06, vibe.size), save_physics=True)"
   ]
  },
  {
   "cell_type": "code",
   "execution_count": 41,
   "metadata": {},
   "outputs": [
    {
     "data": {
      "text/plain": [
       "0.026310850849863163"
      ]
     },
     "execution_count": 41,
     "metadata": {},
     "output_type": "execute_result"
    }
   ],
   "source": [
    "rms(vibe[316:] - res[316:])"
   ]
  },
  {
   "cell_type": "code",
   "execution_count": 30,
   "metadata": {},
   "outputs": [
    {
     "name": "stdout",
     "output_type": "stream",
     "text": [
      "Took 8 iterations to get steady-state covariance.\n"
     ]
    }
   ],
   "source": [
    "kfilter_TT = KFilter(np.zeros(2,), A_TT, B_TT.flatten(), Q_TT, C_TT, np.array([eps]), has_input=True)\n",
    "# the Q and R don't matter because I'm setting the Kalman gain to zero"
   ]
  },
  {
   "cell_type": "code",
   "execution_count": 12,
   "metadata": {},
   "outputs": [
    {
     "name": "stdout",
     "output_type": "stream",
     "text": [
      "Took 1 iterations to get steady-state covariance.\n"
     ]
    },
    {
     "data": {
      "text/plain": [
       "array([[0.],\n",
       "       [1.]])"
      ]
     },
     "execution_count": 12,
     "metadata": {},
     "output_type": "execute_result"
    }
   ],
   "source": [
    "state_WFS = np.array([0, 0])\n",
    "A_WFS = np.array([[0, 0], [1, 0]])\n",
    "B_WFS = np.array([1, 0]) # takes in residual at timestep k\n",
    "H_WFS = np.array([[0, 1]])\n",
    "Q_WFS = np.identity(2) \n",
    "R_WFS = np.array([eps])\n",
    "# the Q and R don't matter because I'm setting the Kalman gain to zero\n",
    "\n",
    "kfilter_WFS = KFilter(state_WFS, A_WFS, B_WFS, Q_WFS, H_WFS, R_WFS, has_input=True)\n",
    "kfilter_WFS.K"
   ]
  },
  {
   "cell_type": "code",
   "execution_count": 13,
   "metadata": {},
   "outputs": [],
   "source": [
    "kfilter = kfilter_WFS + kfilter_vibe + kfilter_TT\n",
    "kfilter.H = np.array([[0, 1, 0]]).dot(kfilter.H)"
   ]
  },
  {
   "cell_type": "code",
   "execution_count": 14,
   "metadata": {},
   "outputs": [],
   "source": [
    "N_WFS = 2 # two frame delay\n",
    "N_vibe = kfilter_vibe.state.size\n",
    "N_CM = 2 # second order control loop model\n",
    "N_state = N_WFS + N_vibe + N_CM\n",
    "N_frames = 2\n",
    "B_temp = B_WFS.reshape((B_WFS.size,1))\n",
    "temp1 = B_temp.dot(kfilter_vibe.H)\n",
    "temp2 = -B_temp.dot(C_TT)"
   ]
  },
  {
   "cell_type": "code",
   "execution_count": 15,
   "metadata": {},
   "outputs": [],
   "source": [
    "# hardcoding because some things are just plain weird\n",
    "kfilter.B = np.array(([0] * (N_WFS + N_vibe)) + list(B_TT.flatten()))"
   ]
  },
  {
   "cell_type": "code",
   "execution_count": 16,
   "metadata": {},
   "outputs": [],
   "source": [
    "for i, j in [(0, 2), (0, 3), (1, 2), (1, 3)]: # works with a hardcoded N_WFS = 2\n",
    "    kfilter.A[i][j] = temp1[i][j-2]\n",
    "    kfilter.A[i][j+2] = temp2[i][j-2]"
   ]
  },
  {
   "cell_type": "code",
   "execution_count": 17,
   "metadata": {},
   "outputs": [],
   "source": [
    "# at this point, the filter should be set up properly\n",
    "kfilter.state = np.zeros(kfilter.A.shape[0],)\n",
    "res, phy = kfilter.run(pol + np.random.normal(0, 0.06, pol.size), np.zeros(pol.size,), save_physics=True)"
   ]
  },
  {
   "cell_type": "code",
   "execution_count": 18,
   "metadata": {},
   "outputs": [],
   "source": [
    "y, u = 1, 5\n",
    "R_y = np.identity(N_frames) * y\n",
    "R_u = np.identity(N_frames) * u\n",
    "C_0 = np.vstack([kfilter.H.dot(kfilter.A ** i) for i in range(N_frames)])\n",
    "D_0 = np.zeros((N_frames,N_frames))\n",
    "for i in range(N_frames):\n",
    "    for j in range(i):\n",
    "        D_0[i][j] = kfilter.H.dot(kfilter.A ** (i - j - 1)).dot(kfilter.B)"
   ]
  },
  {
   "cell_type": "code",
   "execution_count": 19,
   "metadata": {},
   "outputs": [],
   "source": [
    "kfilter.state = np.zeros(kfilter.A.shape[0],)\n",
    "H2 = 2 * kfilter.state.T.dot(C_0.T.dot(R_y).dot(D_0))\n",
    "H3 = D_0.dot(R_y).dot(D_0.T) + R_u\n",
    "u_max = float(max(np.diff(pol[:5000]))) # arbitrary\n",
    "G = np.identity(N_frames)\n",
    "h = np.vstack([u_max] * N_frames)"
   ]
  },
  {
   "cell_type": "code",
   "execution_count": 20,
   "metadata": {},
   "outputs": [
    {
     "name": "stdout",
     "output_type": "stream",
     "text": [
      "     pcost       dcost       gap    pres   dres\n",
      " 0:  2.6806e-01 -2.1939e+00  2e+00  3e-17  3e+00\n",
      " 1:  2.7238e-05 -3.1650e-02  3e-02  6e-17  3e-02\n",
      " 2:  2.7237e-09 -3.1727e-04  3e-04  2e-16  3e-04\n",
      " 3:  2.7237e-13 -3.1727e-06  3e-06  1e-16  3e-06\n",
      " 4:  2.7237e-17 -3.1727e-08  3e-08  3e-16  3e-08\n",
      "Optimal solution found.\n"
     ]
    }
   ],
   "source": [
    "solution = solvers.qp(matrix(H3), matrix(H2), matrix(G), matrix(h, tc='d'), solver='qpOASES')['x']"
   ]
  },
  {
   "cell_type": "code",
   "execution_count": 21,
   "metadata": {},
   "outputs": [
    {
     "data": {
      "text/plain": [
       "array([[2.56679154e-09],\n",
       "       [1.89434188e-09]])"
      ]
     },
     "execution_count": 21,
     "metadata": {},
     "output_type": "execute_result"
    }
   ],
   "source": [
    "np.array(solution) # should be zero or almost zero, because the state's zero"
   ]
  },
  {
   "cell_type": "code",
   "execution_count": 22,
   "metadata": {},
   "outputs": [],
   "source": [
    "kfilter.state = np.zeros(kfilter.A.shape[0],)\n",
    "\n",
    "shifts = np.diff(pol)\n",
    "res_control = np.zeros(pol.shape)\n",
    "res_control[0] = pol[0]\n",
    "actions = np.zeros(pol.shape)\n",
    "for i in range(1, pol.size):\n",
    "    try:\n",
    "        res_control[i] = res_control[i - 1] + shifts[i - 1] + actions[i - 1]\n",
    "        measurement = res_control[i] + np.random.normal(0, 0.06)\n",
    "        kfilter.update(measurement)\n",
    "        if i < pol.size - N_frames + 1 and i % N_frames == 0:\n",
    "            H2 = 2 * kfilter.state.T.dot(C_0.T.dot(R_y).dot(D_0))\n",
    "            solvers.options['show_progress'] = False\n",
    "            solution = solvers.qp(matrix(H3), matrix(H2), matrix(G), matrix(h, tc='d'), solver='qpOASES')\n",
    "            for j in range(i, i + N_frames):\n",
    "                actions[j] = solution['x'][j - i]\n",
    "\n",
    "        kfilter.predict(actions[i])\n",
    "        \n",
    "    except:\n",
    "        print(i)\n",
    "        raise"
   ]
  },
  {
   "cell_type": "code",
   "execution_count": 23,
   "metadata": {},
   "outputs": [
    {
     "data": {
      "text/plain": [
       "0.4906023016256402"
      ]
     },
     "execution_count": 23,
     "metadata": {},
     "output_type": "execute_result"
    }
   ],
   "source": [
    "rms(pol)"
   ]
  },
  {
   "cell_type": "code",
   "execution_count": 24,
   "metadata": {},
   "outputs": [
    {
     "data": {
      "text/plain": [
       "0.4535185736534382"
      ]
     },
     "execution_count": 24,
     "metadata": {},
     "output_type": "execute_result"
    }
   ],
   "source": [
    "rms(res_control)"
   ]
  },
  {
   "cell_type": "code",
   "execution_count": 25,
   "metadata": {},
   "outputs": [
    {
     "name": "stdout",
     "output_type": "stream",
     "text": [
      "0.3182473963558221\n",
      "1.432298055158793\n"
     ]
    }
   ],
   "source": [
    "print(max(actions))\n",
    "print(u_max)"
   ]
  },
  {
   "cell_type": "code",
   "execution_count": 26,
   "metadata": {},
   "outputs": [
    {
     "data": {
      "text/plain": [
       "(1e-10, 41.01380219929691)"
      ]
     },
     "execution_count": 26,
     "metadata": {},
     "output_type": "execute_result"
    },
    {
     "data": {
      "image/png": "[encoded data removed]",
      "text/plain": [
       "<Figure size 432x288 with 1 Axes>"
      ]
     },
     "metadata": {
      "needs_background": "light"
     },
     "output_type": "display_data"
    }
   ],
   "source": [
    "plt.semilogy(*signal.periodogram(pol, fs=f_sampling))\n",
    "plt.semilogy(*signal.periodogram(res_control, fs=f_sampling))\n",
    "plt.semilogy(*signal.periodogram(actions, fs=f_sampling))\n",
    "plt.ylim(1e-10)"
   ]
  },
  {
   "cell_type": "code",
   "execution_count": null,
   "metadata": {},
   "outputs": [],
   "source": []
  }
 ],
 "metadata": {
  "kernelspec": {
   "display_name": "Python 3",
   "language": "python",
   "name": "python3"
  },
  "language_info": {
   "codemirror_mode": {
    "name": "ipython",
    "version": 3
   },
   "file_extension": ".py",
   "mimetype": "text/x-python",
   "name": "python",
   "nbconvert_exporter": "python",
   "pygments_lexer": "ipython3",
   "version": "3.7.4"
  }
 },
 "nbformat": 4,
 "nbformat_minor": 2
}
