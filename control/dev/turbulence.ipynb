{
 "cells": [
  {
   "cell_type": "markdown",
   "metadata": {},
   "source": [
    "# Aim\n",
    "\n",
    "Turbulence screen generator that explicitly uses a generated basis, for easy modifications."
   ]
  },
  {
   "cell_type": "code",
   "execution_count": 1,
   "metadata": {},
   "outputs": [],
   "source": [
    "# imports\n",
    "\n",
    "import sys\n",
    "sys.path.append(\"..\")\n",
    "from hcipy.hcipy import *\n",
    "import numpy as np\n",
    "from matplotlib import pyplot as plt\n",
    "from scipy.interpolate import interp1d\n",
    "from scipy.signal import convolve2d\n",
    "%matplotlib inline"
   ]
  },
  {
   "cell_type": "code",
   "execution_count": 2,
   "metadata": {},
   "outputs": [],
   "source": [
    "# global parameter definitions\n",
    "\n",
    "wavelength = 5e-7\n",
    "dt = 1/1000\n",
    "T = 0.1\n",
    "D = 10.95\n",
    "r0 = 16.5e-2   \n",
    "k = 2 * np.pi / wavelength\n",
    "p = 16\n",
    "times = np.arange(0, T, dt)\n",
    "pupil_grid = make_pupil_grid(p, diameter=D)\n",
    "aperture = circular_aperture(D)(pupil_grid)"
   ]
  },
  {
   "cell_type": "code",
   "execution_count": 3,
   "metadata": {},
   "outputs": [],
   "source": [
    "modes = [i for i in range(1, 3)] # 1 is tip 2 is tilt\n",
    "basis = np.vstack([zernike(*ansi_to_zernike(i), D=D, grid=pupil_grid) for i in modes]).T"
   ]
  },
  {
   "cell_type": "code",
   "execution_count": 4,
   "metadata": {},
   "outputs": [],
   "source": [
    "outer_scale   = 20 \n",
    "wind_velocity = 15\n",
    "Cn2           = r0**(-5. / 3) / (0.423 * k**2)\n",
    "\n",
    "def turbulence_phases():\n",
    "    # returns a list of Fields representing the turbulence phases over time\n",
    "    single_layer_atmos = InfiniteAtmosphericLayer(pupil_grid,  Cn_squared=Cn2, L0=outer_scale, \n",
    "                                                  velocity=wind_velocity, use_interpolation=True)\n",
    "    single_layer_turb = [None] * times.size\n",
    "    for n in range(times.size):\n",
    "        single_layer_atmos.evolve_until(times[n])\n",
    "        turb = single_layer_atmos.phase_for(wavelength)\n",
    "        single_layer_turb[n] = Field(turb, grid=pupil_grid) * aperture\n",
    "    return single_layer_turb"
   ]
  },
  {
   "cell_type": "code",
   "execution_count": 5,
   "metadata": {},
   "outputs": [],
   "source": [
    "phases = turbulence_phases()"
   ]
  },
  {
   "cell_type": "code",
   "execution_count": 6,
   "metadata": {},
   "outputs": [],
   "source": [
    "# separate out TT\n",
    "tt_phases = [None] * times.size\n",
    "basis_t = basis.T\n",
    "to_multiply = basis.dot(np.linalg.inv(basis_t.dot(basis)).dot(basis_t))\n",
    "for i in range(times.size):\n",
    "    tt_phases[i] = Field(to_multiply.dot(phases[i]), pupil_grid)"
   ]
  },
  {
   "cell_type": "code",
   "execution_count": 7,
   "metadata": {},
   "outputs": [
    {
     "name": "stdout",
     "output_type": "stream",
     "text": [
      "[-1.875 -1.625 -1.375 -1.125 -0.875 -0.625 -0.375 -0.125  0.125  0.375\n",
      "  0.625  0.875  1.125  1.375  1.625  1.875]\n"
     ]
    },
    {
     "data": {
      "image/png": "[encoded data removed]",
      "text/plain": [
       "<Figure size 432x288 with 2 Axes>"
      ]
     },
     "metadata": {
      "needs_background": "light"
     },
     "output_type": "display_data"
    }
   ],
   "source": [
    "tip = basis.T[0]\n",
    "imshow_field(tip, pupil_grid)\n",
    "plt.colorbar()\n",
    "tip = tip.reshape((p,p))\n",
    "print(tip[:,p//2])\n",
    "xslope = np.mean(np.gradient(tip[p//2,:]))\n",
    "yslope = np.mean(np.gradient(tip[:,p//2]))"
   ]
  },
  {
   "cell_type": "code",
   "execution_count": 8,
   "metadata": {},
   "outputs": [
    {
     "name": "stdout",
     "output_type": "stream",
     "text": [
      "15.999999999999993\n",
      "0.009999833334166664\n"
     ]
    },
    {
     "data": {
      "text/plain": [
       "<matplotlib.lines.Line2D at 0x11960c7d0>"
      ]
     },
     "execution_count": 8,
     "metadata": {},
     "output_type": "execute_result"
    },
    {
     "data": {
      "image/png": "[encoded data removed]",
      "text/plain": [
       "<Figure size 432x288 with 2 Axes>"
      ]
     },
     "metadata": {
      "needs_background": "light"
     },
     "output_type": "display_data"
    }
   ],
   "source": [
    "theta = 0.01\n",
    "tt_phase = aperture * np.linspace(-0.01, +0.01, tt_phases[0].size)\n",
    "imshow_field(tt_phase)\n",
    "plt.colorbar()\n",
    "tt_phase = tt_phase.reshape((p, p))\n",
    "slope = np.mean(np.gradient(tt_phase[:,p//2], tt_phase[p//2,:]))\n",
    "print(slope)\n",
    "print(np.sin(theta))\n",
    "plt.axhline(0, color='black')\n",
    "plt.axvline(0, color='black')"
   ]
  },
  {
   "cell_type": "code",
   "execution_count": 9,
   "metadata": {},
   "outputs": [],
   "source": [
    "def center_of_mass(f):\n",
    "    # takes in a Field, returns its CM.\n",
    "    # rewriting because there seem to be weird bugs with the scipy inbuilt\n",
    "    s = f.grid.shape[0]\n",
    "    x, y = (n.flatten() for n in np.meshgrid(np.linspace(1, s+1, s), np.linspace(1, s+1, s)))\n",
    "    return np.array((sum(f*x), sum(f*y)))/sum(f)"
   ]
  },
  {
   "cell_type": "code",
   "execution_count": 17,
   "metadata": {},
   "outputs": [
    {
     "name": "stderr",
     "output_type": "stream",
     "text": [
      "/usr/local/lib/python3.7/site-packages/ipykernel_launcher.py:2: UserWarning: Focal grid is larger than the maximum allowed angle (fov=1.500). You may see wrapping when doing propagations.\n",
      "  \n"
     ]
    },
    {
     "data": {
      "text/plain": [
       "<matplotlib.image.NonUniformImage at 0x119d6d190>"
      ]
     },
     "execution_count": 17,
     "metadata": {},
     "output_type": "execute_result"
    },
    {
     "data": {
      "image/png": "[encoded data removed]",
      "text/plain": [
       "<Figure size 432x288 with 1 Axes>"
      ]
     },
     "metadata": {
      "needs_background": "light"
     },
     "output_type": "display_data"
    }
   ],
   "source": [
    "wf = Wavefront(aperture)\n",
    "focal_grid = make_focal_grid_from_pupil_grid(pupil_grid, q=8, num_airy=12)\n",
    "propagator = FraunhoferPropagator(pupil_grid, focal_grid)\n",
    "wf.electric_field *= np.exp(-1j * tt_phases[0] * k)\n",
    "psf = np.abs(propagator(wf).electric_field)**2\n",
    "imshow_field(psf, focal_grid)"
   ]
  },
  {
   "cell_type": "code",
   "execution_count": 58,
   "metadata": {},
   "outputs": [
    {
     "data": {
      "text/plain": [
       "<matplotlib.image.NonUniformImage at 0x11d0b1690>"
      ]
     },
     "execution_count": 58,
     "metadata": {},
     "output_type": "execute_result"
    },
    {
     "data": {
      "image/png": "[encoded data removed]",
      "text/plain": [
       "<Figure size 432x288 with 1 Axes>"
      ]
     },
     "metadata": {
      "needs_background": "light"
     },
     "output_type": "display_data"
    }
   ],
   "source": [
    "focal_grid = make_focal_grid_from_pupil_grid(pupil_grid, q=8, num_airy=8)\n",
    "theta = (wavelength/D) * 4\n",
    "phase = np.tile(np.linspace(-6*np.sin(theta), 6*np.sin(theta), p), (p, 1))\n",
    "phase = phase * aperture.reshape(p,p)\n",
    "propagator = FraunhoferPropagator(pupil_grid, focal_grid)\n",
    "efield = np.exp(-1j * phase.ravel() * k)\n",
    "psf = np.abs(propagator(Wavefront(efield)).electric_field)**2\n",
    "imshow_field(psf, focal_grid)"
   ]
  },
  {
   "cell_type": "code",
   "execution_count": null,
   "metadata": {},
   "outputs": [],
   "source": [
    "theta = 1\n",
    "imshow_field(propagator(Wavefront(aperture * np.exp(-1j * tt_phase * k))).electric_field**2)\n",
    "#imshow_field(tt_phase, tt_phases[0].grid)\n",
    "plt.colorbar()\n",
    "plt.show()"
   ]
  },
  {
   "cell_type": "code",
   "execution_count": null,
   "metadata": {},
   "outputs": [],
   "source": [
    "# now do all of this in a loop\n",
    "conversion = 1\n",
    "cm = np.zeros((times.size, 2))\n",
    "for i in range(times.size):\n",
    "    wf = Wavefront(aperture * np.exp(-1j * tt_phases[i] * k))\n",
    "    intensity = np.abs(propagator(wf).electric_field)**2\n",
    "    psf = propagator(wf)\n",
    "    if not i % 10:\n",
    "        imshow_field(psf.electric_field**2)\n",
    "        plt.show()\n",
    "    cm[i] = center_of_mass(intensity)\n",
    "    # intensities are strictly positive and also the square of electric field\n",
    "    \n",
    "cm *= conversion    \n",
    "cm -= np.tile(np.mean(cm, axis=0), (times.size, 1))\n",
    "cm = cm.T"
   ]
  },
  {
   "cell_type": "code",
   "execution_count": null,
   "metadata": {
    "scrolled": true
   },
   "outputs": [],
   "source": [
    "plt.figure(figsize=(6,6))\n",
    "plt.plot(cm[0], cm[1], 'go-')\n",
    "plt.xlabel(\"x deviation (mas)\")\n",
    "plt.ylabel(\"y deviation (mas)\")\n",
    "plt.title(\"Turbulence tip-tilt deviations\")"
   ]
  },
  {
   "cell_type": "code",
   "execution_count": null,
   "metadata": {},
   "outputs": [],
   "source": [
    "from scipy.signal import periodogram\n",
    "plt.figure(figsize=(10,10))\n",
    "plt.semilogy(*periodogram(cm[0]))\n",
    "plt.ylim(1e-2)"
   ]
  },
  {
   "cell_type": "code",
   "execution_count": null,
   "metadata": {},
   "outputs": [],
   "source": []
  }
 ],
 "metadata": {
  "kernelspec": {
   "display_name": "Python 3",
   "language": "python",
   "name": "python3"
  },
  "language_info": {
   "codemirror_mode": {
    "name": "ipython",
    "version": 3
   },
   "file_extension": ".py",
   "mimetype": "text/x-python",
   "name": "python",
   "nbconvert_exporter": "python",
   "pygments_lexer": "ipython3",
   "version": "3.7.4"
  }
 },
 "nbformat": 4,
 "nbformat_minor": 2
}
