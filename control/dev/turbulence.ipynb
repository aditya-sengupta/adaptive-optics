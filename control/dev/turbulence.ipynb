{
 "cells": [
  {
   "cell_type": "markdown",
   "metadata": {},
   "source": [
    "# Aim\n",
    "\n",
    "I'm not convinced that HCIPy's modal decomposition of phase screens really works the way I understand it to work, so I'm going to redo the transformation matrix/least-squares decomposition from scratch here. No ModalAdaptiveOpticsLayer objects here."
   ]
  },
  {
   "cell_type": "code",
   "execution_count": 1,
   "metadata": {},
   "outputs": [],
   "source": [
    "# imports\n",
    "\n",
    "import sys\n",
    "sys.path.append(\"..\")\n",
    "from hcipy.hcipy import *\n",
    "import numpy as np\n",
    "from matplotlib import pyplot as plt\n",
    "from scipy.interpolate import interp1d\n",
    "%matplotlib inline"
   ]
  },
  {
   "cell_type": "code",
   "execution_count": 2,
   "metadata": {},
   "outputs": [],
   "source": [
    "# global parameter definitions\n",
    "\n",
    "wavelength = 5e-7\n",
    "dt    = 1/1000\n",
    "T     = 1\n",
    "nAct  = 21\n",
    "D     = 10.95\n",
    "r0    = 16.5e-2   \n",
    "k     = 2 * np.pi / wavelength\n",
    "scale = 0.6e-6\n",
    "Z_DM = np.zeros([nAct,nAct])\n",
    "binning_factor = 8\n",
    "p  = nAct*binning_factor\n",
    "pupil_grid = make_pupil_grid(p, D)\n",
    "times = np.arange(0, T, dt)\n",
    "g = make_pupil_grid(p, diameter=D)\n",
    "mask = circular_aperture(D)(g)"
   ]
  },
  {
   "cell_type": "code",
   "execution_count": null,
   "metadata": {},
   "outputs": [],
   "source": [
    "modes = [i for i in range(28224)]\n",
    "basis = np.vstack([zernike(*ansi_to_zernike(i), D=D, grid=g) for i in modes]).T"
   ]
  },
  {
   "cell_type": "code",
   "execution_count": null,
   "metadata": {},
   "outputs": [],
   "source": [
    "outer_scale   = 20 \n",
    "wind_velocity = 15\n",
    "Cn2           = r0**(-5. / 3) / (0.423 * k**2)\n",
    "\n",
    "def turbulence_phases():\n",
    "    # returns a list of Fields representing the turbulence phases over time\n",
    "    single_layer_atmos = InfiniteAtmosphericLayer(pupil_grid,  Cn_squared=Cn2, L0=outer_scale, \n",
    "                                                  velocity=wind_velocity, use_interpolation=True)\n",
    "    single_layer_turb = [None] * times.size\n",
    "    for n in range(times.size):\n",
    "        single_layer_atmos.evolve_until(times[n])\n",
    "        turb = single_layer_atmos.phase_for(wavelength)\n",
    "        single_layer_turb[n] = Field(turb, grid=g) * mask\n",
    "    return single_layer_turb"
   ]
  },
  {
   "cell_type": "code",
   "execution_count": null,
   "metadata": {},
   "outputs": [],
   "source": [
    "phases = turbulence_phases()"
   ]
  },
  {
   "cell_type": "code",
   "execution_count": null,
   "metadata": {},
   "outputs": [],
   "source": [
    "# make the least-squares coefficients\n",
    "coeffs = np.zeros((times.size, len(modes)))\n",
    "basis_t = basis.T\n",
    "ls_basis_inv = np.linalg.inv(basis_t.dot(basis)).dot(basis_t)\n",
    "for i in range(times.size):\n",
    "    coeffs[i] = ls_basis_inv.dot(phases[i])"
   ]
  },
  {
   "cell_type": "code",
   "execution_count": null,
   "metadata": {},
   "outputs": [],
   "source": [
    "k = 200\n",
    "imshow_field(phases[k])\n",
    "plt.colorbar()"
   ]
  },
  {
   "cell_type": "code",
   "execution_count": null,
   "metadata": {},
   "outputs": [],
   "source": [
    "correction = Field(basis.dot(coeffs[k]), g)\n",
    "imshow_field(correction)\n",
    "plt.colorbar()"
   ]
  },
  {
   "cell_type": "code",
   "execution_count": null,
   "metadata": {},
   "outputs": [],
   "source": [
    "# see the residual phase screens\n",
    "imshow_field(phases[k] - correction)\n",
    "plt.colorbar()"
   ]
  },
  {
   "cell_type": "code",
   "execution_count": null,
   "metadata": {},
   "outputs": [],
   "source": []
  }
 ],
 "metadata": {
  "kernelspec": {
   "display_name": "Python 3",
   "language": "python",
   "name": "python3"
  },
  "language_info": {
   "codemirror_mode": {
    "name": "ipython",
    "version": 3
   },
   "file_extension": ".py",
   "mimetype": "text/x-python",
   "name": "python",
   "nbconvert_exporter": "python",
   "pygments_lexer": "ipython3",
   "version": "3.7.4"
  }
 },
 "nbformat": 4,
 "nbformat_minor": 2
}
