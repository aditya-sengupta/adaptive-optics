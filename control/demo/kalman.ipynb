{
 "cells": [
  {
   "cell_type": "markdown",
   "metadata": {},
   "source": [
    "# Introduction to the Kalman filter"
   ]
  },
  {
   "cell_type": "code",
   "execution_count": 12,
   "metadata": {
    "collapsed": true
   },
   "outputs": [],
   "source": [
    "# imports\n",
    "\n",
    "import pandas as pd\n",
    "from matplotlib import pyplot as plt\n",
    "import scipy.linalg as la\n",
    "import numpy as np\n",
    "import scipy.interpolate as interp\n",
    "import scipy.stats as stats\n",
    "from abc import ABC, abstractmethod\n",
    "from copy import deepcopy\n",
    "%matplotlib inline"
   ]
  },
  {
   "cell_type": "markdown",
   "metadata": {},
   "source": [
    "## Dynamic systems\n",
    "\n",
    "A dynamic system is, roughly speaking, any system that evolves in time. This evolution in time is based on its initial state, the system input, and some underlying equations. The classic example of a dynamic system is a cart on rails, whose initial state is known to be an $x$ position and $x$ velocity of zero, and that moves based on an applied force, which is the system input. Once a force is applied, the cart starts to move according to Newton's laws:\n",
    "\n",
    "$\\begin{eqnarray*}\n",
    "x = x_0 + v_0 t + \\frac{f}{2m} t^2\\\\\n",
    "v = v_0 + \\frac{f}{m}t \\end{eqnarray*}$\n",
    "\n",
    "These are the state-transition rules of the cart.\n",
    "\n",
    "We can make predictions about the state of a dynamic system based on its state-transition rules and knowing some initial state. However, when these dynamic systems are implemented in practice, the state transitions do not perfectly match the predictions. The predictions do not account for environmental disturbances, which cannot be accurately estimated upfront. In the case of the cart, there may be a friction force preventing the cart from moving perfectly according to its state-transition rules. Therefore there is some uncertainty surrounding the prediction as to how close it is to the actual state.\n",
    "\n",
    "The purpose of a Kalman filter is to combine the predicted system state (including uncertainty) with measurements of the system that are noisy and therefore have their own uncertainty, in order to get a better estimate of the system state over time. \n",
    "\n",
    "A succinct way to describe what a Kalman filter does is that it combines *physics* and *reality*: we build a physical model to obtain some expectation of what a system should do at any given time, and we combine that with what we know is really happening \n",
    "\n",
    "## State-space representation of dynamic systems\n",
    "\n",
    "Dynamic systems can be represented in *state space* by defining a *state vector* of the form $\\vec{x} = [\\begin{matrix} x_1 & x_2 & \\dots & x_n \\end{matrix}]^T$ that contains variables describing the system.\n",
    "\n",
    "A dynamic system can be described based on the time-evolution of the system state as well as how the system output $\\vec{y}$ relates to the control input $\\vec{u}$ and state. This is done in continuous time by specifying a set of first-order differential equations and combining them into one equation using matrices,\n",
    "\n",
    "$\\begin{eqnarray*}\n",
    "    \\vec{\\dot{x}}(t) = A'\\vec{x}(t) + B'\\vec{u}(t)\\\\\n",
    "    \\vec{y}(t) = C'\\vec{x}(t) + D'\\vec{u}(t)\n",
    "\\end{eqnarray*}$\n",
    "\n",
    "Typically, the matrix $A'$ is referred to as the *state-transition matrix* and the first equation is the *state-transition equation*. To verbally describe the other matrices, you could call $B'$ the *state-transition input gain*, $C'$ the *state-to-output matrix* and $D'$ the *input-to-output gain*, but only $A$ has a generally accepted verbal description.\n",
    "\n",
    "Dynamic systems can have many possible equivalent state-space representations depending on the choices of state variables, but for real-life systems that are easily described by a finite number of parameters, it is easiest to describe the system in that representation. For linear systems, it is possible to translate a state-space representation to a *transfer function* representation and from there transform it into an alternative state-space representation that is more useful for controller or observer design (described [here](https://www.engr.mun.ca/~millan/Eng6825/canonicals.pdf)). For Kalman filtering it isn't necessary to do this, but it may make it easier to reason about systems by changing the representation.\n",
    "\n",
    "In discrete time, the setup is similar to continuous time, but with a *difference equation*,\n",
    "\n",
    "$\\begin{align}\n",
    "    \\vec{x}((k+1) \\Delta t) & =  A\\vec{x}(k \\Delta t) + B\\vec{u}(k \\Delta t)\\\\\n",
    "    \\vec{y}(k \\Delta t) & =  C\\vec{x}(k \\Delta t) + D\\vec{u}(k \\Delta t)\n",
    "\\end{align}$\n",
    "\n",
    "The discrete-time matrices A and B relate to the continuous-time matrices A' and B' [^1] according to\n",
    "\n",
    "$\\begin{align*}\n",
    "    & A(\\Delta t) =  e^{A'\\Delta t}\\\\\n",
    "    & B(\\Delta t) = \\int_0^{\\Delta t} e^{A'\\lambda} d\\lambda B'\n",
    "\\end{align*}$\n",
    "\n",
    "For a derivation of this, see http://www.engr.iupui.edu/~skoskie/ECE595_f05/handouts/discretization.pdf.\n",
    "\n",
    "The state-space representation allows us to model dynamic systems as black boxes: we provide them an input $u$ and get out an output $y$. Based on this we can design feedback systems to observe or control the system.\n",
    "\n",
    "[^1] (other conventions like (A,B) for continuous time and (G,H) for discrete time interfere with later Kalman notation, so this is the convention we'll use)"
   ]
  },
  {
   "cell_type": "markdown",
   "metadata": {},
   "source": [
    "For example, with a state $[\\begin{matrix} x & \\dot{x} \\end{matrix}]^T$, the continuous-time state-space representation would have the following time-evolution equation:\n",
    "\n",
    "$\\left[\\begin{matrix} \\dot{x} \\\\ \\ddot{x} \\end{matrix}\\right] = \\left[\\begin{matrix} 0 & 1 \\\\ 0 & 0 \\end{matrix}\\right] \\left[\\begin{matrix} x \\\\ \\dot{x} \\end{matrix}\\right] + \\left[\\begin{matrix} 0 \\\\ \\frac{1}{m} \\\\  \\end{matrix}\\right] f(t)$\n",
    "\n",
    "This is just a matrix representation of $F = ma$ coupled with the definitions of derivatives (note that the first row is just $\\dot x = \\dot x$; this is quite common in state-space systems, where the state variables are derivatives of one another.) If we wanted to discretize this, we would follow the above equations:"
   ]
  },
  {
   "cell_type": "code",
   "execution_count": 15,
   "metadata": {},
   "outputs": [
    {
     "data": {
      "text/plain": [
       "array([[1. , 0.1],\n",
       "       [0. , 1. ]])"
      ]
     },
     "execution_count": 15,
     "metadata": {},
     "output_type": "execute_result"
    }
   ],
   "source": [
    "# simple demonstration of the CT-to-DT conversion\n",
    "\n",
    "dt = 0.1\n",
    "la.expm(dt*np.array([[0, 1], [0, 0]]))"
   ]
  },
  {
   "cell_type": "markdown",
   "metadata": {},
   "source": [
    "This intuitively makes sense as the discrete-time state-transition matrix; through a small time, the new position is the old position plus the product of velocity and the timestep, $x[k + 1] = x[k] + v[k] \\Delta t$, and the new velocity is the old velocity. This is true as long as there is no force; to figure out the effect of the force, let's calculate the state-transition input gain.\n",
    "\n",
    "$\\begin{eqnarray*}\n",
    "B(\\Delta t) & = \\int_0^{\\Delta t} A(\\lambda) B' d\\lambda \\\\ & = \\int_0^{\\Delta t} \\left[\\begin{matrix} 1 & \\lambda \\\\ 0 & 1\\end{matrix}\\right] \\left[\\begin{matrix} 0 \\\\ \\frac{1}{m} \\end{matrix}\\right] d\\lambda \\\\ & = \\int_0^{\\Delta t} \\left[\\begin{matrix} \\frac{\\lambda}{m} \\\\ \\frac{1}{m}\\end{matrix}\\right] d\\lambda \\\\ & = \\left[\\begin{matrix} \\frac{\\Delta t^2}{2m} \\\\ \\frac{\\Delta t}{m} \\end{matrix}\\right]\n",
    "\\end{eqnarray*}$\n",
    "\n",
    "We can intuitively make sense of this too; the first element is the acceleration component in the usual kinematic equation $x = x_0 + v_0 t + \\frac{1}{2} at^2$, and the second is the acceleration component in the other common equation $v = v_0 + at$.\n",
    "\n",
    "With a sufficiently small timestep, we can accurately simulate continuous-time systems by discretizing them in this way and advancing them through state transitions over time."
   ]
  },
  {
   "cell_type": "markdown",
   "metadata": {},
   "source": [
    "## System observers and controllers\n",
    "\n",
    "The general control problem is to design a control system to regulate the behaviour of any dynamic system, usually through a feedback loop. Control usually requires access to the full state, which is not always available; all that is guaranteed is access to the system output. Therefore, a system called an *observer* is used to obtain the state from the output, and from there a controller acts to provide the optimal system input such that the system operates as desired. This is usually quantified by certain performance metrics like overshoot from a desired state, error in the steady state (as time goes to infinity), the rise time (delay between a control input and the corresponding desired output), and so on.\n",
    "\n",
    "An $n$-dimensional system is called *observable* if $n$ measurements of the output $y$ are sufficient to uniquely determine $x[0]$, the initial system state. A system is observable if the *observability matrix* $\\left[\\begin{matrix} C & CA & \\dots & CA^{n-1} \\end{matrix}\\right]^T$ has full rank.\n",
    "\n",
    "An $n$-dimensional system is called *controllable* if it is possible to find a sequence of control inputs $u[0], \\dots, u[n-1]$ such that any initial state $x[0]$ can be taken to any desired $x_f = x[n]$. A system is controllable if the *controllability matrix* $\\left[\\begin{matrix} B & AB & \\dots & A^{n-1}B \\end{matrix}\\right]$ has full rank.\n",
    "\n",
    "A Kalman filter is an observer; given a set of system measurements, it returns the best estimate of the state that produced those measurements. It can be proven that the Kalman filter is the optimal linear observer, in the sense that its state estimates have the minimum mean-squared error (MMSE). \n",
    "\n",
    "Let a system (called the *plant*, i.e. the system to be controlled) have dynamics $\\hat{\\dot{x}} = A'\\hat{x} + B'u$ and $\\hat{y} = C'\\hat{x}$, and let there be a measurement $y$ of the system. The error between the estimated and actual measurements is then $y - \\hat{y} = y - C'\\hat{x}$. We can update the state equations of the plant to construct those of the observer, by applying a proportional gain to this error and adding this scaled error in to the state-transition equation:\n",
    "\n",
    "$\\begin{eqnarray*}\n",
    "    \\hat{\\dot{x}} = A'\\hat{x} + B'u + K(y - \\hat{y})\\\\\n",
    "    \\hat{y} = C'\\hat{x}\n",
    "\\end{eqnarray*}$\n",
    "\n",
    "In discrete time, the error dynamics are more simply described by the equation\n",
    "\n",
    "$x[k] = \\hat{x}[k] + K(y[k] - C\\hat{x}[k])$\n",
    "\n",
    "The problem of observer design is to find the optimal $K$ to minimize the magnitude of the error $y - C\\hat{x}$ over time. Simple linear systems can do this in the Laplace domain by designing $K$ such that the transfer representation has a certain desired transfer function, simply by matching terms and solving a linear system based on that. The Kalman filter approach works entirely in state-space; instead of a desired transfer function, it builds an error gain matrix (often called the *Kalman gain*) based on the physical model and the uncertainties in both the physics and measurements.\n",
    "\n",
    "Building the Kalman gain requires an understanding of how we model process noise (the noise associated with the *physics* side of the Kalman filter) and measurement noise (the noise associated with the *reality* side)."
   ]
  },
  {
   "cell_type": "markdown",
   "metadata": {
    "collapsed": true
   },
   "source": [
    "## The normal distribution\n",
    "\n",
    "In Kalman filter models, noise in the predicted or measured state is considered to be Gaussian, i.e. it follows the normal distribution:\n",
    "\n",
    "$$p(x) = \\frac{1}{\\sigma \\sqrt{2\\pi}} exp\\left({\\frac{-(x - \\mu)^2}{2\\sigma^2}}\\right)$$\n",
    "\n",
    "where variance is defined as the expected value of a deviation from the mean squared, $\\sigma^2 = E[(x - \\mu)^2]$.\n",
    "\n",
    "In NumPy, you can get normally distributed variables with a specific mean $\\mu$ and standard deviation $\\sigma$ using `np.random.normal`. "
   ]
  },
  {
   "cell_type": "code",
   "execution_count": 6,
   "metadata": {},
   "outputs": [
    {
     "data": {
      "text/plain": [
       "array([-0.25919565,  1.73765448,  1.13544292,  2.67345929,  2.53309393,\n",
       "       -0.95395387,  1.13312147, -0.80178125, -2.13444265, -4.19594771])"
      ]
     },
     "execution_count": 6,
     "metadata": {},
     "output_type": "execute_result"
    }
   ],
   "source": [
    "np.random.normal(0, 2, 10) # expect most/all of the data to be between -2 and 2."
   ]
  },
  {
   "cell_type": "markdown",
   "metadata": {},
   "source": [
    "We can verify that the mean and SD are about what we expect:"
   ]
  },
  {
   "cell_type": "code",
   "execution_count": 7,
   "metadata": {},
   "outputs": [
    {
     "data": {
      "text/plain": [
       "0.0055064022482511155"
      ]
     },
     "execution_count": 7,
     "metadata": {},
     "output_type": "execute_result"
    }
   ],
   "source": [
    "np.mean(np.random.normal(0, 2, 10000))"
   ]
  },
  {
   "cell_type": "code",
   "execution_count": 8,
   "metadata": {},
   "outputs": [
    {
     "data": {
      "text/plain": [
       "2.0086231553797527"
      ]
     },
     "execution_count": 8,
     "metadata": {},
     "output_type": "execute_result"
    }
   ],
   "source": [
    "np.std(np.random.normal(0, 2, 10000))"
   ]
  },
  {
   "cell_type": "markdown",
   "metadata": {},
   "source": [
    "We can visualize what this looks like:"
   ]
  },
  {
   "cell_type": "code",
   "execution_count": 13,
   "metadata": {},
   "outputs": [
    {
     "data": {
      "text/plain": [
       "[<matplotlib.lines.Line2D at 0x12245b898>]"
      ]
     },
     "execution_count": 13,
     "metadata": {},
     "output_type": "execute_result"
    },
    {
     "data": {
      "image/png": "[encoded data removed]",
      "text/plain": [
       "<matplotlib.figure.Figure at 0x12223e550>"
      ]
     },
     "metadata": {},
     "output_type": "display_data"
    }
   ],
   "source": [
    "data = np.random.normal(0, 5, 1000)\n",
    "data.sort()\n",
    "pdf = stats.norm.pdf(data, np.mean(data), np.std(data))\n",
    "plt.plot(data, pdf)"
   ]
  },
  {
   "cell_type": "markdown",
   "metadata": {},
   "source": [
    "This kind of distribution makes physical sense; around an expected value, there is a high chance of a small deviation in the actual state, and a low chance of a larger deviation. If there are more complicated processes causing noise, they can be modelled as their own dynamic systems and incorporated into the state-transition and output equations. For example, if there is skewed noise, an expectation of that noise can augment the state, and any deviations around that can be considered Gaussian."
   ]
  },
  {
   "cell_type": "markdown",
   "metadata": {},
   "source": [
    "## Covariance\n",
    "\n",
    "The multidimensional version of variance is called covariance. Covariance describes how much one variable changes with another. Explicitly, it is given by\n",
    "\n",
    "$\\text{cov}(x, y) = E\\left[[x - E[x]] [y - E[y]]\\right]$\n",
    "\n",
    "where $E$ is an expected value operator. It can be verified that the covariance of a variable with itself is just its variance. \n",
    "\n",
    "Covariance is useful for Kalman filtering because even if the state variable update rules are different, they are likely to be correlated, and this correlation can usually be understood physically. For example, a higher cart velocity would correlate to a higher predicted next position value, so there is likely a nonzero positive covariance between the cart's velocity and position.\n",
    "\n",
    "The covariance of a predicted state can be represented in a square matrix $P$, where $P_{ij} = \\text{cov}(x_i, x_j)$. The variances of each variable are down the diagonal. Additionally, because covariance is independent of the order of the variables, the matrix $P$ is symmetric.\n",
    "\n",
    "Covariance changes under a matrix multiplication (like in a state-transition step) according to $x \\to Ax, P \\to APA^T$."
   ]
  },
  {
   "cell_type": "markdown",
   "metadata": {},
   "source": [
    "## Sensor measurements and noise\n",
    "\n",
    "We can observe the state of a dynamic system based on sensor measurements that may be noisy. Let the matrix C translate between a state at some specific time and what its measurements should be at that time. These can then be compared to the actual measurements at that time, $\\vec{y}$.\n",
    "\n",
    "The measurements have their own covariance that is associated with the sensor being unreliable (take any sensor, such as an accelerometer or pressure sensor, hold it in one place, and watch it fluctuate) so measurements aren't a perfect representation of what a dynamic system is doing. "
   ]
  },
  {
   "cell_type": "markdown",
   "metadata": {},
   "source": [
    "## Deriving the Kalman Filter governing equations\n",
    "\n",
    "### Predict\n",
    "\n",
    "The Kalman prediction step involves advancing the state through a single timestep based on the previous state and the control input at that time. With this, the covariance matrix also has to be updated and state noise associated with environmental disturbances added to it. Let the state noise matrix be $Q$; then the prediction equations are\n",
    "\n",
    "$\\begin{eqnarray*}\n",
    "x^-(t + \\Delta t) = Ax(t) + Bu(t)\\\\\n",
    "P^-(t + \\Delta t) = AP(t)A^T + Q\n",
    "\\end{eqnarray*}\n",
    "$\n",
    "\n",
    "Mathematically, it is fine for any of these to vary in time, but dynamic systems can usually be modelled fairly accurately with constant $A$ and $B$ matrices and a constant noise model. The state and covariance have a negative superscript because they have not yet been updated, as will be described below; however, for simulations of dynamic systems, it is sufficient to just predict as time advances. "
   ]
  },
  {
   "cell_type": "code",
   "execution_count": null,
   "metadata": {
    "collapsed": true
   },
   "outputs": [],
   "source": [
    "# example of Kalman prediction"
   ]
  },
  {
   "cell_type": "markdown",
   "metadata": {
    "collapsed": true
   },
   "source": [
    "### Update\n",
    "\n",
    "The part of the Kalman filter that ends up reducing the system state error is the update step. Here, we want to take our estimate of the error (in some sources, this is optimistically called the innovation),\n",
    "\n",
    "$e(t) = \\vec{y}(t) - C\\vec{x^-}(t)$\n",
    "\n",
    "and multiply this element-wise by the Kalman gain $K$ to get an updated state that is hopefully closer to reality:\n",
    "\n",
    "$\\vec{x} = \\vec{x^-} + Ke = \\vec{x^-} + K(\\vec{y} - C\\vec{x^-}) = [I - KC]\\vec{x^-} + K\\vec{y}$\n",
    "\n",
    "where $\\vec{x^-}$ is the *a priori* state, i.e. the state before the Kalman update, and $\\vec{x}$ is the *a posteriori* state, i.e. that after the update. The covariance also updates with this step. The new covariance has components from the noise associated with $\\vec{x^-}$ being multiplied by $[I - KC]$ and $\\vec{y}$ being multiplied by $K$; the covariance $P^-$ is updated by the first, and the measurement noise $R$ is incorporated into the new covariance by the second.\n",
    "\n",
    "$P = [I - KC]P^- [I - KC]^T + KRK^T$\n",
    "\n",
    "We can find the Kalman gain by attempting to minimize the covariance of the *a posteriori* state. We set the following:\n",
    "\n",
    "$\\frac{\\partial \\text{Tr} P}{\\partial K} = 0 \\implies \\frac{\\partial \\text{Tr} P^-}{\\partial K} - 2 \\frac{\\partial \\text{Tr} KCP^-}{\\partial K} + \\frac{\\partial \\text{Tr} KCP^- C^T K^T}{\\partial K} + \\frac{\\partial \\text{Tr} KRK^T}{\\partial K} = 0$\n",
    "\n",
    "Applying trace differentiation properties (namely that $\\frac{\\partial \\text{Tr} ABA^T}{\\partial A} = 2AB$ for symmetric $B$, and $\\frac{\\partial \\text{Tr} AC}{\\partial A} = C^T$), we get\n",
    "\n",
    "$-2P^-C^T + 2KCP^-C^T + 2KR = 0$\n",
    "\n",
    "which allows us to find $K$,\n",
    "\n",
    "$K = P^-C^T [CP^-C^T + R]^{-1}$\n",
    "\n",
    "Therefore, the Kalman update step is fully defined by first finding $K$ according to this formula, then updating the state based on the above equation. This is the optimal linear state estimate, based on which a controller can operate "
   ]
  },
  {
   "cell_type": "markdown",
   "metadata": {},
   "source": [
    "## Implementation\n",
    "\n",
    "The general dynamic system simulator is in the next cell. It is implemented as a Python abstract class (a class that can't directly be instantiated) that other classes can inherit from. Derived classes have to:\n",
    "\n",
    "- implement their own state-transition matrices and external input ($A$, $B$, $u$) in the methods `evolve` and `ext_input`.\n",
    "- define their own state and simulation end condition (`self.state`, `self.simend`) and update `self.simend` in `evolve`.\n",
    "- define a `reset` method that returns the object state to what it was before simulation. (Ideally you'd do this entirely in the state, but for the rocket example below I found it was easier to have some class attributes other than the state to keep algebra simpler.)\n",
    "- define \n",
    " - the initial state covariance matrix P\n",
    " - the state-transition noise matrix Q\n",
    " - the state-to-measurement matrix H \n",
    " - the measurement covariance matrix R. \n",
    " \n",
    "Assuming these are defined for each instance of a `DynamicSystem` child class, any `DynamicSystem` can run simulations (i.e. just transition states over time without the Kalman update step), or filter its own state based on noisy sensor data. "
   ]
  },
  {
   "cell_type": "code",
   "execution_count": null,
   "metadata": {
    "collapsed": true
   },
   "outputs": [],
   "source": [
    "class DynamicSystem(ABC):\n",
    "    '''\n",
    "    An abstract dynamic system with time-dependent state evolution, time-independent state to measurement mapping,\n",
    "    and initial measurement covariances, constructed to facilitate Kalman filtering.\n",
    "\n",
    "    Required parameters:\n",
    "        simend (bool)\n",
    "        state (ndarray)\n",
    "        P (ndarray)\n",
    "        Q (ndarray)\n",
    "        H (ndarray)\n",
    "        R (ndarray)\n",
    "        STATE_SIZE (int)\n",
    "        INPUT_SIZE (int)\n",
    "    Required methods:\n",
    "        evolve\n",
    "        ext_input\n",
    "        reset\n",
    "    '''\n",
    "\n",
    "    @abstractmethod\n",
    "    def evolve(self, t, dt):\n",
    "        # Given t and dt, returns the dynamic system's A and B matrices. Also sets simend based on state.\n",
    "        pass\n",
    "\n",
    "    @abstractmethod\n",
    "    def ext_input(self, t):\n",
    "        # Given t, returns u(t) and a u_status that may be None.\n",
    "        pass\n",
    "\n",
    "    @abstractmethod\n",
    "    def reset(self):\n",
    "        # restores all internal variables that may have changed during a simulation run.\n",
    "        pass\n",
    "\n",
    "    def predict(self, t, dt):\n",
    "        # predicts system state at time t+dt based on system state at time t\n",
    "        A, B = self.evolve(t, dt)\n",
    "        u, u_status = self.ext_input(t)\n",
    "        state_predicted = A.dot(self.state) + B.dot(u)\n",
    "        P_predicted = A.dot(self.P.dot(A.T)) + self.Q\n",
    "        return (u, u_status, state_predicted, P_predicted)\n",
    "\n",
    "    def sim_results(self, t, k, states, inputs, terminate):\n",
    "        self.reset()\n",
    "        print(\"Simulation ended at t =\", t, \"s due to\", terminate)\n",
    "        processed_states = np.zeros([self.STATE_SIZE, k])\n",
    "        processed_inputs = np.zeros([self.INPUT_SIZE, k])\n",
    "        states = states.T\n",
    "        inputs = inputs.T\n",
    "        for i, state in enumerate(states):\n",
    "            processed_states[i] = state[:k]\n",
    "        for i, input in enumerate(inputs):\n",
    "            processed_inputs[i] = input[:k]\n",
    "        return (np.linspace(0,t,k+1)[:k], processed_states, processed_inputs)\n",
    "\n",
    "    def simulate(self, dt=0.01, timeout=30, verbose=False, kalman=None):\n",
    "        interrupt = False\n",
    "        t, k = 0, 0\n",
    "        if kalman is not None:\n",
    "            m = 0\n",
    "            measure_times = kalman[0]\n",
    "        states = np.zeros([int(np.ceil(timeout/dt))+1, self.STATE_SIZE])\n",
    "        inputs = np.zeros([int(np.ceil(timeout/dt))+1, self.INPUT_SIZE])\n",
    "        terminate = \"error.\"\n",
    "        try:\n",
    "            while t < timeout:\n",
    "                if verbose and hasattr(self, \"compact_status\") and k % 100 == 0:\n",
    "                    self.compact_status(t)\n",
    "                states[k] = self.state\n",
    "                inputs[k], input_status, state_predicted, P_predicted = self.predict(t, dt)\n",
    "                if kalman is not None and m < measure_times.size and np.isclose(t, measure_times[m], atol=dt/2):\n",
    "                    self.state, self.P = self.update(state_predicted, P_predicted, kalman[1][m])\n",
    "                    m += 1\n",
    "                else:\n",
    "                    self.state = state_predicted\n",
    "                    self.P = P_predicted\n",
    "                if verbose and input_status is not None and k % 100 == 0:\n",
    "                    print(input_status)\n",
    "                if self.simend:\n",
    "                    terminate = \"end condition.\"\n",
    "                    break\n",
    "                t += dt\n",
    "                t = np.round(t, -int(np.log10(dt)))\n",
    "                k += 1\n",
    "        except KeyboardInterrupt:\n",
    "            print(\"\\nSteps completed:\", k)\n",
    "            terminate = \"interrupt.\"\n",
    "        if t >= timeout:\n",
    "            terminate = \"timeout.\"\n",
    "        return self.sim_results(t, k, states, inputs, terminate)\n",
    "\n",
    "    def measure(self, state):\n",
    "        return self.H.dot(state)\n",
    "\n",
    "    def update(self, state_predicted, P_predicted, measurement):\n",
    "        error = measurement - self.measure(state_predicted)\n",
    "        K = P_predicted.dot(self.H.T.dot(np.linalg.inv(self.H.dot(P_predicted.dot(self.H.T)) + self.R)))\n",
    "        state_updated = state_predicted + K.dot(error)\n",
    "        P_updated = P_predicted - K.dot(self.H.dot(P_predicted))\n",
    "        return (state_updated, P_updated)"
   ]
  },
  {
   "cell_type": "markdown",
   "metadata": {},
   "source": [
    "## The rocket dynamic model\n",
    "\n",
    "We'll demonstrate Kalman filtering on data collected from a rocket launch. The rocket is called Sub-Arktos. It was made by the UC Berkeley high-powered rocketry team, CalSTAR, as a subscale launch vehicle for the NASA Student Launch competition in 2017.\n",
    "\n",
    "High-powered rockets usually fly using commercial off-the-shelf motors, which provide on the order of 10 Gs in thrust over a very short time. Once a rocket reaches apogee (the highest point of flight), it deploys parachutes so that it comes down gradually rather than at its terminal velocity, so that it can be recovered without damage. The condition for parachute deployment is usually reaching apogee, a specific time delay after apogee, or reaching a specific altitude during descent. Sub-Arktos flew with two parachutes, which is reasonably standard for an apogee on the order of a mile. The first was a small \"drogue\" chute deployed at apogee, so as to make the rocket fall gradually, but still fast enough that it does not drift too much during descent. The second was a larger \"main\" chute deployed at an altitude of 800 feet, to ensure the rocket is falling slowly enough that impact is soft and there is no damage to the airframe.\n",
    "\n",
    "To deploy parachutes at the correct time, it is necessary to have a good idea of the rocket's state at any given time. However, knowing the rocket's state is dependent on altimeter and accelerometer data, which may be noisy. But since we know from simulation approximately what the rocket state at any given time should be, determining when the rocket is likely to be at apogee or at some specific altitude during descent is a perfect Kalman filtering problem.\n",
    "\n",
    "If you're interested in how the rocket simulation was developed, I'd love to discuss it in detail in person or in a different notebook; for here I'll just use it to demonstrate filtering without explaining much of what's under the hood. Essentially, it's just solving for the rocket's position, velocity, and acceleration based on those values at the previous timestep and the force on the rocket over time. Accurately modelling the force was the difficult part; after that, it's essentially just like the example above.\n",
    "\n",
    "The state-transition equations can be discretized according to the formulas given previously to get\n",
    "\n",
    "$\\begin{bmatrix} x(t + dt) \\\\ \\dot{x}(t + dt) \\\\ \\ddot{x}(t + dt) \\end{bmatrix} = \\begin{bmatrix} 1 & dt & \\frac{dt^2}{2} \\\\ 0 & 1 & \\frac{dt}{2} \\\\ 0 & 0 & 0 \\end{bmatrix} \\begin{bmatrix} x(t) \\\\ \\dot{x}(t) \\\\ \\ddot{x}(t) \\end{bmatrix} + \\begin{bmatrix}0 \\\\ \\frac{dt}{2m(t)} \\\\ \\frac{1}{m(t)} \\end{bmatrix} f(t)$\n",
    "\n",
    "Ordinarily, the 2D state $\\begin{bmatrix} x(t) & \\dot{x}(t) \\end{bmatrix}^T$ would suffice, but I included acceleration in the state because one of the sensors is an accelerometer, and for Kalman filtering to work, the measurements have to depend only on the state.\n",
    "\n",
    "It should also be noted that this is an approximation, using second-order (velocity verlet) integration instead of something like a fourth-order Runge-Kutta method. You could do that in the form $x(t + dt) = Ax(t) + Bu(t)$ as well, but $A$ and $B$ would vary with time (more accurately, they would vary with the state) which makes it computationally difficult to filter in real time.\n",
    "\n",
    "Note that there's a slight oversimplification that both my simulation and the reference simulation make, to do with main parachute deployment. Both model it as an instantaneous process, with the chute providing zero drag until it's time for it to be deployed and its full drag thereafter. This essentially creates a Dirac delta-type spike in the acceleration that's slightly offset between the reference and reality, and likely isn't what you'd see on a real-life accelerometer. Therefore, for this example, we're going to assume that Sub-Arktos only has a drogue chute and no main  chute. This reflects what actually happened to the rocket at its last launch, so it seems reasonable to simulate. If you want to see a simulation with the main parachute included, take a look at 'subarktos/subarktos.py' under this repo."
   ]
  },
  {
   "cell_type": "code",
   "execution_count": 3,
   "metadata": {
    "hidecode": true
   },
   "outputs": [
    {
     "ename": "NameError",
     "evalue": "name 'DynamicSystem' is not defined",
     "output_type": "error",
     "traceback": [
      "\u001b[0;31m---------------------------------------------------------------------------\u001b[0m",
      "\u001b[0;31mNameError\u001b[0m                                 Traceback (most recent call last)",
      "\u001b[0;32m<ipython-input-3-2633e5f5e9d2>\u001b[0m in \u001b[0;36m<module>\u001b[0;34m()\u001b[0m\n\u001b[1;32m    102\u001b[0m         \u001b[0mself\u001b[0m\u001b[0;34m.\u001b[0m\u001b[0mconvert\u001b[0m \u001b[0;34m=\u001b[0m \u001b[0mconvert\u001b[0m\u001b[0;34m\u001b[0m\u001b[0m\n\u001b[1;32m    103\u001b[0m \u001b[0;34m\u001b[0m\u001b[0m\n\u001b[0;32m--> 104\u001b[0;31m \u001b[0;32mclass\u001b[0m \u001b[0mRocket\u001b[0m\u001b[0;34m(\u001b[0m\u001b[0mDynamicSystem\u001b[0m\u001b[0;34m)\u001b[0m\u001b[0;34m:\u001b[0m\u001b[0;34m\u001b[0m\u001b[0m\n\u001b[0m\u001b[1;32m    105\u001b[0m \u001b[0;34m\u001b[0m\u001b[0m\n\u001b[1;32m    106\u001b[0m     '''\n",
      "\u001b[0;31mNameError\u001b[0m: name 'DynamicSystem' is not defined"
     ]
    }
   ],
   "source": [
    "# Feel free to skip way past this, till I figure out how to hide a code cell in Jupyter.\n",
    "\n",
    "class Parachute:\n",
    "\n",
    "    CHUTE_OPEN_DELAY = 0.2\n",
    "    '''\n",
    "    diameter : scalar\n",
    "        Diameter of the parachute.\n",
    "    cd : scalar\n",
    "        Drag coefficient of the parachute.\n",
    "    alt : scalar\n",
    "        Deployment altitude of the parachute in feet converted to meters.\n",
    "        If None, considered to be at apogee.\n",
    "    deployed : bool\n",
    "        Indicates whether or not the chute has deployed.\n",
    "    name : string\n",
    "        Name of the parachute, for reading status.\n",
    "    t_deployed : scalar\n",
    "        Time when the parachute was deployed.\n",
    "    '''\n",
    "    def __init__(self, diameter, cd, name, alt=None):\n",
    "        self.b_drag = 1.275 * np.pi * cd * diameter**2/8\n",
    "        if alt is not None:\n",
    "            self.alt = alt * 0.3048\n",
    "        else:\n",
    "            self.alt = float('inf')\n",
    "        self.deployed = False\n",
    "        self.name = name\n",
    "        self.t_deployed = None\n",
    "\n",
    "    def drag(self, velocity, t):\n",
    "        # velocity in m/s\n",
    "        if not self.deployed or t - self.t_deployed < self.CHUTE_OPEN_DELAY:\n",
    "            return 0\n",
    "        return self.b_drag * velocity**2\n",
    "\n",
    "    def deploy(self, t):\n",
    "        if not self.deployed:\n",
    "            print(\"Deploying\", self.name, \"at t =\", str(t).strip(),\"s\")\n",
    "            self.deployed = True\n",
    "            self.t_deployed = t\n",
    "\n",
    "class Motor:\n",
    "    # credit for thrust and mass functions: Aled Cuda\n",
    "    '''\n",
    "    mass_init : scalar\n",
    "        Initial mass of the motor.\n",
    "    mass_final : scalar\n",
    "        Final mass of the motor.\n",
    "    time_burnout : scalar\n",
    "        Time at which motor burns out in seconds.\n",
    "    thrust_curve : string\n",
    "        Name of text file containing thrust curve data.\n",
    "    time_delay : scalar\n",
    "        Time between launch and ignition of this motor in seconds.\n",
    "    '''\n",
    "    def __init__(self, mass_init, mass_final, thrust_curve, time_delay=0):\n",
    "        self.mass_init = mass_init\n",
    "        self.mass_final = mass_final\n",
    "        self.thrust_data = np.loadtxt(thrust_curve)\n",
    "        # adding thrust(t = 0) = 0 to help interpolation\n",
    "        self.thrust_data = np.concatenate((np.array([[0,self.thrust_data[::,1][1]/2]]), self.thrust_data), axis=0)\n",
    "        self.max_thrust = np.amax(self.thrust_data,0)[1]\n",
    "        assert time_delay >= 0, \"Cannot have a negative delay.\"\n",
    "        self.time_delay = time_delay\n",
    "        # adjust for time delay in thrust data\n",
    "        self.thrust_data = self.thrust_data + np.vstack([np.array([time_delay,0])]*self.thrust_data.shape[0])\n",
    "        self.time_burnout = np.max(self.thrust_data[::,0]) + time_delay\n",
    "\n",
    "    def thrust(self, t):\n",
    "        # If we ask for a time before or after the range we assume thrust is zero\n",
    "        if t > self.time_burnout or t < self.time_delay:\n",
    "            return 0\n",
    "        # Otherwise we use the interpolate function\n",
    "        return interp.interp1d(self.thrust_data[::,0], self.thrust_data[::,1])(t)\n",
    "\n",
    "    def mass(self, t):\n",
    "        if t < self.time_delay:\n",
    "            return self.mass_init\n",
    "        elif t > self.time_burnout:\n",
    "            return self.mass_final\n",
    "        return ((self.mass_final - self.mass_init)/(self.time_burnout - self.time_delay))*t + self.mass_init\n",
    "\n",
    "class Sensor:\n",
    "    '''\n",
    "    Object that reads in a rocket state variable.\n",
    "    select : int\n",
    "        Indicates which state variable is being read: 0 for altitude, 1 for velocity (not expected to be used),\n",
    "        2 for acceleration.\n",
    "    var : scalar\n",
    "        Variance of the sensor.\n",
    "    data : ndarray\n",
    "        Collection of n row vectors with two elements: time and sensor reading.\n",
    "    convert : scalar\n",
    "        Multiplicative factor from the state variable to the sensor reading. Mostly m to ft conversion.\n",
    "    '''\n",
    "\n",
    "    def __init__(self, select, var, data, convert=3.28):\n",
    "        self.select = select\n",
    "        self.var = var\n",
    "        self.data = data\n",
    "        self.convert = convert\n",
    "\n",
    "class Rocket(DynamicSystem):\n",
    "\n",
    "    '''\n",
    "    A rocket with an altimeter and accelerometer.\n",
    "\n",
    "    dry_mass : scalar\n",
    "        Takes in time, returns rocket mass.\n",
    "    parachutes : list\n",
    "        A list of Parachute objects.\n",
    "    motors : list\n",
    "        A list of Motor objects.\n",
    "    sensors : list\n",
    "        A list of Sensor objects. Setting this to the empty list will set Kalman filtering to simulation without updates.\n",
    "    b_drag : scalar\n",
    "        Coefficient on v^2 in drag equation. (Not the same as cd.)\n",
    "        Currently being determined via curve fitting on OpenRocket sim data.\n",
    "    state : ndarray\n",
    "        1x3 row vector containing position, velocity, and acceleration in the best units.\n",
    "        State represented as a row vector, to be transposed if it's important for matrix operations.\n",
    "    apogee : bool\n",
    "        Boolean to indicate if apogee has been reached yet, to update parachute states.\n",
    "    '''\n",
    "    STATE_SIZE = 3\n",
    "    INPUT_SIZE = 1\n",
    "\n",
    "    def __init__(self, dry_mass, parachutes, motors, sensors, b_drag):\n",
    "        self.dry_mass = dry_mass\n",
    "        self.parachutes = parachutes\n",
    "        self.motors = motors\n",
    "        self.sensors = sensors\n",
    "        self.b_drag = b_drag\n",
    "        self.H = np.zeros((len(sensors), 3))\n",
    "        self.R = np.zeros((len(sensors), len(sensors)))\n",
    "        for i,s in enumerate(sensors):\n",
    "            self.H[i][s.select] = s.convert\n",
    "            self.R[i][i] = s.var\n",
    "        self.P = np.zeros([self.STATE_SIZE, self.STATE_SIZE])\n",
    "        q = 2\n",
    "        d = 0.001 # sampling time difference of one of the sensors. Just in here for the noise model, to be updated.\n",
    "        # constant acceleration approximation: change this later\n",
    "        self.Q = q * np.array([[d**4/4, d**3/3, d**2/2], [d**3/3, d**2/2, d], [d**2/2, d, 1]])\n",
    "        # for now these are hardcoded in, but find a way to remove them and still detect apogee:\n",
    "        self.stdev_alt = np.sqrt(5.54)\n",
    "        self.stdev_acc = np.sqrt(62.953)\n",
    "        self.apogee = False\n",
    "        self.simend = False\n",
    "        self.max_thrust = sum([m.max_thrust for m in self.motors])\n",
    "        self.state = np.array([0, 0, 0])\n",
    "        self.state[2] = self.get_thrust(0)/self.get_mass(0)\n",
    "        print(self.state)\n",
    "\n",
    "    def get_mass(self, t):\n",
    "        return self.dry_mass + sum([m.mass(t) for m in self.motors])\n",
    "\n",
    "    def get_thrust(self, t):\n",
    "        # to do: burnout detection.\n",
    "        return sum([m.thrust(t) for m in self.motors])\n",
    "\n",
    "    def get_rocket_drag(self):\n",
    "        magnitude = self.b_drag * self.state[1]**2\n",
    "        if not self.apogee:\n",
    "            return -magnitude\n",
    "        else:\n",
    "            return magnitude\n",
    "\n",
    "    def get_chute_drag(self, t):\n",
    "        return sum([p.drag(self.state[1], t) for p in self.parachutes])\n",
    "\n",
    "    def ext_input(self, t, mass=None):\n",
    "        if mass is None:\n",
    "            mass = self.get_mass(t)\n",
    "        thrust = self.get_thrust(t)\n",
    "        if thrust == 0 and t < 0.2:\n",
    "            # to do: better way of detecting 'still on the pad'\n",
    "            gravity = 0\n",
    "        else:\n",
    "            gravity = -9.8 * mass\n",
    "        rocket_drag = self.get_rocket_drag()\n",
    "        if thrust > 0.05*self.max_thrust:\n",
    "            assert thrust > np.abs(rocket_drag), \"Excessive drag\"\n",
    "        chute_drag = self.get_chute_drag(t)\n",
    "        return (thrust + gravity + rocket_drag + chute_drag, str([thrust, gravity, rocket_drag, chute_drag]) + '\\n')\n",
    "\n",
    "    def evolve(self, t, dt, order=2):\n",
    "        # order: of integration.\n",
    "        m = self.get_mass(t)\n",
    "        if order == 1:\n",
    "            A = np.array([[1, dt, dt**2/2],[0, 1, dt],[0, 0, 0]])\n",
    "            B = np.array([0, 0, 1/m])\n",
    "        elif order == 2:\n",
    "            A = np.array([[1, dt, dt**2/2], [0, 1, dt/2], [0, 0, 0]])\n",
    "            B = np.array([0, dt/(2*m), 1/m])\n",
    "        # Orders > 2 to be implemented based on https://math.stackexchange.com/questions/2946737/solving-a-matrix-differential-equation-using-runge-kutta-methods, plus some slightly jank workarounds that allow the 'a' row to still be all zero.\n",
    "        # Check for apogee\n",
    "        if not self.apogee:\n",
    "            try:\n",
    "                assert self.state[0] > -self.stdev_alt, \"you will not go to space today\"\n",
    "            except AssertionError as e:\n",
    "                e.args += (\"Time\", t, \"State\", self.state)\n",
    "                raise\n",
    "            if self.state[1] < -self.stdev_acc and self.state[2] < -self.stdev_acc:\n",
    "                # this is kind of a jank apogee check, especially because I'm comparing velocity to a deviation in acceleration\n",
    "                try:\n",
    "                    assert self.get_thrust(t) == 0, \"If you're at apogee, the motor can't still be burning\"\n",
    "                except AssertionError as e:\n",
    "                    e.args += (\"Time\", t, \"thrust\", self.get_thrust(t), \"state:\", self.state)\n",
    "                    raise\n",
    "                self.apogee = True\n",
    "                print(\"Hit apogee at altitude\",str(np.round(3.28*self.state[0], 2)),\"ft\")\n",
    "                for p in self.parachutes:\n",
    "                    if p.alt is None:\n",
    "                        p.deploy(t)\n",
    "        # Check for altitude-based chute deployment\n",
    "        # To do: nicer way of doing this than checking at every timestep.\n",
    "        if self.apogee and not all([p.deployed for p in self.parachutes]):\n",
    "            for p in self.parachutes:\n",
    "                if p.alt > self.state[0]:\n",
    "                    p.deploy(t)\n",
    "\n",
    "        # Check for ground hit\n",
    "        if self.apogee and self.state[0] < self.stdev_alt and A.dot(self.state)[0] < -2*self.stdev_alt:\n",
    "            self.simend = True\n",
    "        return (A, B)\n",
    "\n",
    "    def reset(self):\n",
    "        # for some reason copy.deepcopy isn't working so here\n",
    "        for p in self.parachutes:\n",
    "            p.deployed = False\n",
    "            p.t_deployed = None\n",
    "        self.apogee = False\n",
    "        self.state = np.array([0,0,0])\n",
    "        self.simend = False\n",
    "\n",
    "    def status(self):\n",
    "        print(\"Altitude:\", self.state[0])\n",
    "        print(\"Velocity:\", self.state[1])\n",
    "        print(\"Acceleration:\", self.state[2])\n",
    "        print(\"Apogee hit:\", self.apogee)\n",
    "        for p in self.parachutes:\n",
    "            print(p.name, \"deployed:\", p.deployed)\n",
    "        print(\"Ground hit:\", self.simend)\n",
    "\n",
    "    def compact_status(self, t):\n",
    "        print(t, self.state, self.apogee, [p.deployed for p in self.parachutes], self.simend)"
   ]
  },
  {
   "cell_type": "code",
   "execution_count": null,
   "metadata": {
    "collapsed": true
   },
   "outputs": [],
   "source": [
    "'''subarktos_sim_no_main.csv has data from the reference simulator. We're going to consider this to be our sensor data, \n",
    "because then we know exactly what the noise is. We initialize sensor data before the rocket because the rocket \n",
    "needs information on how noisy its sensors are.'''\n",
    "\n",
    "%matplotlib inline\n",
    "sim = pd.read_csv(\"subarktos/subarktos_sim_no_main.csv\", comment='#')\n",
    "read_t = np.array(sim['Time (s)'])\n",
    "read_alt = np.array(sim['Altitude (ft)'])\n",
    "read_vel = np.array(sim['Vertical velocity (ft/s)']) # not a sensor\n",
    "read_acc = np.array(sim['Vertical acceleration (ft/s^2)'])\n",
    "t_apogee = 16.208 # I read this off the csv, ideally I'd parse the comments\n",
    "read_drag = np.array(sim['Drag force (N)'])\n",
    "read_thrust = np.array(sim['Thrust (N)'])\n",
    "read_mass = np.array(sim['Mass (oz)']) \n",
    "read_gravity = np.array(sim['Gravitational acceleration (ft/s^2)']) * read_mass * 0.008641\n",
    "\n",
    "def force(t):\n",
    "    n = np.where(read_t == t)[0][0]\n",
    "    if t < t_apogee:\n",
    "        return read_thrust[n] - read_drag[n] - read_gravity[n]\n",
    "    else:\n",
    "        return read_drag[n] - read_gravity[n]\n",
    "    \n",
    "read_force = (np.vectorize(force))(read_t)\n",
    "\n",
    "# To demonstrate filtering, we apply Gaussian noise, which we're going to try and remove.\n",
    "\n",
    "sigma_alt = np.max(read_alt)/64\n",
    "sigma_acc = np.max(read_acc)/64\n",
    "alt_noise = np.random.normal(0, np.sqrt(sigma_alt), np.size(read_alt))\n",
    "acc_noise = np.random.normal(0, np.sqrt(sigma_acc), np.size(read_acc))"
   ]
  },
  {
   "cell_type": "code",
   "execution_count": null,
   "metadata": {
    "collapsed": true
   },
   "outputs": [],
   "source": [
    "# to get the drag coefficient for subarktos, we curve-fit drag to velocity squared over the ascent.\n",
    "n_ascent = np.where(np.isclose(read_t, t_apogee, atol=1e-2))[0][0]\n",
    "v2 = read_vel**2\n",
    "plt.plot(v2[np.arange(0,n_ascent,1)], read_drag[np.arange(0,n_ascent,1)], label=\"Data\")\n",
    "slope, intercept, _, _, _ = stats.linregress(v2[np.arange(0,n_ascent,1)],read_drag[np.arange(0,n_ascent,1)])\n",
    "plt.plot(read_vel**2, slope*(read_vel**2) + intercept, label=\"Curve fit\")\n",
    "plt.legend(loc='lower right')"
   ]
  },
  {
   "cell_type": "code",
   "execution_count": null,
   "metadata": {
    "collapsed": true
   },
   "outputs": [],
   "source": [
    "'''Initializing Sub-Arktos. A couple of things are done weirdly because I'm pulling from simulation data, some of which\n",
    "is being considered simulation data and some of which will be used as sensor data. Usually the motor's final mass \n",
    "would be nonzero and would be measured beforehand without the motor in it, here I've just shifted mass around a bit.\n",
    "Also, sigma_alt and sigma_acc are manufactured numbers; to test those you could just have both sensors read while at \n",
    "rest and find their variances. Finally, the weirdest part is drag is determined by curve-fitting (and it's pulling\n",
    "the _wrong way_ for some reason).\n",
    "'''\n",
    "\n",
    "mass = read_mass[-1] * 0.0283495 #kg\n",
    "motor = Motor(1.223 - 0.713, 0, \"subarktos/J450.txt\") # motor starts with a mass 1.223 kg and ends with 0.713 kg.\n",
    "# These are standard numbers you can look up for any COTS motor.\n",
    "drogue = Parachute(0.3, 1.8, \"Drogue\")  # drogue parachute diameter in m, and Cd.\n",
    "#main = Parachute(0.9, 2.2, \"Main\", alt=800)\n",
    "altimeter = Sensor(0, sigma_alt, None) # sensor is reading state variable 0 (altitude) and has the given variance\n",
    "accelerometer = Sensor(2, sigma_acc, None) # reading state variable 2 (acceleration)\n",
    "drag = slope # determined via curve fitting to drag = -bv*2\n",
    "subarktos = Rocket(mass, [drogue], [motor], [altimeter, accelerometer], drag)\n",
    "\n",
    "def test_acc_differences(subarktos, read_t, read_acc):\n",
    "    def new_ext_input(t):\n",
    "        if t < np.min(read_t) or t > np.max(read_t):\n",
    "            return (0, \"OpenRocket sim data\")\n",
    "        return (interp.interp1d(read_t, read_acc)(t)/3.28 * subarktos.get_mass(t), \"OpenRocket sim data\")\n",
    "\n",
    "    subarktos.ext_input = new_ext_input\n",
    "    return subarktos\n",
    "\n",
    "#subarktos = test_acc_differences(subarktos, read_t, read_acc)\n"
   ]
  },
  {
   "cell_type": "code",
   "execution_count": null,
   "metadata": {
    "collapsed": true
   },
   "outputs": [],
   "source": [
    "test_time = np.linspace(0,0.01,100)\n",
    "plt.plot(test_time, np.vectorize(lambda x: [print(subarktos.ext_input(x)[1]), subarktos.ext_input(x)[0]][1])(test_time))"
   ]
  },
  {
   "cell_type": "code",
   "execution_count": null,
   "metadata": {
    "collapsed": true
   },
   "outputs": [],
   "source": [
    "test_time = np.linspace(0,0.01,100)\n",
    "plt.plot(test_time, np.vectorize(interp.interp1d(read_t, read_force))(test_time))"
   ]
  },
  {
   "cell_type": "code",
   "execution_count": null,
   "metadata": {
    "collapsed": true
   },
   "outputs": [],
   "source": [
    "model_mass = np.vectorize(subarktos.get_mass)(read_t)\n",
    "plt.plot(read_t, (np.array(sim['Mass (oz)']) * 0.0283495 - model_mass))"
   ]
  },
  {
   "cell_type": "code",
   "execution_count": null,
   "metadata": {
    "collapsed": true
   },
   "outputs": [],
   "source": [
    "plt.plot(read_t, read_thrust - np.vectorize(subarktos.get_thrust)(read_t))"
   ]
  },
  {
   "cell_type": "code",
   "execution_count": null,
   "metadata": {
    "collapsed": true
   },
   "outputs": [],
   "source": [
    "#plt.plot(np.linspace(0,120,10000), np.vectorize(lambda x: subarktos.ext_input(x)[0])(np.linspace(0,120,10000)))"
   ]
  },
  {
   "cell_type": "code",
   "execution_count": null,
   "metadata": {
    "collapsed": true,
    "scrolled": true
   },
   "outputs": [],
   "source": [
    "# Simulating the system\n",
    "subarktos.reset()\n",
    "times, states, inputs = subarktos.simulate(dt=0.001, timeout=120, verbose=False)"
   ]
  },
  {
   "cell_type": "code",
   "execution_count": null,
   "metadata": {
    "collapsed": true
   },
   "outputs": [],
   "source": [
    "# let's see how that compares to the reference simulation.\n",
    "\n",
    "plt.figure()\n",
    "plt.plot(times, 3.28*states[0], label='subarktos.simulate()')\n",
    "plt.plot(read_t, read_alt, label='OpenRocket simulation')\n",
    "plt.legend(loc='upper right')\n",
    "plt.xlabel(\"Time (s)\")\n",
    "plt.ylabel(\"Altitude (ft)\")"
   ]
  },
  {
   "cell_type": "code",
   "execution_count": null,
   "metadata": {
    "collapsed": true
   },
   "outputs": [],
   "source": [
    "plt.figure()\n",
    "plt.plot(times, 3.28*states[1], label='subarktos.simulate()')\n",
    "plt.plot(read_t, read_vel, label='OpenRocket simulation')\n",
    "plt.legend(loc='upper right')\n",
    "plt.xlabel(\"Time (s)\")\n",
    "plt.ylabel(\"Velocity (ft/s)\")"
   ]
  },
  {
   "cell_type": "code",
   "execution_count": null,
   "metadata": {
    "collapsed": true
   },
   "outputs": [],
   "source": [
    "plt.figure()\n",
    "plt.plot(times, 3.28*states[2], label='subarktos.simulate()')\n",
    "plt.plot(read_t, read_acc, label='OpenRocket simulation')\n",
    "plt.legend(loc='upper right')\n",
    "plt.xlabel(\"Time (s)\")\n",
    "plt.ylabel(\"Acceleration (ft/s^2)\")"
   ]
  },
  {
   "cell_type": "code",
   "execution_count": null,
   "metadata": {
    "collapsed": true
   },
   "outputs": [],
   "source": [
    "'''Now let's filter! We can do that by telling the simulation to update using noisy sensor data instead of no data. \n",
    "Later this'll pull from subarktos.sensors, but for now they're passed in as a parameter to 'simulate'.'''\n",
    "\n",
    "sensor_data = np.vstack([(read_alt + alt_noise, read_acc + acc_noise)]).T\n",
    "filtered_times, filtered_states, _ = subarktos.simulate(dt=0.001, timeout=120, kalman=(read_t, sensor_data))"
   ]
  },
  {
   "cell_type": "code",
   "execution_count": null,
   "metadata": {
    "collapsed": true
   },
   "outputs": [],
   "source": [
    "# To see what that did, let's plot the altimeter readings (without noise) over the filtered results\n",
    "plt.plot(read_t, read_alt, label=\"OpenRocket without noise\")\n",
    "plt.plot(filtered_times, 3.28*filtered_states[0], label=\"subarktos.simulate() filtered from OpenRocket + noise\")\n",
    "plt.legend(loc='upper right')\n",
    "plt.title(\"Kalman filtered rocket altitude against true values.\")\n",
    "plt.xlabel(\"Time (s)\")\n",
    "plt.ylabel(\"Altitude (ft)\")"
   ]
  },
  {
   "cell_type": "code",
   "execution_count": null,
   "metadata": {
    "collapsed": true
   },
   "outputs": [],
   "source": [
    "# and the accelerometer readings\n",
    "plt.plot(read_t, read_acc, label=\"OpenRocket without noise\")\n",
    "plt.plot(filtered_times, 3.28*filtered_states[2], label=\"subarktos.simulate() filtered from OpenRocket + noise\")\n",
    "plt.legend(loc='upper right')\n",
    "plt.title(\"Kalman filtered rocket acceleration against true values.\")\n",
    "plt.xlabel(\"Time (s)\")\n",
    "plt.ylabel(r\"Acceleration $(ft/s^2)$\")"
   ]
  },
  {
   "cell_type": "code",
   "execution_count": null,
   "metadata": {
    "collapsed": true
   },
   "outputs": [],
   "source": [
    "# To really see the effect of filtering, let's plot the errors in both before and after filtering.\n",
    "\n",
    "def interpolate_state_data(data):\n",
    "        def toreturn(t):\n",
    "            if t < np.min(read_t) or t > np.max(read_t):\n",
    "                return 0\n",
    "            return interp.interp1d(read_t, data)(t)\n",
    "        return toreturn\n",
    "    \n",
    "alt_error_after = 3.28*filtered_states[0] - np.vectorize(interpolate_state_data(read_alt))(filtered_times)\n",
    "acc_error_after = 3.28*filtered_states[2] - np.vectorize(interpolate_state_data(read_acc))(filtered_times)"
   ]
  },
  {
   "cell_type": "code",
   "execution_count": null,
   "metadata": {
    "collapsed": true
   },
   "outputs": [],
   "source": [
    "# altitude error\n",
    "plt.plot(read_t, alt_noise, label=\"Error before filtering\")\n",
    "plt.plot(filtered_times, alt_error_after, label=\"Error after filtering\")\n",
    "plt.title(\"Altitude error reduction due to Kalman filtering.\")\n",
    "plt.legend(loc='upper right')\n",
    "plt.xlabel(\"Time (s)\")\n",
    "plt.ylabel(\"Error in altitude (ft)\")\n",
    "\n",
    "print(np.std(alt_noise))\n",
    "print(np.std(alt_error_after))"
   ]
  },
  {
   "cell_type": "code",
   "execution_count": null,
   "metadata": {
    "collapsed": true
   },
   "outputs": [],
   "source": [
    "# acceleration error\n",
    "'''n = np.where(np.isclose(read_t, t_apogee, atol=1e-2))[0][0]\n",
    "m = np.where(np.isclose(filtered_times, t_apogee, atol=1e-2))[0][0]\n",
    "ns = np.where(np.isclose(read_t, 0.2,atol=1e-2))[0][0]\n",
    "ms = np.where(np.isclose(filtered_times,0.2,atol=1e-2))[0][0]'''\n",
    "plt.plot(read_t, acc_noise, label=\"Error before filtering\")\n",
    "plt.plot(filtered_times, acc_error_after, label=\"Error after filtering\")\n",
    "plt.title(\"Acceleration error reduction due to Kalman filtering.\")\n",
    "plt.legend(loc='lower right')\n",
    "plt.xlabel(\"Time (s)\")\n",
    "plt.ylabel(r\"Error in acceleration $(ft/s^2)$\")\n",
    "\n",
    "print(np.std(acc_noise))\n",
    "print(np.std(acc_error_after))"
   ]
  }
 ],
 "metadata": {
  "celltoolbar": "Edit Metadata",
  "kernelspec": {
   "display_name": "Python 3",
   "language": "python",
   "name": "python3"
  },
  "language_info": {
   "codemirror_mode": {
    "name": "ipython",
    "version": 3
   },
   "file_extension": ".py",
   "mimetype": "text/x-python",
   "name": "python",
   "nbconvert_exporter": "python",
   "pygments_lexer": "ipython3",
   "version": "3.6.3"
  }
 },
 "nbformat": 4,
 "nbformat_minor": 2
}
