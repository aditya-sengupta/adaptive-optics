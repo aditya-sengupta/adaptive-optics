{
 "cells": [
  {
   "cell_type": "code",
   "execution_count": 21,
   "metadata": {},
   "outputs": [
    {
     "name": "stdout",
     "output_type": "stream",
     "text": [
      "Starting the aberration basis...\n",
      "Running Gram-Schmidt...\n",
      "Testing the created method...\n",
      "Plotting the residual...\n"
     ]
    },
    {
     "data": {
      "image/png": "[encoded data removed]",
      "text/plain": [
       "<matplotlib.figure.Figure at 0x181dae85f8>"
      ]
     },
     "metadata": {},
     "output_type": "display_data"
    },
    {
     "data": {
      "image/png": "[encoded data removed]",
      "text/plain": [
       "<matplotlib.figure.Figure at 0x181e90a048>"
      ]
     },
     "metadata": {},
     "output_type": "display_data"
    },
    {
     "name": "stdout",
     "output_type": "stream",
     "text": [
      "0.0\n"
     ]
    }
   ],
   "source": [
    "from hcipy import *\n",
    "import numpy as np\n",
    "from matplotlib import pyplot as plt\n",
    "from scipy import linalg\n",
    "\n",
    "N = 64\n",
    "D = 9.96\n",
    "aperture = circular_aperture(D)\n",
    "pupil_grid = make_pupil_grid(N, D)\n",
    "sps = 40 * N // 128\n",
    "pupsep = 1\n",
    "outgrid_size = int(np.ceil(sps * (pupsep + 1)))\n",
    "D_grid = 3.6e-3\n",
    "pyramid_grid = make_pupil_grid(N, D_grid)\n",
    "nonzero_size = aperture(pupil_grid)[aperture(pupil_grid) > 0].size\n",
    "\n",
    "def get_sub_images(electric_field):\n",
    "    pyramid_grid = make_pupil_grid(N, D_grid)\n",
    "    images = Field(np.asarray(electric_field).ravel(), pyramid_grid)\n",
    "    pysize = int(np.sqrt(images.size))\n",
    "    images.shape = (pysize, pysize)\n",
    "    sub_images = [images[pysize-sps-1:pysize-1, 0:sps], images[pysize-sps-1:pysize-1, pysize-sps-1:pysize-1],\n",
    "                  images[0:sps, 0:sps], images[0:sps, pysize-sps-1:pysize-1]]\n",
    "    subimage_grid = make_pupil_grid(sps, D_grid * sps / N)\n",
    "    for count, img in enumerate(sub_images):\n",
    "        img = img.ravel()\n",
    "        img.grid = subimage_grid\n",
    "        sub_images[count] = img\n",
    "    return sub_images\n",
    "\n",
    "def pyramid_prop(wf):\n",
    "    # Given a wavefront, returns the result of a pyramid propagation and splitting into sub-images,\n",
    "    # as a list of hcipy Field objects.\n",
    "    keck_pyramid = PyramidWavefrontSensorOptics(pupil_grid, pupil_separation=pupsep, num_pupil_pixels=sps)\n",
    "    return get_sub_images(keck_pyramid.forward(wf).electric_field)\n",
    "\n",
    "def estimate(images_list):\n",
    "    EstimatorObject = PyramidWavefrontSensorEstimator(aperture, make_pupil_grid(sps*2, D_grid*sps*2/N))\n",
    "    I_b = images_list[0]\n",
    "    I_a = images_list[1]\n",
    "    I_c = images_list[2]\n",
    "    I_d = images_list[3]\n",
    "    norm = I_a + I_b + I_c + I_d\n",
    "    I_x = (I_a + I_b - I_c - I_d) / norm\n",
    "    I_y = (I_a - I_b - I_c + I_d) / norm\n",
    "    pygrid = make_pupil_grid(sps)\n",
    "    return Field(I_x.ravel(), pygrid), Field(I_y.ravel(), pygrid)\n",
    "\n",
    "def make_slopes(wf):\n",
    "    x, y = estimate(pyramid_prop(wf))\n",
    "    return np.concatenate((x, y))\n",
    "\n",
    "def plot_on_aperture(aperture, field):\n",
    "    project_onto = Wavefront(aperture(pupil_grid)).electric_field\n",
    "    project_onto.shape = (N, N)\n",
    "\n",
    "    count, i, j = 0, 0, 0\n",
    "    while count < nonzero_size:\n",
    "        if np.real(project_onto[i][j]) > 0:\n",
    "            project_onto[i][j] = field[count]\n",
    "            count += 1\n",
    "        j += 1\n",
    "        if j == N - 1:\n",
    "            j = 0\n",
    "            i += 1\n",
    "    return project_onto.ravel() * aperture(pupil_grid)\n",
    "\n",
    "def least_inv(A):\n",
    "    # given a matrix A such that Ax = b, makes a least-squares matrix Y such that\n",
    "    # x^ = Yb.\n",
    "    return np.linalg.inv(A.T.dot(A)).dot(A.T)\n",
    "\n",
    "def pupil_sin_phase(pupil, wavsx=1, wavsy=0, amplitude=0.1):\n",
    "    size=int(np.sqrt(pupil.size))\n",
    "    x=np.arange(size)\n",
    "    y=np.arange(size)\n",
    "    sin = np.zeros((size,size))\n",
    "\n",
    "    if wavsx==0 and wavsy==0:\n",
    "        return pupil\n",
    "    elif wavsy==0:\n",
    "        yfreq=0\n",
    "        xfreq = 2*np.pi/((size/wavsx))\n",
    "    elif wavsx==0:\n",
    "        xfreq=0\n",
    "        yfreq = 2*np.pi/((size/wavsy))\n",
    "    else:\n",
    "        xfreq = 2*np.pi/((size/wavsx))\n",
    "        yfreq = 2*np.pi/((size/wavsy))\n",
    "\n",
    "    for i in range(len(x)):\n",
    "        for j in range(len(y)):\n",
    "            sin[i,j] = amplitude*np.sin(xfreq*i+yfreq*j)\n",
    "\n",
    "    return pupil*np.exp(complex(0,1)*sin).ravel()\n",
    "\n",
    "wf = Wavefront(aperture(pupil_grid))\n",
    "b = nonzero_size//2\n",
    "print(\"Starting the aberration basis...\")\n",
    "aberration_mode_basis = []\n",
    "for i in np.arange(0, b, 1):\n",
    "    aberration_mode_basis.append(pupil_sin_phase(wf.electric_field, i + 1, 0))\n",
    "for i in np.arange(0, b, 1):\n",
    "    aberration_mode_basis.append(pupil_sin_phase(wf.electric_field, 0, i + 1))\n",
    "\n",
    "#print(\"Making the pyramid basis...\")\n",
    "#pyramid_basis = np.asarray([make_slopes(Wavefront(x)) for x in aberration_mode_basis])\n",
    "aberration_mode_basis = np.asarray([x[aperture(pupil_grid) > 0] for x in aberration_mode_basis])\n",
    "\n",
    "print(\"Running Gram-Schmidt...\")\n",
    "orthogonalized = []\n",
    "for x in aberration_mode_basis:\n",
    "    y = x\n",
    "    for v in orthogonalized:\n",
    "        y -= (x.dot(v)/v.dot(v))*v\n",
    "    if y.dot(y) != 0:\n",
    "        orthogonalized.append(y)\n",
    "\n",
    "def make_best_sine_approximation(wf):\n",
    "    S = np.asarray(orthogonalized).T\n",
    "    inversion = np.linalg.inv(S.T.dot(S))\n",
    "    least_square = S.dot(inversion).dot(S.T)\n",
    "    return Wavefront(Field(least_square.dot(wf.electric_field[aperture(pupil_grid) > 0]), wf.grid))\n",
    "\n",
    "print(\"Testing the created method...\")\n",
    "original_electric = Field(plot_on_aperture(aperture, aberration_mode_basis[1]), wf.grid)\n",
    "original = Wavefront(original_electric)\n",
    "as_basis_electric = Field(plot_on_aperture(aperture, make_best_sine_approximation(original).electric_field), wf.grid)\n",
    "as_basis_c = Wavefront(as_basis_electric)\n",
    "\n",
    "print(\"Plotting the residual...\")\n",
    "imshow_field(original.phase)\n",
    "plt.show()\n",
    "imshow_field(as_basis_c.phase)\n",
    "plt.show()\n",
    "imshow_field(original.phase - as_basis_c.phase)\n",
    "plt.colorbar()\n",
    "plt.show()\n",
    "print(max(original.phase - as_basis_c.phase))"
   ]
  },
  {
   "cell_type": "code",
   "execution_count": null,
   "metadata": {
    "collapsed": true
   },
   "outputs": [],
   "source": []
  }
 ],
 "metadata": {
  "kernelspec": {
   "display_name": "Python 3",
   "language": "python",
   "name": "python3"
  },
  "language_info": {
   "codemirror_mode": {
    "name": "ipython",
    "version": 3
   },
   "file_extension": ".py",
   "mimetype": "text/x-python",
   "name": "python",
   "nbconvert_exporter": "python",
   "pygments_lexer": "ipython3",
   "version": "3.6.3"
  }
 },
 "nbformat": 4,
 "nbformat_minor": 2
}
