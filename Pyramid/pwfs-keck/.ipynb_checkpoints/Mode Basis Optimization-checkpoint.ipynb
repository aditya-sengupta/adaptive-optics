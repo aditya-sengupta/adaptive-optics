{
 "cells": [
  {
   "cell_type": "code",
   "execution_count": 7,
   "metadata": {
    "collapsed": true
   },
   "outputs": [],
   "source": [
    "# Idea: we don't need to do the full propagation for every mode given that most of it is going to be blank.\n",
    "# Some form of run-length encoding or maybe a partial-rank SVD would be useful.\n",
    "\n",
    "from hcipy import *\n",
    "import numpy as np\n",
    "from matplotlib import pyplot as plt\n",
    "\n",
    "N = 8\n",
    "D = 9.96\n",
    "pupil_grid = make_pupil_grid(N, D)\n",
    "sps = int(N * 40/128)\n",
    "aperture = circular_aperture(D)"
   ]
  },
  {
   "cell_type": "code",
   "execution_count": 8,
   "metadata": {
    "collapsed": true
   },
   "outputs": [],
   "source": [
    "# find the first spot for which aperture != 0\n",
    "\n",
    "def make():\n",
    "    for i in range(N):\n",
    "        for j in range(N):\n",
    "            wf = Wavefront(aperture(pupil_grid))\n",
    "            wf.electric_field.shape = (N, N)\n",
    "            l = wf.electric_field.tolist()\n",
    "            if np.real(l[i][j]) > 0:\n",
    "                l[i][j] = 0\n",
    "                wf.electric_field = Field(np.asarray(l).ravel(), wf.grid)\n",
    "                return wf\n",
    "\n",
    "one_pixel_off = make()"
   ]
  },
  {
   "cell_type": "code",
   "execution_count": 9,
   "metadata": {},
   "outputs": [
    {
     "data": {
      "text/plain": [
       "<matplotlib.image.NonUniformImage at 0x10f1dae10>"
      ]
     },
     "execution_count": 9,
     "metadata": {},
     "output_type": "execute_result"
    }
   ],
   "source": [
    "imshow_field(one_pixel_off.intensity)"
   ]
  },
  {
   "cell_type": "code",
   "execution_count": 10,
   "metadata": {},
   "outputs": [
    {
     "data": {
      "image/png": "[encoded data removed]",
      "text/plain": [
       "<matplotlib.figure.Figure at 0x10eedb748>"
      ]
     },
     "metadata": {},
     "output_type": "display_data"
    }
   ],
   "source": [
    "plt.show()"
   ]
  },
  {
   "cell_type": "code",
   "execution_count": 12,
   "metadata": {},
   "outputs": [],
   "source": [
    "keck_pyramid = PyramidWavefrontSensorOptics(pupil_grid, pupil_separation=1, num_pupil_pixels=2)\n",
    "py_output = keck_pyramid.forward(make())"
   ]
  },
  {
   "cell_type": "code",
   "execution_count": 14,
   "metadata": {},
   "outputs": [
    {
     "data": {
      "text/plain": [
       "<matplotlib.image.NonUniformImage at 0x10f0d4630>"
      ]
     },
     "execution_count": 14,
     "metadata": {},
     "output_type": "execute_result"
    }
   ],
   "source": [
    "imshow_field(py_output.intensity)"
   ]
  },
  {
   "cell_type": "code",
   "execution_count": 15,
   "metadata": {},
   "outputs": [
    {
     "data": {
      "image/png": "[encoded data removed]",
      "text/plain": [
       "<matplotlib.figure.Figure at 0x10f1bd710>"
      ]
     },
     "metadata": {},
     "output_type": "display_data"
    }
   ],
   "source": [
    "plt.show()"
   ]
  },
  {
   "cell_type": "code",
   "execution_count": null,
   "metadata": {
    "collapsed": true
   },
   "outputs": [],
   "source": []
  }
 ],
 "metadata": {
  "kernelspec": {
   "display_name": "Python 3",
   "language": "python",
   "name": "python3"
  },
  "language_info": {
   "codemirror_mode": {
    "name": "ipython",
    "version": 3
   },
   "file_extension": ".py",
   "mimetype": "text/x-python",
   "name": "python",
   "nbconvert_exporter": "python",
   "pygments_lexer": "ipython3",
   "version": "3.6.3"
  }
 },
 "nbformat": 4,
 "nbformat_minor": 2
}
