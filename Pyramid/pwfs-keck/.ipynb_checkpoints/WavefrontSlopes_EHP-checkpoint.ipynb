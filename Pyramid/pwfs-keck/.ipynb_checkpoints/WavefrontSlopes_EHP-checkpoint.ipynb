{
 "cells": [
  {
   "cell_type": "code",
   "execution_count": null,
   "metadata": {},
   "outputs": [],
   "source": [
    "from hcipy import *\n",
    "import numpy as np\n",
    "from matplotlib import pyplot as plt\n",
    "\n",
    "%matplotlib inline\n",
    "\n",
    "N = 128\n",
    "padding = 1 # zero-padding on pyramid output. 1 means sub-pupil images touch the outside edges\n",
    "\n",
    "D_keck = 9.96\n",
    "keck_aperture = circular_aperture(D_keck) \n",
    "# I also implemented a better make_keck_aperture, this is just for simplicity when testing\n",
    "pupil_grid = make_pupil_grid(N, D_keck * padding)\n",
    "\n",
    "wf = Wavefront(keck_aperture(pupil_grid))\n",
    "\n",
    "aberrated = wf.copy()\n",
    "amplitude = 0.3\n",
    "spatial_frequency = 5\n",
    "aberrated.electric_field *= np.exp(1j * amplitude * np.sin(2*np.pi * pupil_grid.x / D_keck * spatial_frequency))\n",
    "\n",
    "imshow_field(wf.intensity)\n",
    "plt.colorbar()\n",
    "plt.show()\n",
    "\n",
    "imshow_field(aberrated.phase, cmap='RdBu')\n",
    "plt.colorbar()\n",
    "plt.show()"
   ]
  },
  {
   "cell_type": "code",
   "execution_count": null,
   "metadata": {},
   "outputs": [],
   "source": [
    "sps = 40 #sub-pupil size\n",
    "pupsep = 65/39.3\n",
    "outgrid_size = int(np.ceil(sps * (pupsep + 1)))\n",
    "keck_pyramid = PyramidWavefrontSensorOptics(pupil_grid, pupil_separation=pupsep, num_pupil_pixels=sps)\n",
    "pyramid_grid = make_pupil_grid(N, 3.6e-3)\n",
    "pyramid_output = keck_pyramid.forward(aberrated).intensity\n",
    "imshow_field(pyramid_output)\n",
    "plt.show()"
   ]
  },
  {
   "cell_type": "code",
   "execution_count": null,
   "metadata": {},
   "outputs": [],
   "source": [
    "def get_sub_images(pyramid_output, N):\n",
    "    outgrid = np.zeros((N, N)).tolist()\n",
    "    pyramid_output.shape = (outgrid_size, outgrid_size)\n",
    "    buffer = (N - outgrid_size)//2\n",
    "    # added ability to get sub-pupil images that are separated. Default PWFSOptics has pupil separation = 1.5 but \n",
    "    # image extraction assumes separation = 1. Not sure, but this may have caused errors before.\n",
    "    for rownum, row in enumerate(pyramid_output.tolist()):\n",
    "        for colnum, el in enumerate(row):\n",
    "            outgrid[rownum+buffer][colnum+buffer] = el\n",
    "    images = Field(np.asarray(outgrid).ravel(), pyramid_grid)\n",
    "    image = images.shaped\n",
    "    sub_images = [image[buffer:sps+buffer, buffer:sps+buffer], \n",
    "                  image[(N-buffer-sps-1):(N-buffer-1), buffer:sps+buffer],\n",
    "                  image[buffer:sps+buffer, (N-buffer-sps-1):(N-buffer-1)], \n",
    "                  image[(N-buffer-sps-1):(N-buffer-1), (N-buffer-sps-1):(N-buffer-1)]]\n",
    "    subimage_grid = make_pupil_grid(sps)\n",
    "    for count, img in enumerate(sub_images):\n",
    "        img = img.ravel()\n",
    "        img.grid = subimage_grid\n",
    "        sub_images[count] = img\n",
    "    return sub_images\n",
    "    # This slightly crops some of the edges of the sub-pupil images, but it is the actual size we'll have to work with.\n",
    "    # Hopefully no significant information loss because of this. (Maybe off by one?)\n",
    "    \n",
    "get_sub_images(pyramid_output, N)"
   ]
  },
  {
   "cell_type": "code",
   "execution_count": null,
   "metadata": {},
   "outputs": [],
   "source": [
    "def estimate(EstimatorObject, images_list):\n",
    "    '''\n",
    "    Slightly edited version of the PWFSEstimator.estimate function. The earlier function had a difference in sub-pupil\n",
    "    numbering compared to the literature I found. As implemented before, it was \n",
    "    a b\n",
    "    c d\n",
    "    but according to papers such as https://ui.adsabs.harvard.edu/#abs/2006OExpr..1411925B/abstract (page 3) it's\n",
    "    b a\n",
    "    c d\n",
    "    '''\n",
    "    I_b = images_list[0]\n",
    "    I_a = images_list[1]\n",
    "    I_c = images_list[2]\n",
    "    I_d = images_list[3]\n",
    "    norm = I_a + I_b + I_c + I_d\n",
    "    I_x = (I_a + I_b - I_c - I_d) / norm\n",
    "    I_y = (I_a - I_b - I_c + I_d) / norm\n",
    "    dummy = Field(np.zeros(I_x.size), I_x.grid)\n",
    "    I_x = I_x.ravel()\n",
    "    I_y = I_y.ravel()\n",
    "    dummy = dummy.ravel()\n",
    "    res = Field([I_x, I_y, dummy], EstimatorObject.pupil_mask.grid)\n",
    "    # previously, was not possible to plot res, can now do so as a red-green plot (red = x and green = y).\n",
    "    return res, I_x, I_y\n",
    "\n",
    "pyramid_subgrid = make_pupil_grid(sps*2, (3.6e-3)*sps*2/N)\n",
    "keck_pyramid_estimator = PyramidWavefrontSensorEstimator(keck_aperture, pyramid_subgrid)\n",
    "aberratedslopes, x_slopes, y_slopes = estimate(keck_pyramid_estimator, sub_images)\n",
    "plt.subplot(2,2,1)\n",
    "imshow_field(x_slopes, cmap='RdBu')\n",
    "plt.colorbar()\n",
    "plt.subplot(2,2,2)\n",
    "imshow_field(y_slopes, cmap='RdBu')\n",
    "plt.colorbar()\n",
    "plt.show()"
   ]
  },
  {
   "cell_type": "code",
   "execution_count": null,
   "metadata": {},
   "outputs": [],
   "source": [
    "print(x_slopes.shape)"
   ]
  },
  {
   "cell_type": "code",
   "execution_count": null,
   "metadata": {},
   "outputs": [],
   "source": [
    "print(min(x_slopes))"
   ]
  },
  {
   "cell_type": "code",
   "execution_count": null,
   "metadata": {
    "collapsed": true
   },
   "outputs": [],
   "source": [
    "def makeflatwfslopes():\n",
    "    flat_pyramid_output = keck_pyramid.forward(wf).intensity\n",
    "    flat_pyramid_output.shape = (outgrid_size, outgrid_size)\n",
    "    # added ability to get sub-pupil images that are separated. Default PWFSOptics has pupil separation = 1.5 but \n",
    "    # image extraction assumes separation = 1. Not sure, but this may have caused errors before.\n",
    "    for rownum, row in enumerate(flat_pyramid_output.tolist()):\n",
    "        for colnum, el in enumerate(row):\n",
    "            outgrid[rownum+buffer][colnum+buffer] = el\n",
    "    images = Field(np.asarray(outgrid).ravel(), pyramid_grid)\n",
    "    image = images.shaped\n",
    "    flat_sub_images = [image[buffer:sps+buffer, buffer:sps+buffer], \n",
    "                  image[(N-buffer-sps-1):(N-buffer-1), buffer:sps+buffer],\n",
    "                  image[buffer:sps+buffer, (N-buffer-sps-1):(N-buffer-1)], \n",
    "                  image[(N-buffer-sps-1):(N-buffer-1), (N-buffer-sps-1):(N-buffer-1)]]\n",
    "    for count, img in enumerate(flat_sub_images):\n",
    "        img = img.ravel()\n",
    "        img.grid = subimage_grid\n",
    "        flat_sub_images[count] = img\n",
    "    return estimate(keck_pyramid_estimator, flat_sub_images)"
   ]
  },
  {
   "cell_type": "code",
   "execution_count": null,
   "metadata": {},
   "outputs": [],
   "source": [
    "flat_res, flat_x, flat_y = makeflatwfslopes()\n",
    "imshow_field(flat_x)\n",
    "plt.show()\n",
    "imshow_field(flat_y)\n",
    "plt.show()"
   ]
  },
  {
   "cell_type": "code",
   "execution_count": null,
   "metadata": {},
   "outputs": [],
   "source": [
    "imshow_field(- flat_x + x_slopes)\n",
    "plt.colorbar()\n",
    "plt.show()"
   ]
  },
  {
   "cell_type": "code",
   "execution_count": null,
   "metadata": {},
   "outputs": [],
   "source": [
    "imshow_field(y_slopes - flat_y)\n",
    "plt.colorbar()\n",
    "plt.show()"
   ]
  },
  {
   "cell_type": "code",
   "execution_count": null,
   "metadata": {
    "collapsed": true
   },
   "outputs": [],
   "source": [
    "M = np.array((np.asarray(x_slopes - flat_x), np.asarray(y_slopes - flat_y)))\n",
    "M_inv = inverse_tikhonov(M, 1e-3)"
   ]
  },
  {
   "cell_type": "code",
   "execution_count": null,
   "metadata": {},
   "outputs": [],
   "source": [
    "from skimage.transform import resize\n",
    "q = x_slopes - flat_x\n",
    "q.shape = (sps, sps)\n",
    "q = resize(q, (N, N))\n",
    "q = Field(q.ravel(), pupil_grid)\n",
    "#s = M.dot(x_resized.intensity)\n",
    "corrected = q + aberrated.phase\n",
    "imshow_field(corrected)\n",
    "plt.show()"
   ]
  },
  {
   "cell_type": "code",
   "execution_count": 2,
   "metadata": {},
   "outputs": [],
   "source": [
    "from hcipy import *\n",
    "import numpy as np\n",
    "from matplotlib import pyplot as plt\n",
    "aberration_mode_basis = []\n",
    "N = 128\n",
    "D = 10\n",
    "aperture = circular_aperture(D)\n",
    "pupil_grid = make_pupil_grid(N, D)\n",
    "for i in range(N):\n",
    "    for j in range(N):\n",
    "        wf = Wavefront(aperture(pupil_grid))\n",
    "        wf.electric_field.shape = (N, N)\n",
    "        l = wf.electric_field.tolist()\n",
    "        if np.real(l[i][j]) > 0:\n",
    "            l[i][j] = 0\n",
    "            wf.electric_field = Field(np.asarray(l).ravel(), wf.grid)\n",
    "            aberration_mode_basis.append(wf)"
   ]
  },
  {
   "cell_type": "code",
   "execution_count": null,
   "metadata": {},
   "outputs": [],
   "source": [
    "type(aberration_mode_basis[0])"
   ]
  },
  {
   "cell_type": "code",
   "execution_count": 3,
   "metadata": {
    "scrolled": false
   },
   "outputs": [
    {
     "ename": "NameError",
     "evalue": "name 'aberrated' is not defined",
     "output_type": "error",
     "traceback": [
      "\u001b[0;31m---------------------------------------------------------------------------\u001b[0m",
      "\u001b[0;31mNameError\u001b[0m                                 Traceback (most recent call last)",
      "\u001b[0;32m<ipython-input-3-e21d93035570>\u001b[0m in \u001b[0;36m<module>\u001b[0;34m()\u001b[0m\n\u001b[1;32m      5\u001b[0m \u001b[0maperturelist\u001b[0m\u001b[0;34m.\u001b[0m\u001b[0mshape\u001b[0m \u001b[0;34m=\u001b[0m \u001b[0;34m(\u001b[0m\u001b[0mN\u001b[0m\u001b[0;34m,\u001b[0m \u001b[0mN\u001b[0m\u001b[0;34m)\u001b[0m\u001b[0;34m\u001b[0m\u001b[0m\n\u001b[1;32m      6\u001b[0m \u001b[0maperturelist\u001b[0m \u001b[0;34m=\u001b[0m \u001b[0maperturelist\u001b[0m\u001b[0;34m.\u001b[0m\u001b[0mtolist\u001b[0m\u001b[0;34m(\u001b[0m\u001b[0;34m)\u001b[0m\u001b[0;34m\u001b[0m\u001b[0m\n\u001b[0;32m----> 7\u001b[0;31m \u001b[0maberratedlist\u001b[0m \u001b[0;34m=\u001b[0m \u001b[0maberrated\u001b[0m\u001b[0;34m.\u001b[0m\u001b[0mintensity\u001b[0m\u001b[0;34m.\u001b[0m\u001b[0mcopy\u001b[0m\u001b[0;34m(\u001b[0m\u001b[0;34m)\u001b[0m\u001b[0;34m\u001b[0m\u001b[0m\n\u001b[0m\u001b[1;32m      8\u001b[0m \u001b[0maberratedlist\u001b[0m\u001b[0;34m.\u001b[0m\u001b[0mshape\u001b[0m \u001b[0;34m=\u001b[0m \u001b[0;34m(\u001b[0m\u001b[0mN\u001b[0m\u001b[0;34m,\u001b[0m \u001b[0mN\u001b[0m\u001b[0;34m)\u001b[0m\u001b[0;34m\u001b[0m\u001b[0m\n\u001b[1;32m      9\u001b[0m \u001b[0maberratedlist\u001b[0m \u001b[0;34m=\u001b[0m \u001b[0maberratedlist\u001b[0m\u001b[0;34m.\u001b[0m\u001b[0mtolist\u001b[0m\u001b[0;34m(\u001b[0m\u001b[0;34m)\u001b[0m\u001b[0;34m\u001b[0m\u001b[0m\n",
      "\u001b[0;31mNameError\u001b[0m: name 'aberrated' is not defined"
     ]
    }
   ],
   "source": [
    "'''\n",
    "For each pixel on 128x128, check if the aperture is 0, and if it's not then write the pixel value to a new list\n",
    "'''\n",
    "wf = Wavefront(keck_aperture(pupil_grid))\n",
    "\n",
    "aperturelist = aperture(pupil_grid)\n",
    "aperturelist.shape = (N, N)\n",
    "aperturelist = aperturelist.tolist()\n",
    "aberratedlist = aberrated.intensity.copy()\n",
    "aberratedlist.shape = (N, N)\n",
    "aberratedlist = aberratedlist.tolist()\n",
    "aberration_modes = []\n",
    "for i in range(N):\n",
    "    for j in range(N):\n",
    "        if aperturelist[i][j] != 0:\n",
    "            aberration_modes.append(aberratedlist[i][j])\n",
    "pyramid_output_basis = []\n",
    "for index, x in enumerate(aberration_mode_basis):\n",
    "    if index % 100 == 0:\n",
    "        print(index)\n",
    "    pyramid_output_basis.append(keck_pyramid.forward(x))\n",
    "sub_images_basis = [get_sub_images(x) for x in pyramid_output_basis]"
   ]
  },
  {
   "cell_type": "code",
   "execution_count": null,
   "metadata": {},
   "outputs": [],
   "source": [
    "imshow_field(pyramid_output_basis[1].intensity, make_pupil_grid(107))\n",
    "plt.show()"
   ]
  },
  {
   "cell_type": "code",
   "execution_count": null,
   "metadata": {},
   "outputs": [],
   "source": [
    "def new_get_sub_images(intensity):\n",
    "    buffer = 0\n",
    "    sps = 40\n",
    "    images = Field(np.asarray(intensity).ravel(), pyramid_grid)\n",
    "    images.shape = (107, 107)\n",
    "    image = images\n",
    "    sub_images = [image[buffer:sps+buffer, buffer:sps+buffer], \n",
    "                  image[(N-buffer-sps-1):(N-buffer-1), buffer:sps+buffer],\n",
    "                  image[buffer:sps+buffer, (N-buffer-sps-1):(N-buffer-1)], \n",
    "                  image[(N-buffer-sps-1):(N-buffer-1), (N-buffer-sps-1):(N-buffer-1)]]\n",
    "    subimage_grid = make_pupil_grid(sps)\n",
    "    for count, img in enumerate(sub_images):\n",
    "        img = img.ravel()\n",
    "        img.grid = subimage_grid\n",
    "        sub_images[count] = img\n",
    "    return sub_images\n",
    "\n",
    "new_get_sub_images(pyramid_output_basis[1].intensity)"
   ]
  },
  {
   "cell_type": "code",
   "execution_count": null,
   "metadata": {},
   "outputs": [],
   "source": [
    "sub_images_basis = []\n",
    "for index, x in enumerate(pyramid_output_basis):\n",
    "    if index % 1000 == 0:\n",
    "        print(index)\n",
    "    sub_images_basis.append(new_get_sub_images(x.intensity))"
   ]
  },
  {
   "cell_type": "code",
   "execution_count": null,
   "metadata": {},
   "outputs": [],
   "source": [
    "sub_image_basis = np.asarray(sub_images_basis)\n",
    "print(sub_image_basis.shape)"
   ]
  },
  {
   "cell_type": "code",
   "execution_count": null,
   "metadata": {},
   "outputs": [],
   "source": [
    "print(sub_images_basis)"
   ]
  },
  {
   "cell_type": "code",
   "execution_count": null,
   "metadata": {
    "collapsed": true
   },
   "outputs": [],
   "source": []
  }
 ],
 "metadata": {
  "kernelspec": {
   "display_name": "Python 3",
   "language": "python",
   "name": "python3"
  },
  "language_info": {
   "codemirror_mode": {
    "name": "ipython",
    "version": 3
   },
   "file_extension": ".py",
   "mimetype": "text/x-python",
   "name": "python",
   "nbconvert_exporter": "python",
   "pygments_lexer": "ipython3",
   "version": "3.6.3"
  }
 },
 "nbformat": 4,
 "nbformat_minor": 2
}
